{
 "cells": [
  {
   "cell_type": "code",
   "execution_count": 12,
   "id": "037ba7d5-e9c1-490f-8f7c-6c7338e6d5ee",
   "metadata": {
    "tags": []
   },
   "outputs": [],
   "source": [
    "import numpy as np\n",
    "from skopt import BayesSearchCV\n",
    "from sklearn.model_selection import train_test_split\n",
    "from sklearn.ensemble import RandomForestClassifier\n",
    "from sklearn.datasets import load_digits\n",
    "\n",
    "import os\n",
    "import pandas as pd\n",
    "import torch\n",
    "from torch.optim import AdamW, lr_scheduler\n",
    "from torch.utils.data import DataLoader\n",
    "from tqdm import tqdm\n",
    "from utils.data import GeneFeatureDataset, seq_concat, select_cols\n",
    "from utils.model import GeneInteractionModel\n",
    "from utils.loss import BalancedMSELoss\n",
    "\n",
    "import optuna\n",
    "from sklearn.model_selection import train_test_split\n",
    "from sklearn.model_selection import KFold\n",
    "from sklearn.model_selection import StratifiedKFold\n",
    "from itertools import combinations\n",
    "\n",
    "pd.options.mode.chained_assignment = None  # default='warn'"
   ]
  },
  {
   "cell_type": "code",
   "execution_count": 13,
   "id": "a4e862cf-732e-4e84-94f3-cab49b0aae9f",
   "metadata": {
    "tags": []
   },
   "outputs": [
    {
     "name": "stdout",
     "output_type": "stream",
     "text": [
      "cuda:0\n"
     ]
    }
   ],
   "source": [
    "device = 'cuda:0' if torch.cuda.is_available() else 'cpu'\n",
    "print(device)"
   ]
  },
  {
   "cell_type": "markdown",
   "id": "2f258800-b651-4bd5-a839-96788ee034ad",
   "metadata": {},
   "source": [
    "# Create test/train splits for 5 models"
   ]
  },
  {
   "cell_type": "code",
   "execution_count": 14,
   "id": "0ac3127b-8768-43da-b963-8a135dfcda38",
   "metadata": {
    "tags": []
   },
   "outputs": [
    {
     "data": {
      "text/html": [
       "<div>\n",
       "<style scoped>\n",
       "    .dataframe tbody tr th:only-of-type {\n",
       "        vertical-align: middle;\n",
       "    }\n",
       "\n",
       "    .dataframe tbody tr th {\n",
       "        vertical-align: top;\n",
       "    }\n",
       "\n",
       "    .dataframe thead th {\n",
       "        text-align: right;\n",
       "    }\n",
       "</style>\n",
       "<table border=\"1\" class=\"dataframe\">\n",
       "  <thead>\n",
       "    <tr style=\"text-align: right;\">\n",
       "      <th></th>\n",
       "      <th>gene</th>\n",
       "      <th>ID</th>\n",
       "      <th>WT74_On</th>\n",
       "      <th>Edited74_On</th>\n",
       "      <th>PBSlen</th>\n",
       "      <th>RTlen</th>\n",
       "      <th>RT-PBSlen</th>\n",
       "      <th>Edit_pos</th>\n",
       "      <th>Edit_len</th>\n",
       "      <th>RHA_len</th>\n",
       "      <th>...</th>\n",
       "      <th>nGCcnt1</th>\n",
       "      <th>nGCcnt2</th>\n",
       "      <th>nGCcnt3</th>\n",
       "      <th>fGCcont1</th>\n",
       "      <th>fGCcont2</th>\n",
       "      <th>fGCcont3</th>\n",
       "      <th>MFE3</th>\n",
       "      <th>MFE4</th>\n",
       "      <th>DeepSpCas9_score</th>\n",
       "      <th>Measured_PE_efficiency</th>\n",
       "    </tr>\n",
       "  </thead>\n",
       "  <tbody>\n",
       "    <tr>\n",
       "      <th>0</th>\n",
       "      <td>DNMT1</td>\n",
       "      <td>EDFIG5B_DNMT1_10NT</td>\n",
       "      <td>TGGGGATTCCTGGTGCCAGAAACAGGGGTGACGGGAGGGCAGAACT...</td>\n",
       "      <td>xxxxxxxxCCTGGTGCCAGAAACAGTGGTxxxxxxxxxxxxxxxxx...</td>\n",
       "      <td>13</td>\n",
       "      <td>8</td>\n",
       "      <td>21</td>\n",
       "      <td>5</td>\n",
       "      <td>1</td>\n",
       "      <td>3</td>\n",
       "      <td>...</td>\n",
       "      <td>8</td>\n",
       "      <td>4</td>\n",
       "      <td>12</td>\n",
       "      <td>61.538462</td>\n",
       "      <td>50.000000</td>\n",
       "      <td>57.142857</td>\n",
       "      <td>-1.7</td>\n",
       "      <td>-1.6</td>\n",
       "      <td>65.144363</td>\n",
       "      <td>6.410003</td>\n",
       "    </tr>\n",
       "    <tr>\n",
       "      <th>1</th>\n",
       "      <td>DNMT1</td>\n",
       "      <td>EDFIG5B_DNMT1_10NT</td>\n",
       "      <td>TGGGGATTCCTGGTGCCAGAAACAGGGGTGACGGGAGGGCAGAACT...</td>\n",
       "      <td>xxxxxxxxCCTGGTGCCAGAAACAGTGGTGxxxxxxxxxxxxxxxx...</td>\n",
       "      <td>13</td>\n",
       "      <td>9</td>\n",
       "      <td>22</td>\n",
       "      <td>5</td>\n",
       "      <td>1</td>\n",
       "      <td>4</td>\n",
       "      <td>...</td>\n",
       "      <td>8</td>\n",
       "      <td>5</td>\n",
       "      <td>13</td>\n",
       "      <td>61.538462</td>\n",
       "      <td>55.555556</td>\n",
       "      <td>59.090909</td>\n",
       "      <td>-1.7</td>\n",
       "      <td>-1.6</td>\n",
       "      <td>65.144363</td>\n",
       "      <td>0.919506</td>\n",
       "    </tr>\n",
       "    <tr>\n",
       "      <th>2</th>\n",
       "      <td>DNMT1</td>\n",
       "      <td>EDFIG5B_DNMT1_10NT</td>\n",
       "      <td>TGGGGATTCCTGGTGCCAGAAACAGGGGTGACGGGAGGGCAGAACT...</td>\n",
       "      <td>xxxxxxxxCCTGGTGCCAGAAACAGTGGTGAxxxxxxxxxxxxxxx...</td>\n",
       "      <td>13</td>\n",
       "      <td>10</td>\n",
       "      <td>23</td>\n",
       "      <td>5</td>\n",
       "      <td>1</td>\n",
       "      <td>5</td>\n",
       "      <td>...</td>\n",
       "      <td>8</td>\n",
       "      <td>5</td>\n",
       "      <td>13</td>\n",
       "      <td>61.538462</td>\n",
       "      <td>50.000000</td>\n",
       "      <td>56.521739</td>\n",
       "      <td>-1.7</td>\n",
       "      <td>-1.6</td>\n",
       "      <td>65.144363</td>\n",
       "      <td>5.100177</td>\n",
       "    </tr>\n",
       "    <tr>\n",
       "      <th>3</th>\n",
       "      <td>DNMT1</td>\n",
       "      <td>EDFIG5B_DNMT1_10NT</td>\n",
       "      <td>TGGGGATTCCTGGTGCCAGAAACAGGGGTGACGGGAGGGCAGAACT...</td>\n",
       "      <td>xxxxxxxxCCTGGTGCCAGAAACAGTGGTGACxxxxxxxxxxxxxx...</td>\n",
       "      <td>13</td>\n",
       "      <td>11</td>\n",
       "      <td>24</td>\n",
       "      <td>5</td>\n",
       "      <td>1</td>\n",
       "      <td>6</td>\n",
       "      <td>...</td>\n",
       "      <td>8</td>\n",
       "      <td>6</td>\n",
       "      <td>14</td>\n",
       "      <td>61.538462</td>\n",
       "      <td>54.545455</td>\n",
       "      <td>58.333333</td>\n",
       "      <td>-1.7</td>\n",
       "      <td>-1.6</td>\n",
       "      <td>65.144363</td>\n",
       "      <td>9.992335</td>\n",
       "    </tr>\n",
       "    <tr>\n",
       "      <th>4</th>\n",
       "      <td>DNMT1</td>\n",
       "      <td>EDFIG5B_DNMT1_10NT</td>\n",
       "      <td>TGGGGATTCCTGGTGCCAGAAACAGGGGTGACGGGAGGGCAGAACT...</td>\n",
       "      <td>xxxxxxxxCCTGGTGCCAGAAACAGTGGTGACGxxxxxxxxxxxxx...</td>\n",
       "      <td>13</td>\n",
       "      <td>12</td>\n",
       "      <td>25</td>\n",
       "      <td>5</td>\n",
       "      <td>1</td>\n",
       "      <td>7</td>\n",
       "      <td>...</td>\n",
       "      <td>8</td>\n",
       "      <td>7</td>\n",
       "      <td>15</td>\n",
       "      <td>61.538462</td>\n",
       "      <td>58.333333</td>\n",
       "      <td>60.000000</td>\n",
       "      <td>-1.7</td>\n",
       "      <td>-1.6</td>\n",
       "      <td>65.144363</td>\n",
       "      <td>3.479796</td>\n",
       "    </tr>\n",
       "    <tr>\n",
       "      <th>...</th>\n",
       "      <td>...</td>\n",
       "      <td>...</td>\n",
       "      <td>...</td>\n",
       "      <td>...</td>\n",
       "      <td>...</td>\n",
       "      <td>...</td>\n",
       "      <td>...</td>\n",
       "      <td>...</td>\n",
       "      <td>...</td>\n",
       "      <td>...</td>\n",
       "      <td>...</td>\n",
       "      <td>...</td>\n",
       "      <td>...</td>\n",
       "      <td>...</td>\n",
       "      <td>...</td>\n",
       "      <td>...</td>\n",
       "      <td>...</td>\n",
       "      <td>...</td>\n",
       "      <td>...</td>\n",
       "      <td>...</td>\n",
       "      <td>...</td>\n",
       "    </tr>\n",
       "    <tr>\n",
       "      <th>194</th>\n",
       "      <td>RNF2</td>\n",
       "      <td>FIG2A_PE2_RNF2_10</td>\n",
       "      <td>GGCAGTCATCTTAGTCATTACCTGAGGTGTTCGTTGTAACTCATAT...</td>\n",
       "      <td>xxxxxxCATCTTAGTCATTACATGAGGTGTTCxxxxxxxxxxxxxx...</td>\n",
       "      <td>15</td>\n",
       "      <td>11</td>\n",
       "      <td>26</td>\n",
       "      <td>1</td>\n",
       "      <td>1</td>\n",
       "      <td>10</td>\n",
       "      <td>...</td>\n",
       "      <td>5</td>\n",
       "      <td>5</td>\n",
       "      <td>10</td>\n",
       "      <td>33.333333</td>\n",
       "      <td>45.454545</td>\n",
       "      <td>38.461538</td>\n",
       "      <td>-1.1</td>\n",
       "      <td>0.0</td>\n",
       "      <td>52.229725</td>\n",
       "      <td>3.630080</td>\n",
       "    </tr>\n",
       "    <tr>\n",
       "      <th>195</th>\n",
       "      <td>RNF2</td>\n",
       "      <td>FIG2A_PE2_RNF2_10</td>\n",
       "      <td>GGCAGTCATCTTAGTCATTACCTGAGGTGTTCGTTGTAACTCATAT...</td>\n",
       "      <td>xxxxxxCATCTTAGTCATTACATGAGGTGTTCxxxxxxxxxxxxxx...</td>\n",
       "      <td>15</td>\n",
       "      <td>11</td>\n",
       "      <td>26</td>\n",
       "      <td>1</td>\n",
       "      <td>1</td>\n",
       "      <td>10</td>\n",
       "      <td>...</td>\n",
       "      <td>5</td>\n",
       "      <td>5</td>\n",
       "      <td>10</td>\n",
       "      <td>33.333333</td>\n",
       "      <td>45.454545</td>\n",
       "      <td>38.461538</td>\n",
       "      <td>-1.1</td>\n",
       "      <td>0.0</td>\n",
       "      <td>52.229725</td>\n",
       "      <td>6.989605</td>\n",
       "    </tr>\n",
       "    <tr>\n",
       "      <th>196</th>\n",
       "      <td>RNF2</td>\n",
       "      <td>FIG2A_PE2_RNF2_10</td>\n",
       "      <td>GGCAGTCATCTTAGTCATTACCTGAGGTGTTCGTTGTAACTCATAT...</td>\n",
       "      <td>xxxxxTCATCTTAGTCATTACATGAGGTGTTCxxxxxxxxxxxxxx...</td>\n",
       "      <td>16</td>\n",
       "      <td>11</td>\n",
       "      <td>27</td>\n",
       "      <td>1</td>\n",
       "      <td>1</td>\n",
       "      <td>10</td>\n",
       "      <td>...</td>\n",
       "      <td>5</td>\n",
       "      <td>5</td>\n",
       "      <td>10</td>\n",
       "      <td>31.250000</td>\n",
       "      <td>45.454545</td>\n",
       "      <td>37.037037</td>\n",
       "      <td>-1.6</td>\n",
       "      <td>0.0</td>\n",
       "      <td>52.229725</td>\n",
       "      <td>3.022388</td>\n",
       "    </tr>\n",
       "    <tr>\n",
       "      <th>197</th>\n",
       "      <td>RNF2</td>\n",
       "      <td>FIG2A_PE2_RNF2_10</td>\n",
       "      <td>GGCAGTCATCTTAGTCATTACCTGAGGTGTTCGTTGTAACTCATAT...</td>\n",
       "      <td>xxxxGTCATCTTAGTCATTACATGAGGTGTTCxxxxxxxxxxxxxx...</td>\n",
       "      <td>17</td>\n",
       "      <td>11</td>\n",
       "      <td>28</td>\n",
       "      <td>1</td>\n",
       "      <td>1</td>\n",
       "      <td>10</td>\n",
       "      <td>...</td>\n",
       "      <td>6</td>\n",
       "      <td>5</td>\n",
       "      <td>11</td>\n",
       "      <td>35.294118</td>\n",
       "      <td>45.454545</td>\n",
       "      <td>39.285714</td>\n",
       "      <td>-1.5</td>\n",
       "      <td>0.0</td>\n",
       "      <td>52.229725</td>\n",
       "      <td>2.146368</td>\n",
       "    </tr>\n",
       "    <tr>\n",
       "      <th>198</th>\n",
       "      <td>RNF2</td>\n",
       "      <td>FIG2A_PE2_RNF2_10</td>\n",
       "      <td>GGCAGTCATCTTAGTCATTACCTGAGGTGTTCGTTGTAACTCATAT...</td>\n",
       "      <td>xxxxxxCATCTTAGTCATTACATGAGGTGTTxxxxxxxxxxxxxxx...</td>\n",
       "      <td>15</td>\n",
       "      <td>10</td>\n",
       "      <td>25</td>\n",
       "      <td>1</td>\n",
       "      <td>1</td>\n",
       "      <td>9</td>\n",
       "      <td>...</td>\n",
       "      <td>5</td>\n",
       "      <td>4</td>\n",
       "      <td>9</td>\n",
       "      <td>33.333333</td>\n",
       "      <td>40.000000</td>\n",
       "      <td>36.000000</td>\n",
       "      <td>-0.2</td>\n",
       "      <td>0.0</td>\n",
       "      <td>52.229725</td>\n",
       "      <td>6.623650</td>\n",
       "    </tr>\n",
       "  </tbody>\n",
       "</table>\n",
       "<p>199 rows × 29 columns</p>\n",
       "</div>"
      ],
      "text/plain": [
       "      gene                  ID  \\\n",
       "0    DNMT1  EDFIG5B_DNMT1_10NT   \n",
       "1    DNMT1  EDFIG5B_DNMT1_10NT   \n",
       "2    DNMT1  EDFIG5B_DNMT1_10NT   \n",
       "3    DNMT1  EDFIG5B_DNMT1_10NT   \n",
       "4    DNMT1  EDFIG5B_DNMT1_10NT   \n",
       "..     ...                 ...   \n",
       "194   RNF2   FIG2A_PE2_RNF2_10   \n",
       "195   RNF2   FIG2A_PE2_RNF2_10   \n",
       "196   RNF2   FIG2A_PE2_RNF2_10   \n",
       "197   RNF2   FIG2A_PE2_RNF2_10   \n",
       "198   RNF2   FIG2A_PE2_RNF2_10   \n",
       "\n",
       "                                               WT74_On  \\\n",
       "0    TGGGGATTCCTGGTGCCAGAAACAGGGGTGACGGGAGGGCAGAACT...   \n",
       "1    TGGGGATTCCTGGTGCCAGAAACAGGGGTGACGGGAGGGCAGAACT...   \n",
       "2    TGGGGATTCCTGGTGCCAGAAACAGGGGTGACGGGAGGGCAGAACT...   \n",
       "3    TGGGGATTCCTGGTGCCAGAAACAGGGGTGACGGGAGGGCAGAACT...   \n",
       "4    TGGGGATTCCTGGTGCCAGAAACAGGGGTGACGGGAGGGCAGAACT...   \n",
       "..                                                 ...   \n",
       "194  GGCAGTCATCTTAGTCATTACCTGAGGTGTTCGTTGTAACTCATAT...   \n",
       "195  GGCAGTCATCTTAGTCATTACCTGAGGTGTTCGTTGTAACTCATAT...   \n",
       "196  GGCAGTCATCTTAGTCATTACCTGAGGTGTTCGTTGTAACTCATAT...   \n",
       "197  GGCAGTCATCTTAGTCATTACCTGAGGTGTTCGTTGTAACTCATAT...   \n",
       "198  GGCAGTCATCTTAGTCATTACCTGAGGTGTTCGTTGTAACTCATAT...   \n",
       "\n",
       "                                           Edited74_On  PBSlen  RTlen  \\\n",
       "0    xxxxxxxxCCTGGTGCCAGAAACAGTGGTxxxxxxxxxxxxxxxxx...      13      8   \n",
       "1    xxxxxxxxCCTGGTGCCAGAAACAGTGGTGxxxxxxxxxxxxxxxx...      13      9   \n",
       "2    xxxxxxxxCCTGGTGCCAGAAACAGTGGTGAxxxxxxxxxxxxxxx...      13     10   \n",
       "3    xxxxxxxxCCTGGTGCCAGAAACAGTGGTGACxxxxxxxxxxxxxx...      13     11   \n",
       "4    xxxxxxxxCCTGGTGCCAGAAACAGTGGTGACGxxxxxxxxxxxxx...      13     12   \n",
       "..                                                 ...     ...    ...   \n",
       "194  xxxxxxCATCTTAGTCATTACATGAGGTGTTCxxxxxxxxxxxxxx...      15     11   \n",
       "195  xxxxxxCATCTTAGTCATTACATGAGGTGTTCxxxxxxxxxxxxxx...      15     11   \n",
       "196  xxxxxTCATCTTAGTCATTACATGAGGTGTTCxxxxxxxxxxxxxx...      16     11   \n",
       "197  xxxxGTCATCTTAGTCATTACATGAGGTGTTCxxxxxxxxxxxxxx...      17     11   \n",
       "198  xxxxxxCATCTTAGTCATTACATGAGGTGTTxxxxxxxxxxxxxxx...      15     10   \n",
       "\n",
       "     RT-PBSlen  Edit_pos  Edit_len  RHA_len  ...  nGCcnt1  nGCcnt2  nGCcnt3  \\\n",
       "0           21         5         1        3  ...        8        4       12   \n",
       "1           22         5         1        4  ...        8        5       13   \n",
       "2           23         5         1        5  ...        8        5       13   \n",
       "3           24         5         1        6  ...        8        6       14   \n",
       "4           25         5         1        7  ...        8        7       15   \n",
       "..         ...       ...       ...      ...  ...      ...      ...      ...   \n",
       "194         26         1         1       10  ...        5        5       10   \n",
       "195         26         1         1       10  ...        5        5       10   \n",
       "196         27         1         1       10  ...        5        5       10   \n",
       "197         28         1         1       10  ...        6        5       11   \n",
       "198         25         1         1        9  ...        5        4        9   \n",
       "\n",
       "      fGCcont1   fGCcont2   fGCcont3  MFE3  MFE4  DeepSpCas9_score  \\\n",
       "0    61.538462  50.000000  57.142857  -1.7  -1.6         65.144363   \n",
       "1    61.538462  55.555556  59.090909  -1.7  -1.6         65.144363   \n",
       "2    61.538462  50.000000  56.521739  -1.7  -1.6         65.144363   \n",
       "3    61.538462  54.545455  58.333333  -1.7  -1.6         65.144363   \n",
       "4    61.538462  58.333333  60.000000  -1.7  -1.6         65.144363   \n",
       "..         ...        ...        ...   ...   ...               ...   \n",
       "194  33.333333  45.454545  38.461538  -1.1   0.0         52.229725   \n",
       "195  33.333333  45.454545  38.461538  -1.1   0.0         52.229725   \n",
       "196  31.250000  45.454545  37.037037  -1.6   0.0         52.229725   \n",
       "197  35.294118  45.454545  39.285714  -1.5   0.0         52.229725   \n",
       "198  33.333333  40.000000  36.000000  -0.2   0.0         52.229725   \n",
       "\n",
       "     Measured_PE_efficiency  \n",
       "0                  6.410003  \n",
       "1                  0.919506  \n",
       "2                  5.100177  \n",
       "3                  9.992335  \n",
       "4                  3.479796  \n",
       "..                      ...  \n",
       "194                3.630080  \n",
       "195                6.989605  \n",
       "196                3.022388  \n",
       "197                2.146368  \n",
       "198                6.623650  \n",
       "\n",
       "[199 rows x 29 columns]"
      ]
     },
     "execution_count": 14,
     "metadata": {},
     "output_type": "execute_result"
    }
   ],
   "source": [
    "finetune_data = pd.read_csv('../easy_prime/figure_rep/DeepPrime_ForFT_withGenes.csv')\n",
    "finetune_data"
   ]
  },
  {
   "cell_type": "markdown",
   "id": "38404d05-9baf-4a5b-8b5f-f6018444f118",
   "metadata": {},
   "source": [
    "### At the end of this section, you have 5 different splits of test/train data. In each of the test sets, there is roughly equal representation across all the 8 genes. Additionally, if you concatenate all the test sets together across all 5 models, you will get all the 199 points. Additionally, each test/train pair contains all 199 points."
   ]
  },
  {
   "cell_type": "code",
   "execution_count": 24,
   "id": "9bb8549d-42e0-4020-95fa-415e5391a460",
   "metadata": {
    "tags": []
   },
   "outputs": [
    {
     "name": "stdout",
     "output_type": "stream",
     "text": [
      "{'DNMT1': [0, 1, 2, 3, 4, 5, 6, 7, 8, 9, 10, 11, 12, 13, 14, 15, 16, 17, 18, 19, 20, 21, 22, 23], 'EMX1': [24, 50, 80, 81, 82, 83, 84, 85, 86, 87, 88, 89, 90, 93, 145, 146, 147, 148, 149, 150, 151, 152, 153, 154, 177], 'HEK3': [25, 49, 77, 92, 142, 144, 156, 157, 158, 159, 160, 161, 162, 163, 164, 165, 166, 167, 168, 169, 170, 171, 172, 173, 174, 175, 176], 'FANCF': [26, 27, 28, 29, 30, 31, 32, 33, 34, 35, 36, 37, 38, 39, 40, 41, 42, 43, 44, 45, 46, 47, 48, 51, 52, 78, 91, 143], 'VEGFA': [53, 54, 55, 56, 57, 58, 59, 60, 61, 62, 63, 64, 65, 66, 67, 68, 69, 70, 71, 72, 73, 74, 75, 76], 'RNF2': [79, 155, 178, 179, 180, 181, 182, 183, 184, 185, 186, 187, 188, 189, 190, 191, 192, 193, 194, 195, 196, 197, 198], 'HEK4': [94, 95, 96, 97, 98, 99, 100, 101, 102, 103, 104, 105, 106, 107, 108, 109, 110, 111, 112, 113, 114, 115, 116, 117], 'RUNX1': [118, 119, 120, 121, 122, 123, 124, 125, 126, 127, 128, 129, 130, 131, 132, 133, 134, 135, 136, 137, 138, 139, 140, 141]}\n"
     ]
    }
   ],
   "source": [
    "# genes = ['RNF2', 'EMX1', 'VEGFA', 'HEK3', 'FANCF', 'DNMT1', 'HEK4', 'RUNX1']\n",
    "# gene_indices = {}\n",
    "\n",
    "# # Iterate through the dataset to collect gene indices\n",
    "# for index, row in finetune_data.iterrows():\n",
    "#     gene_name = row['gene']\n",
    "    \n",
    "#     # If gene name is already in the dictionary, append index to its list\n",
    "#     if gene_name in gene_indices:\n",
    "#         gene_indices[gene_name].append(index)\n",
    "#     # Otherwise, create a new entry with gene name as key and list containing index as value\n",
    "#     else:\n",
    "#         gene_indices[gene_name] = [index]\n",
    "\n",
    "# # Print the gene_indices dictionary\n",
    "# print(gene_indices)"
   ]
  },
  {
   "cell_type": "code",
   "execution_count": 32,
   "id": "da46c726-d3f1-476a-ba1b-482f5733bf75",
   "metadata": {
    "tags": []
   },
   "outputs": [],
   "source": [
    "gene_indices = {'RNF2': [79, 155, 178, 179, 180, 181, 182, 183, 184, 185, 186, 187, 188, 189, 190, 191, 192, 193, 194, 195, 196, 197, 198], 'EMX1': [24, 50, 80, 81, 82, 83, 84, 85, 86, 87, 88, 89, 90, 93, 145, 146, 147, 148, 149, 150, 151, 152, 153, 154, 177], 'VEGFA': [53, 54, 55, 56, 57, 58, 59, 60, 61, 62, 63, 64, 65, 66, 67, 68, 69, 70, 71, 72, 73, 74, 75, 76], 'HEK3': [25, 49, 77, 92, 142, 144, 156, 157, 158, 159, 160, 161, 162, 163, 164, 165, 166, 167, 168, 169, 170, 171, 172, 173, 174, 175, 176], 'FANCF': [26, 27, 28, 29, 30, 31, 32, 33, 34, 35, 36, 37, 38, 39, 40, 41, 42, 43, 44, 45, 46, 47, 48, 51, 52, 78, 91, 143], 'DNMT1': [0, 1, 2, 3, 4, 5, 6, 7, 8, 9, 10, 11, 12, 13, 14, 15, 16, 17, 18, 19, 20, 21, 22, 23], 'HEK4': [94, 95, 96, 97, 98, 99, 100, 101, 102, 103, 104, 105, 106, 107, 108, 109, 110, 111, 112, 113, 114, 115, 116, 117], 'RUNX1': [118, 119, 120, 121, 122, 123, 124, 125, 126, 127, 128, 129, 130, 131, 132, 133, 134, 135, 136, 137, 138, 139, 140, 141]}"
   ]
  },
  {
   "cell_type": "code",
   "execution_count": 33,
   "id": "62d94fe7-aa16-4840-97e6-698fc3842ab9",
   "metadata": {
    "tags": []
   },
   "outputs": [
    {
     "name": "stdout",
     "output_type": "stream",
     "text": [
      "144 15 40\n",
      "144 15 40\n",
      "144 15 40\n",
      "144 15 40\n",
      "144 16 39\n"
     ]
    }
   ],
   "source": [
    "np.random.seed(42)\n",
    "\n",
    "# Define the number of splits\n",
    "num_splits = 5\n",
    "\n",
    "# Initialize StratifiedKFold to ensure balanced splitting\n",
    "skf = StratifiedKFold(n_splits=num_splits, shuffle=True, random_state=42)\n",
    "\n",
    "# Combine all gene indices into a single list\n",
    "all_gene_indices = np.concatenate(list(gene_indices.values()))\n",
    "\n",
    "\n",
    "# Create labels for each gene based on their indices\n",
    "gene_labels = np.zeros(len(all_gene_indices))\n",
    "for i, gene_name in enumerate(gene_indices.keys()):\n",
    "    gene_labels[gene_indices[gene_name]] = i\n",
    "\n",
    "# List to store train/test splits\n",
    "train_test_splits = []\n",
    "\n",
    "# Iterate over the splits\n",
    "for train_index, test_index in skf.split(all_gene_indices, gene_labels):\n",
    "    # Initialize lists to store indices for train and test sets\n",
    "    train_indices = []\n",
    "    test_indices = []\n",
    "    \n",
    "    # Split each gene's data separately\n",
    "    for gene_name, indices in gene_indices.items():\n",
    "        \n",
    "        # Divide the indices into train and test sets\n",
    "        gene_train_index = np.intersect1d(train_index, indices)\n",
    "        gene_test_index = np.intersect1d(test_index, indices)\n",
    "        \n",
    "        # Add the indices to the respective lists\n",
    "        train_indices.extend(gene_train_index)\n",
    "        test_indices.extend(gene_test_index)\n",
    "    \n",
    "    # Shuffle the indices\n",
    "    np.random.shuffle(train_indices)\n",
    "    np.random.shuffle(test_indices)\n",
    "    \n",
    "    num_validation_indices = int(0.1 * len(train_indices))                                            # I want 10% of the indices to be used for validation\n",
    "    validation_indices = np.random.choice(train_indices, size=num_validation_indices, replace=False)  # Randomly choose 10% of the indices for validation\n",
    "    train_indices = [index for index in train_indices if index not in validation_indices]             # Remove validation indices from train_indices\n",
    "    \n",
    "\n",
    "    # Append the train/test indices split to the list\n",
    "    train_test_splits.append((train_indices, validation_indices, test_indices))\n",
    "    print(len(train_indices), len(validation_indices), len(test_indices))\n"
   ]
  },
  {
   "cell_type": "markdown",
   "id": "53730466-75ea-4701-b2f6-811db7a34086",
   "metadata": {},
   "source": [
    "### Now, for each test/train index split up, I need to:\n",
    "\n",
    "### - Take 10% of the test data for validation\n",
    "### - Create x_train, g_train, and y_train\n",
    "### - Create x_val, g_val, and y_val\n",
    "### - Create x_test, g_test, and y_test"
   ]
  },
  {
   "cell_type": "code",
   "execution_count": 34,
   "id": "8b2394d6-bd75-4fa5-b578-03eb2074db4f",
   "metadata": {
    "tags": []
   },
   "outputs": [],
   "source": [
    "def get_wrapper(split, num_model):\n",
    "    \n",
    "    # Train and test\n",
    "    train_indices = split[0]\n",
    "    validation_indices = split[1]\n",
    "    test_indices = split[2]\n",
    "    \n",
    "    #Prepare train\n",
    "    x_train, g_train, y_train = get_training(finetune_data, train_indices, num_model)\n",
    "    \n",
    "    #Prepare validation\n",
    "    x_validation, g_validation, y_validation = get_validation(finetune_data, validation_indices, num_model)\n",
    "    \n",
    "    #Prepare test\n",
    "    x_test, g_test, y_test = get_testing(finetune_data, test_indices, num_model)\n",
    "    \n",
    "    return (x_train, g_train, y_train, x_validation, g_validation, y_validation, x_test, g_test, y_test)\n",
    "    "
   ]
  },
  {
   "cell_type": "code",
   "execution_count": 35,
   "id": "5ff8e30d-c70f-4118-bdab-994d9adac485",
   "metadata": {
    "tags": []
   },
   "outputs": [],
   "source": [
    "def get_training(dataset, train_indices, num_model):\n",
    "    \n",
    "    gene_path_train = 'data/genes/' + 'endogenous_train_' + str(num_model) + '.npy'\n",
    "    \n",
    "    train_dataset = finetune_data.loc[train_indices]\n",
    "    train_dataset = train_dataset.reset_index(drop = True)  #Need to reset indices so it doesn't throw an error\n",
    "\n",
    "\n",
    "    if not os.path.isfile(gene_path_train):\n",
    "        g_train = seq_concat(train_dataset)\n",
    "        np.save(gene_path_train, g_train)\n",
    "    else:\n",
    "        g_train = np.load(gene_path_train)\n",
    "\n",
    "\n",
    "    train_features, train_target = select_cols(train_dataset)  #Trained target features \n",
    "    train_type = train_dataset.loc[:, ['type_sub', 'type_ins', 'type_del']]\n",
    "\n",
    "    mean = pd.read_csv('data/mean.csv', header=None, index_col=0)\n",
    "    std = pd.read_csv('data/std.csv', header=None, index_col=0)\n",
    "\n",
    "    mean = mean.squeeze('columns')\n",
    "    std= std.squeeze('columns')\n",
    "\n",
    "    x_train = (train_features - mean) / std\n",
    "    y_train = train_target\n",
    "    y_train = pd.concat([y_train, train_type], axis=1)\n",
    "\n",
    "    g_train = torch.tensor(g_train, dtype=torch.float32, device=device)\n",
    "    x_train = torch.tensor(x_train.to_numpy(), dtype=torch.float32, device=device)\n",
    "    y_train = torch.tensor(y_train.to_numpy(), dtype=torch.float32, device=device)\n",
    "    \n",
    "    return([x_train, g_train, y_train])"
   ]
  },
  {
   "cell_type": "code",
   "execution_count": 36,
   "id": "779342d5-6c2f-4abb-ac8c-3362938f2344",
   "metadata": {
    "tags": []
   },
   "outputs": [],
   "source": [
    "def get_validation(dataset, validation_indices, num_model):\n",
    "    \n",
    "    gene_path_validation = 'data/genes/' + 'endogenous_val_' + str(num_model) + '.npy'\n",
    "    \n",
    "    validation_dataset = finetune_data.loc[validation_indices]\n",
    "    validation_dataset = validation_dataset.reset_index(drop = True)  #Need to reset indices so it doesn't throw an error\n",
    "\n",
    "\n",
    "    if not os.path.isfile(gene_path_validation):\n",
    "        g_validation = seq_concat(validation_dataset)\n",
    "        np.save(gene_path_validation, g_validation)\n",
    "    else:\n",
    "        g_validation = np.load(gene_path_validation)\n",
    "\n",
    "\n",
    "    validation_features, validation_target = select_cols(validation_dataset)  \n",
    "    validation_type = validation_dataset.loc[:, ['type_sub', 'type_ins', 'type_del']]\n",
    "\n",
    "    mean = pd.read_csv('data/mean.csv', header=None, index_col=0)\n",
    "    std = pd.read_csv('data/std.csv', header=None, index_col=0)\n",
    "\n",
    "    mean = mean.squeeze('columns')\n",
    "    std= std.squeeze('columns')\n",
    "\n",
    "    x_validation = (validation_features - mean) / std\n",
    "    y_validation = validation_target\n",
    "    y_validation = pd.concat([y_validation, validation_type], axis=1)\n",
    "\n",
    "    g_validation = torch.tensor(g_validation, dtype=torch.float32, device=device)\n",
    "    x_validation = torch.tensor(x_validation.to_numpy(), dtype=torch.float32, device=device)\n",
    "    y_validation = torch.tensor(y_validation.to_numpy(), dtype=torch.float32, device=device)\n",
    "    \n",
    "    return([x_validation, g_validation, y_validation])"
   ]
  },
  {
   "cell_type": "code",
   "execution_count": 37,
   "id": "48b000f1-d335-407b-be88-f7a11db1ef2a",
   "metadata": {
    "tags": []
   },
   "outputs": [],
   "source": [
    "def get_testing(dataset, test_indices, num_model):\n",
    "    \n",
    "\n",
    "    gene_path_test = 'data/genes/' + 'endogenous_test' +  str(num_model) +'.npy'\n",
    "    \n",
    "    test_dataset = finetune_data.loc[test_indices]\n",
    "    test_dataset = test_dataset.reset_index(drop = True)  #Need to reset indices so it doesn't throw an error\n",
    "\n",
    "    if not os.path.isfile(gene_path_test):\n",
    "        g_test = seq_concat(test_dataset)\n",
    "        np.save(gene_path_test, g_test)\n",
    "    else:\n",
    "        g_test = np.load(gene_path_test)\n",
    "\n",
    "    test_features, test_target = select_cols(test_dataset)  #Test target features \n",
    "    test_type = test_dataset.loc[:, ['type_sub', 'type_ins', 'type_del']]\n",
    "\n",
    "    mean = pd.read_csv('data/mean.csv', header=None, index_col=0)\n",
    "    std = pd.read_csv('data/std.csv', header=None, index_col=0)\n",
    "\n",
    "    mean = mean.squeeze('columns')\n",
    "    std= std.squeeze('columns')\n",
    "\n",
    "    x_test = (test_features - mean) / std\n",
    "    y_test = test_target\n",
    "    y_test = pd.concat([y_test, test_type], axis=1)\n",
    "\n",
    "    g_test = torch.tensor(g_test, dtype=torch.float32, device=device)\n",
    "    x_test = torch.tensor(x_test.to_numpy(), dtype=torch.float32, device=device)\n",
    "    y_test = torch.tensor(y_test.to_numpy(), dtype=torch.float32, device=device)\n",
    "    \n",
    "    return([x_test, g_test, y_test])"
   ]
  },
  {
   "cell_type": "markdown",
   "id": "1a3059da-f751-4310-b42b-1738c2f89f08",
   "metadata": {},
   "source": [
    "# Hyperparameter Optimization"
   ]
  },
  {
   "cell_type": "code",
   "execution_count": 38,
   "id": "e8efe65a-daa5-4c33-83f4-d3cbaf526b88",
   "metadata": {
    "tags": []
   },
   "outputs": [],
   "source": [
    "import torch\n",
    "import torch.optim as optim\n",
    "import numpy as np\n",
    "import torch.nn.functional as F\n",
    "from torch.autograd import Variable\n",
    "from torch.utils.data import DataLoader, TensorDataset\n",
    "from tqdm import tqdm\n",
    "import optuna\n",
    "import time\n",
    "from optuna.trial import TrialState"
   ]
  },
  {
   "cell_type": "code",
   "execution_count": 39,
   "id": "873b32f2-683d-4736-b4bd-9094456d1bae",
   "metadata": {
    "tags": []
   },
   "outputs": [],
   "source": [
    "class Optuna_Trainer:\n",
    "    \n",
    "    # Initializing attributes including training and testing sets g (one-hot encoding of input sequences), x (features), and y (Measured editing efficiencies).\n",
    "    def __init__(self, model, x_train, g_train, y_train, x_y_validation, g_y_validation, y_validation): \n",
    "        self.g_train = g_train   # Training data for g\n",
    "        self.x_train = x_train   # Training data for x \n",
    "        self.y_train = y_train   # Training data for y\n",
    "        self.g_val = g_validation       # Validation data for g\n",
    "        self.x_val = x_validation       # Validation data for x\n",
    "        self.y_val = y_validation       # Validation data for y\n",
    "        self.model = model       # Call machine learning model as an attribute of the object\n",
    "        self.lr = 1e-5           # Learning rate\n",
    "        self.wd = 1e-5           # Weight decay: Weight decay should typically be same value as the learning rate\n",
    "        self.bs = 8              # Batch size \n",
    "        self.ep = 100            # Number of epochs\n",
    "        \n",
    "        # Patience represents the number of consecutive trials where the validation loss does not decrease (performance is not improved).\n",
    "        self.patience = 20       # Changing patience value to 20. \n",
    "        self.delta = 1e-4        # Delta is the threshold needed for the difference between the previous minimum loss and the validation loss.\n",
    "\n",
    "    # Set up hyperparameter search space\n",
    "    def setup_trials(self, trial):\n",
    "        \n",
    "        #Parameters that need to be searched\n",
    "        self.lr = trial.suggest_categorical(\"lr\", [1e-4,1e-3,2e-3,5e-3, 1e-2])   # Categorical values for learning rate\n",
    "        self.wd = self.lr                                                        # Assign weight decay to be the same as the learning rate\n",
    "        self.bs = trial.suggest_categorical(\"batch_size\", [8, 16, 32])           # Categorical values for batch size\n",
    "        self.ep = trial.suggest_categorical(\"num_epochs\", [50, 100, 200, 500])   # Categorical values for number of epochs\n",
    "        \n",
    "        # Fixed parameters\n",
    "        self.hs = 128                    # Hidden size\n",
    "        self.nl = 1                      # Number of GRU layers\n",
    "        self.schedule = True             # Learning rate scheduler\n",
    "        \n",
    "        # Print trial hyperparameters\n",
    "        for key, value in trial.params.items():\n",
    "            print(\"{}: {}\".format(key, value))\n",
    "    \n",
    "    # Trains the DeepPrime model based on the provided testing and training data\n",
    "    def train_model(self, trial): \n",
    "        \n",
    "        min_loss = None                   #  Stores the minimum loss, initialize with no value\n",
    "        early_stopping_counter = 0        #  Track how many consecutive epochs have occurred without improvement in the validation loss, used to prevent overfitting.\n",
    "\n",
    "        #Trial object is created when Optuna generates a study object, so it's not something to explicitly point to\n",
    "        self.setup_trials(trial) # Sets up the trial with a set of hyperparameters derived from the setup_trials function\n",
    "\n",
    "\n",
    "        # Prepare the training data to run through the model\n",
    "        train_dataset = GeneFeatureDataset(self.g_train, self.x_train, self.y_train) \n",
    "        train_loader = DataLoader(train_dataset, batch_size=self.bs, shuffle=True, drop_last=True) \n",
    "\n",
    "        # Prepare the testing and validation datasets\n",
    "        val_dataset = GeneFeatureDataset(self.g_val, self.x_val, self.y_val) \n",
    "        val_loader = DataLoader(val_dataset, batch_size=self.bs, shuffle=True) # Q: Shuffle?\n",
    "\n",
    "        optimizer = optim.AdamW(self.model.parameters(), lr=self.lr, weight_decay=self.wd)   # Sets up optimizer, I am also using AdamW\n",
    "        optimizer.zero_grad()  # Zeroes out gradients, kind of a \"hack\" where optimization is actually better when gradients are not stored\n",
    "        \n",
    "        criterion = BalancedMSELoss() # Loss function used in DeepPrime\n",
    "\n",
    "        # print(\"epoch\\ttrain_corr\\ttrain_loss\\ttrue_auc\\tpred_auc\\tval_corr\\tval_loss\\telapsed_time\")\n",
    "        for epoch in range(self.ep): # self.ep is the number of epochs, so here we are iterating through the epochs\n",
    "            \n",
    "            # Train\n",
    "            self.model.train()  # Sets model in training mode. Make sure to use self.model because model is now an attribute of the class itself.\n",
    "            \n",
    "            train_loss = []    # List that will keep track of the loss across the entire epoch\n",
    "            train_count = 0    # Number of samples processed in epoch\n",
    "    \n",
    "\n",
    "            # Works through each batch of data set up by the train_loader\n",
    "            for i, (g_batch, x_batch, y_batch) in enumerate(train_loader):\n",
    "                g_batch, x_batch, y_batch = g_batch.cuda(), x_batch.cuda(), y_batch.cuda() # We are on GPU, so move tensors to GPU\n",
    "\n",
    "                # Update values for all three tensors. Following permutations used in DeepPrime.\n",
    "                g_batch = g_batch.permute((0, 3, 1, 2))\n",
    "                x_batch = x_batch\n",
    "                y_batch = y_batch.reshape(-1, 4)\n",
    "\n",
    "\n",
    "                optimizer.zero_grad()  #Zero out gradient for each batch\n",
    "\n",
    "                output = self.model(g_batch, x_batch) # Send g and x through the model\n",
    "\n",
    "                total_loss = criterion(output, y_batch) # Calculate the loss between the model output and the actual measured efficiencies\n",
    "\n",
    "                total_loss.backward() # Computes gradients of the loss with repsect to the model parameters\n",
    "                optimizer.step()  # Applies optimization to update parameters\n",
    "\n",
    "                train_loss.append(x_batch.size(0) * total_loss.detach().cpu().numpy()) # Multiplies batch-loss by batch size to normalize for different sized batches during training\n",
    "                train_count += x_batch.size(0)  # Updates number of samples processed in the epoch\n",
    "\n",
    "            train_loss = sum(train_loss) / train_count  # train_loss now represents the average training loss across batches for the ENTIRE epoch\n",
    "\n",
    "\n",
    "            # Validation\n",
    "            self.model.eval()  # Set model in evaluation mode\n",
    "            \n",
    "            val_loss = []\n",
    "            val_count = 0\n",
    "\n",
    "            # Same as with training batches\n",
    "            for i, (g_batch, x_batch, y_batch) in enumerate(val_loader):\n",
    "                g_batch, x_batch, y_batch = g_batch.cuda(), x_batch.cuda(), y_batch.cuda()\n",
    "\n",
    "                g_batch = g_batch.permute((0, 3, 1, 2))\n",
    "                x_batch = x_batch\n",
    "                y_batch = y_batch.reshape(-1, 4)\n",
    "                \n",
    "                output = self.model(g_batch, x_batch)  #Run validation data through model\n",
    "\n",
    "                loss = criterion(output, y_batch)\n",
    "                \n",
    "                \n",
    "                val_loss.append(x_batch.size(0) * loss.detach().cpu().numpy())\n",
    "                val_count += x_batch.size(0)\n",
    "\n",
    "            val_loss = sum(val_loss) / val_count\n",
    "\n",
    "\n",
    "            # Summary of training progress\n",
    "            # print(\"{}\\t{:.4f}\\t{:.4f}\".format(epoch, train_loss, val_loss))\n",
    "\n",
    "            trial.report(val_loss, epoch) # Reports the result of the current epoch to Optuna, so Optuna can keep track of model performance throughout the trial.\n",
    "            \n",
    "\n",
    "            if min_loss is None:\n",
    "                min_loss = val_loss  \n",
    "            elif min_loss - val_loss > self.delta:                    # If the difference between the previous minimum loss and the current validation loss is greater than delta, update values\n",
    "                min_loss = val_loss                                   # Set the new minimum loss to current validation loss\n",
    "                early_stopping_counter = 0                            # Reset to 0, indicating no consecutive epochs with increasing validation loss.\n",
    "            elif min_loss - val_loss < self.delta:                    # No improvement in validation loss\n",
    "                early_stopping_counter += 1                           # Consecutive epoch for which there is no improvement on validation loss\n",
    "                if early_stopping_counter >= self.patience:           # At this point, further training is unlikely to improve/lower validation loss, so break\n",
    "                    break\n",
    "\n",
    "        if trial.should_prune():\n",
    "            raise optuna.exceptions.TrialPruned()\n",
    "\n",
    "        return val_loss # #Returns the loss across the epochs, as this is the value we want to minimize\n",
    "\n",
    "    def exec_study(self):\n",
    "        study = optuna.create_study()                      # Creates Optuna study object, maximizing correlation\n",
    "        study.optimize(self.train_model, n_trials=30)      # Runs train_model function n_trials times\n",
    "        return self.print_result(study)                    # Prints out hyperparameters used for combination that generated lowest validation loss.\n",
    "    \n",
    "    def print_result(self, study):\n",
    "        pruned_trials = study.get_trials(deepcopy=False, states=[TrialState.PRUNED])\n",
    "        complete_trials = study.get_trials(deepcopy=False, states=[TrialState.COMPLETE])\n",
    "\n",
    "        print(\"Study statistics:\")\n",
    "        print(\"Number of finished trials:\", len(study.trials))\n",
    "        print(\"Number of pruned trials:\", len(pruned_trials))\n",
    "        print(\"Number of complete trials:\", len(complete_trials))\n",
    "\n",
    "        print(\"Best trial:\")\n",
    "        best_trial = study.best_trial\n",
    "\n",
    "        print(\"Value: \", best_trial.value)\n",
    "\n",
    "        best_params = {}\n",
    "        print(\"Params:\")\n",
    "        for key, value in best_trial.params.items():\n",
    "            print(\"{}: {}\".format(key, value))\n",
    "            best_params[key] = value\n",
    "        for key, value in best_trial.user_attrs.items():\n",
    "            print(\"{}: {}\".format(key, value))\n",
    "            best_params[key] = value\n",
    "\n",
    "        return best_params\n"
   ]
  },
  {
   "cell_type": "code",
   "execution_count": 214,
   "id": "0513f736-297d-498e-aaa0-c4423c9f9b72",
   "metadata": {
    "tags": []
   },
   "outputs": [
    {
     "name": "stdout",
     "output_type": "stream",
     "text": [
      "Training Model 0\n",
      "cuda:0\n"
     ]
    },
    {
     "name": "stderr",
     "output_type": "stream",
     "text": [
      "[I 2024-02-26 16:09:16,513] A new study created in memory with name: no-name-c20b97a5-dfbb-4dab-96c6-12d43d4e6763\n"
     ]
    },
    {
     "name": "stdout",
     "output_type": "stream",
     "text": [
      "lr: 0.0001\n",
      "batch_size: 8\n",
      "num_epochs: 200\n"
     ]
    },
    {
     "name": "stderr",
     "output_type": "stream",
     "text": [
      "[I 2024-02-26 16:09:37,743] Trial 0 finished with value: 1.1988555431365966 and parameters: {'lr': 0.0001, 'batch_size': 8, 'num_epochs': 200}. Best is trial 0 with value: 1.1988555431365966.\n"
     ]
    },
    {
     "name": "stdout",
     "output_type": "stream",
     "text": [
      "lr: 0.01\n",
      "batch_size: 16\n",
      "num_epochs: 200\n"
     ]
    },
    {
     "name": "stderr",
     "output_type": "stream",
     "text": [
      "[I 2024-02-26 16:09:41,212] Trial 1 finished with value: 0.21060101687908173 and parameters: {'lr': 0.01, 'batch_size': 16, 'num_epochs': 200}. Best is trial 1 with value: 0.21060101687908173.\n"
     ]
    },
    {
     "name": "stdout",
     "output_type": "stream",
     "text": [
      "lr: 0.002\n",
      "batch_size: 16\n",
      "num_epochs: 50\n"
     ]
    },
    {
     "name": "stderr",
     "output_type": "stream",
     "text": [
      "[I 2024-02-26 16:09:42,525] Trial 2 finished with value: 0.2966647744178772 and parameters: {'lr': 0.002, 'batch_size': 16, 'num_epochs': 50}. Best is trial 1 with value: 0.21060101687908173.\n"
     ]
    },
    {
     "name": "stdout",
     "output_type": "stream",
     "text": [
      "lr: 0.001\n",
      "batch_size: 8\n",
      "num_epochs: 50\n"
     ]
    },
    {
     "name": "stderr",
     "output_type": "stream",
     "text": [
      "[I 2024-02-26 16:09:46,399] Trial 3 finished with value: 0.275040528178215 and parameters: {'lr': 0.001, 'batch_size': 8, 'num_epochs': 50}. Best is trial 1 with value: 0.21060101687908173.\n"
     ]
    },
    {
     "name": "stdout",
     "output_type": "stream",
     "text": [
      "lr: 0.001\n",
      "batch_size: 8\n",
      "num_epochs: 100\n"
     ]
    },
    {
     "name": "stderr",
     "output_type": "stream",
     "text": [
      "[I 2024-02-26 16:09:50,436] Trial 4 finished with value: 0.3810619672139486 and parameters: {'lr': 0.001, 'batch_size': 8, 'num_epochs': 100}. Best is trial 1 with value: 0.21060101687908173.\n"
     ]
    },
    {
     "name": "stdout",
     "output_type": "stream",
     "text": [
      "lr: 0.01\n",
      "batch_size: 32\n",
      "num_epochs: 100\n"
     ]
    },
    {
     "name": "stderr",
     "output_type": "stream",
     "text": [
      "[I 2024-02-26 16:09:51,368] Trial 5 finished with value: 0.42140257358551025 and parameters: {'lr': 0.01, 'batch_size': 32, 'num_epochs': 100}. Best is trial 1 with value: 0.21060101687908173.\n"
     ]
    },
    {
     "name": "stdout",
     "output_type": "stream",
     "text": [
      "lr: 0.005\n",
      "batch_size: 16\n",
      "num_epochs: 100\n"
     ]
    },
    {
     "name": "stderr",
     "output_type": "stream",
     "text": [
      "[I 2024-02-26 16:09:53,356] Trial 6 finished with value: 0.3801342844963074 and parameters: {'lr': 0.005, 'batch_size': 16, 'num_epochs': 100}. Best is trial 1 with value: 0.21060101687908173.\n"
     ]
    },
    {
     "name": "stdout",
     "output_type": "stream",
     "text": [
      "lr: 0.005\n",
      "batch_size: 32\n",
      "num_epochs: 50\n"
     ]
    },
    {
     "name": "stderr",
     "output_type": "stream",
     "text": [
      "[I 2024-02-26 16:09:54,109] Trial 7 finished with value: 0.40259143710136414 and parameters: {'lr': 0.005, 'batch_size': 32, 'num_epochs': 50}. Best is trial 1 with value: 0.21060101687908173.\n"
     ]
    },
    {
     "name": "stdout",
     "output_type": "stream",
     "text": [
      "lr: 0.002\n",
      "batch_size: 8\n",
      "num_epochs: 50\n"
     ]
    },
    {
     "name": "stderr",
     "output_type": "stream",
     "text": [
      "[I 2024-02-26 16:09:58,014] Trial 8 finished with value: 0.3713065574566523 and parameters: {'lr': 0.002, 'batch_size': 8, 'num_epochs': 50}. Best is trial 1 with value: 0.21060101687908173.\n"
     ]
    },
    {
     "name": "stdout",
     "output_type": "stream",
     "text": [
      "lr: 0.005\n",
      "batch_size: 16\n",
      "num_epochs: 200\n"
     ]
    },
    {
     "name": "stderr",
     "output_type": "stream",
     "text": [
      "[I 2024-02-26 16:09:59,317] Trial 9 finished with value: 0.4220978617668152 and parameters: {'lr': 0.005, 'batch_size': 16, 'num_epochs': 200}. Best is trial 1 with value: 0.21060101687908173.\n"
     ]
    },
    {
     "name": "stdout",
     "output_type": "stream",
     "text": [
      "lr: 0.01\n",
      "batch_size: 16\n",
      "num_epochs: 500\n"
     ]
    },
    {
     "name": "stderr",
     "output_type": "stream",
     "text": [
      "[I 2024-02-26 16:10:01,072] Trial 10 finished with value: 0.45058533549308777 and parameters: {'lr': 0.01, 'batch_size': 16, 'num_epochs': 500}. Best is trial 1 with value: 0.21060101687908173.\n"
     ]
    },
    {
     "name": "stdout",
     "output_type": "stream",
     "text": [
      "lr: 0.001\n",
      "batch_size: 8\n",
      "num_epochs: 200\n"
     ]
    },
    {
     "name": "stderr",
     "output_type": "stream",
     "text": [
      "[I 2024-02-26 16:10:05,318] Trial 11 finished with value: 0.3608455667893092 and parameters: {'lr': 0.001, 'batch_size': 8, 'num_epochs': 200}. Best is trial 1 with value: 0.21060101687908173.\n"
     ]
    },
    {
     "name": "stdout",
     "output_type": "stream",
     "text": [
      "lr: 0.01\n",
      "batch_size: 16\n",
      "num_epochs: 500\n"
     ]
    },
    {
     "name": "stderr",
     "output_type": "stream",
     "text": [
      "[I 2024-02-26 16:10:09,904] Trial 12 finished with value: 0.5076001286506653 and parameters: {'lr': 0.01, 'batch_size': 16, 'num_epochs': 500}. Best is trial 1 with value: 0.21060101687908173.\n"
     ]
    },
    {
     "name": "stdout",
     "output_type": "stream",
     "text": [
      "lr: 0.001\n",
      "batch_size: 8\n",
      "num_epochs: 50\n"
     ]
    },
    {
     "name": "stderr",
     "output_type": "stream",
     "text": [
      "[I 2024-02-26 16:10:15,128] Trial 13 pruned. \n"
     ]
    },
    {
     "name": "stdout",
     "output_type": "stream",
     "text": [
      "lr: 0.0001\n",
      "batch_size: 32\n",
      "num_epochs: 200\n"
     ]
    },
    {
     "name": "stderr",
     "output_type": "stream",
     "text": [
      "[I 2024-02-26 16:10:16,348] Trial 14 pruned. \n"
     ]
    },
    {
     "name": "stdout",
     "output_type": "stream",
     "text": [
      "lr: 0.01\n",
      "batch_size: 16\n",
      "num_epochs: 50\n"
     ]
    },
    {
     "name": "stderr",
     "output_type": "stream",
     "text": [
      "[I 2024-02-26 16:10:17,956] Trial 15 finished with value: 0.36360517144203186 and parameters: {'lr': 0.01, 'batch_size': 16, 'num_epochs': 50}. Best is trial 1 with value: 0.21060101687908173.\n"
     ]
    },
    {
     "name": "stdout",
     "output_type": "stream",
     "text": [
      "lr: 0.001\n",
      "batch_size: 8\n",
      "num_epochs: 200\n"
     ]
    },
    {
     "name": "stderr",
     "output_type": "stream",
     "text": [
      "[I 2024-02-26 16:10:20,623] Trial 16 finished with value: 0.4065647085507711 and parameters: {'lr': 0.001, 'batch_size': 8, 'num_epochs': 200}. Best is trial 1 with value: 0.21060101687908173.\n"
     ]
    },
    {
     "name": "stdout",
     "output_type": "stream",
     "text": [
      "lr: 0.01\n",
      "batch_size: 8\n",
      "num_epochs: 500\n"
     ]
    },
    {
     "name": "stderr",
     "output_type": "stream",
     "text": [
      "[I 2024-02-26 16:10:26,682] Trial 17 finished with value: 0.2679513196150462 and parameters: {'lr': 0.01, 'batch_size': 8, 'num_epochs': 500}. Best is trial 1 with value: 0.21060101687908173.\n"
     ]
    },
    {
     "name": "stdout",
     "output_type": "stream",
     "text": [
      "lr: 0.01\n",
      "batch_size: 16\n",
      "num_epochs: 500\n"
     ]
    },
    {
     "name": "stderr",
     "output_type": "stream",
     "text": [
      "[I 2024-02-26 16:10:28,042] Trial 18 finished with value: 0.5522788166999817 and parameters: {'lr': 0.01, 'batch_size': 16, 'num_epochs': 500}. Best is trial 1 with value: 0.21060101687908173.\n"
     ]
    },
    {
     "name": "stdout",
     "output_type": "stream",
     "text": [
      "lr: 0.01\n",
      "batch_size: 32\n",
      "num_epochs: 500\n"
     ]
    },
    {
     "name": "stderr",
     "output_type": "stream",
     "text": [
      "[I 2024-02-26 16:10:29,011] Trial 19 finished with value: 0.37028729915618896 and parameters: {'lr': 0.01, 'batch_size': 32, 'num_epochs': 500}. Best is trial 1 with value: 0.21060101687908173.\n"
     ]
    },
    {
     "name": "stdout",
     "output_type": "stream",
     "text": [
      "lr: 0.01\n",
      "batch_size: 8\n",
      "num_epochs: 500\n"
     ]
    },
    {
     "name": "stderr",
     "output_type": "stream",
     "text": [
      "[I 2024-02-26 16:10:35,080] Trial 20 finished with value: 0.30414826075236 and parameters: {'lr': 0.01, 'batch_size': 8, 'num_epochs': 500}. Best is trial 1 with value: 0.21060101687908173.\n"
     ]
    },
    {
     "name": "stdout",
     "output_type": "stream",
     "text": [
      "lr: 0.001\n",
      "batch_size: 8\n",
      "num_epochs: 500\n"
     ]
    },
    {
     "name": "stderr",
     "output_type": "stream",
     "text": [
      "[I 2024-02-26 16:10:37,747] Trial 21 finished with value: 0.3941822052001953 and parameters: {'lr': 0.001, 'batch_size': 8, 'num_epochs': 500}. Best is trial 1 with value: 0.21060101687908173.\n"
     ]
    },
    {
     "name": "stdout",
     "output_type": "stream",
     "text": [
      "lr: 0.01\n",
      "batch_size: 8\n",
      "num_epochs: 200\n"
     ]
    },
    {
     "name": "stderr",
     "output_type": "stream",
     "text": [
      "[I 2024-02-26 16:10:42,524] Trial 22 finished with value: 0.1986317257086436 and parameters: {'lr': 0.01, 'batch_size': 8, 'num_epochs': 200}. Best is trial 22 with value: 0.1986317257086436.\n"
     ]
    },
    {
     "name": "stdout",
     "output_type": "stream",
     "text": [
      "lr: 0.01\n",
      "batch_size: 8\n",
      "num_epochs: 200\n"
     ]
    },
    {
     "name": "stderr",
     "output_type": "stream",
     "text": [
      "[I 2024-02-26 16:10:45,075] Trial 23 finished with value: 0.2824838598569234 and parameters: {'lr': 0.01, 'batch_size': 8, 'num_epochs': 200}. Best is trial 22 with value: 0.1986317257086436.\n"
     ]
    },
    {
     "name": "stdout",
     "output_type": "stream",
     "text": [
      "lr: 0.01\n",
      "batch_size: 8\n",
      "num_epochs: 200\n"
     ]
    },
    {
     "name": "stderr",
     "output_type": "stream",
     "text": [
      "[I 2024-02-26 16:10:49,855] Trial 24 finished with value: 0.23869835138320922 and parameters: {'lr': 0.01, 'batch_size': 8, 'num_epochs': 200}. Best is trial 22 with value: 0.1986317257086436.\n"
     ]
    },
    {
     "name": "stdout",
     "output_type": "stream",
     "text": [
      "lr: 0.01\n",
      "batch_size: 16\n",
      "num_epochs: 200\n"
     ]
    },
    {
     "name": "stderr",
     "output_type": "stream",
     "text": [
      "[I 2024-02-26 16:10:51,226] Trial 25 finished with value: 0.25236040353775024 and parameters: {'lr': 0.01, 'batch_size': 16, 'num_epochs': 200}. Best is trial 22 with value: 0.1986317257086436.\n"
     ]
    },
    {
     "name": "stdout",
     "output_type": "stream",
     "text": [
      "lr: 0.0001\n",
      "batch_size: 8\n",
      "num_epochs: 200\n"
     ]
    },
    {
     "name": "stderr",
     "output_type": "stream",
     "text": [
      "[I 2024-02-26 16:10:54,249] Trial 26 finished with value: 0.27672207951545713 and parameters: {'lr': 0.0001, 'batch_size': 8, 'num_epochs': 200}. Best is trial 22 with value: 0.1986317257086436.\n"
     ]
    },
    {
     "name": "stdout",
     "output_type": "stream",
     "text": [
      "lr: 0.01\n",
      "batch_size: 8\n",
      "num_epochs: 200\n"
     ]
    },
    {
     "name": "stderr",
     "output_type": "stream",
     "text": [
      "[I 2024-02-26 16:10:59,518] Trial 27 finished with value: 0.3432760119438171 and parameters: {'lr': 0.01, 'batch_size': 8, 'num_epochs': 200}. Best is trial 22 with value: 0.1986317257086436.\n"
     ]
    },
    {
     "name": "stdout",
     "output_type": "stream",
     "text": [
      "lr: 0.002\n",
      "batch_size: 32\n",
      "num_epochs: 200\n"
     ]
    },
    {
     "name": "stderr",
     "output_type": "stream",
     "text": [
      "[I 2024-02-26 16:11:00,306] Trial 28 finished with value: 0.4047876000404358 and parameters: {'lr': 0.002, 'batch_size': 32, 'num_epochs': 200}. Best is trial 22 with value: 0.1986317257086436.\n"
     ]
    },
    {
     "name": "stdout",
     "output_type": "stream",
     "text": [
      "lr: 0.0001\n",
      "batch_size: 16\n",
      "num_epochs: 200\n"
     ]
    },
    {
     "name": "stderr",
     "output_type": "stream",
     "text": [
      "[I 2024-02-26 16:11:02,548] Trial 29 pruned. \n",
      "[I 2024-02-26 16:11:02,741] A new study created in memory with name: no-name-822cbfae-5685-473f-827a-1aa4467cfd66\n"
     ]
    },
    {
     "name": "stdout",
     "output_type": "stream",
     "text": [
      "Study statistics:\n",
      "Number of finished trials: 30\n",
      "Number of pruned trials: 3\n",
      "Number of complete trials: 27\n",
      "Best trial:\n",
      "Value:  0.1986317257086436\n",
      "Params:\n",
      "lr: 0.01\n",
      "batch_size: 8\n",
      "num_epochs: 200\n",
      "Model 0 complete.\n",
      "Training Model 1\n",
      "cuda:0\n",
      "lr: 0.001\n",
      "batch_size: 16\n",
      "num_epochs: 500\n"
     ]
    },
    {
     "name": "stderr",
     "output_type": "stream",
     "text": [
      "[I 2024-02-26 16:11:06,423] Trial 0 finished with value: 0.7866350412368774 and parameters: {'lr': 0.001, 'batch_size': 16, 'num_epochs': 500}. Best is trial 0 with value: 0.7866350412368774.\n"
     ]
    },
    {
     "name": "stdout",
     "output_type": "stream",
     "text": [
      "lr: 0.002\n",
      "batch_size: 32\n",
      "num_epochs: 200\n"
     ]
    },
    {
     "name": "stderr",
     "output_type": "stream",
     "text": [
      "[I 2024-02-26 16:11:09,295] Trial 1 finished with value: 0.3230607211589813 and parameters: {'lr': 0.002, 'batch_size': 32, 'num_epochs': 200}. Best is trial 1 with value: 0.3230607211589813.\n"
     ]
    },
    {
     "name": "stdout",
     "output_type": "stream",
     "text": [
      "lr: 0.005\n",
      "batch_size: 16\n",
      "num_epochs: 200\n"
     ]
    },
    {
     "name": "stderr",
     "output_type": "stream",
     "text": [
      "[I 2024-02-26 16:11:11,599] Trial 2 finished with value: 0.27430015802383423 and parameters: {'lr': 0.005, 'batch_size': 16, 'num_epochs': 200}. Best is trial 2 with value: 0.27430015802383423.\n"
     ]
    },
    {
     "name": "stdout",
     "output_type": "stream",
     "text": [
      "lr: 0.001\n",
      "batch_size: 16\n",
      "num_epochs: 100\n"
     ]
    },
    {
     "name": "stderr",
     "output_type": "stream",
     "text": [
      "[I 2024-02-26 16:11:13,712] Trial 3 finished with value: 0.23788751661777496 and parameters: {'lr': 0.001, 'batch_size': 16, 'num_epochs': 100}. Best is trial 3 with value: 0.23788751661777496.\n"
     ]
    },
    {
     "name": "stdout",
     "output_type": "stream",
     "text": [
      "lr: 0.005\n",
      "batch_size: 16\n",
      "num_epochs: 500\n"
     ]
    },
    {
     "name": "stderr",
     "output_type": "stream",
     "text": [
      "[I 2024-02-26 16:11:15,149] Trial 4 finished with value: 0.2948352098464966 and parameters: {'lr': 0.005, 'batch_size': 16, 'num_epochs': 500}. Best is trial 3 with value: 0.23788751661777496.\n"
     ]
    },
    {
     "name": "stdout",
     "output_type": "stream",
     "text": [
      "lr: 0.0001\n",
      "batch_size: 32\n",
      "num_epochs: 500\n"
     ]
    },
    {
     "name": "stderr",
     "output_type": "stream",
     "text": [
      "[I 2024-02-26 16:11:17,164] Trial 5 finished with value: 0.18866918981075287 and parameters: {'lr': 0.0001, 'batch_size': 32, 'num_epochs': 500}. Best is trial 5 with value: 0.18866918981075287.\n"
     ]
    },
    {
     "name": "stdout",
     "output_type": "stream",
     "text": [
      "lr: 0.01\n",
      "batch_size: 16\n",
      "num_epochs: 500\n"
     ]
    },
    {
     "name": "stderr",
     "output_type": "stream",
     "text": [
      "[I 2024-02-26 16:11:19,560] Trial 6 finished with value: 0.2558642327785492 and parameters: {'lr': 0.01, 'batch_size': 16, 'num_epochs': 500}. Best is trial 5 with value: 0.18866918981075287.\n"
     ]
    },
    {
     "name": "stdout",
     "output_type": "stream",
     "text": [
      "lr: 0.01\n",
      "batch_size: 16\n",
      "num_epochs: 50\n"
     ]
    },
    {
     "name": "stderr",
     "output_type": "stream",
     "text": [
      "[I 2024-02-26 16:11:21,863] Trial 7 finished with value: 0.255921334028244 and parameters: {'lr': 0.01, 'batch_size': 16, 'num_epochs': 50}. Best is trial 5 with value: 0.18866918981075287.\n"
     ]
    },
    {
     "name": "stdout",
     "output_type": "stream",
     "text": [
      "lr: 0.0001\n",
      "batch_size: 16\n",
      "num_epochs: 500\n"
     ]
    },
    {
     "name": "stderr",
     "output_type": "stream",
     "text": [
      "[I 2024-02-26 16:11:24,038] Trial 8 finished with value: 0.23674340546131134 and parameters: {'lr': 0.0001, 'batch_size': 16, 'num_epochs': 500}. Best is trial 5 with value: 0.18866918981075287.\n"
     ]
    },
    {
     "name": "stdout",
     "output_type": "stream",
     "text": [
      "lr: 0.001\n",
      "batch_size: 16\n",
      "num_epochs: 500\n"
     ]
    },
    {
     "name": "stderr",
     "output_type": "stream",
     "text": [
      "[I 2024-02-26 16:11:26,217] Trial 9 finished with value: 0.2001221776008606 and parameters: {'lr': 0.001, 'batch_size': 16, 'num_epochs': 500}. Best is trial 5 with value: 0.18866918981075287.\n"
     ]
    },
    {
     "name": "stdout",
     "output_type": "stream",
     "text": [
      "lr: 0.0001\n",
      "batch_size: 32\n",
      "num_epochs: 50\n"
     ]
    },
    {
     "name": "stderr",
     "output_type": "stream",
     "text": [
      "[I 2024-02-26 16:11:27,426] Trial 10 finished with value: 0.21434679627418518 and parameters: {'lr': 0.0001, 'batch_size': 32, 'num_epochs': 50}. Best is trial 5 with value: 0.18866918981075287.\n"
     ]
    },
    {
     "name": "stdout",
     "output_type": "stream",
     "text": [
      "lr: 0.001\n",
      "batch_size: 8\n",
      "num_epochs: 500\n"
     ]
    },
    {
     "name": "stderr",
     "output_type": "stream",
     "text": [
      "[I 2024-02-26 16:11:30,009] Trial 11 finished with value: 0.276794175306956 and parameters: {'lr': 0.001, 'batch_size': 8, 'num_epochs': 500}. Best is trial 5 with value: 0.18866918981075287.\n"
     ]
    },
    {
     "name": "stdout",
     "output_type": "stream",
     "text": [
      "lr: 0.0001\n",
      "batch_size: 32\n",
      "num_epochs: 100\n"
     ]
    },
    {
     "name": "stderr",
     "output_type": "stream",
     "text": [
      "[I 2024-02-26 16:11:31,215] Trial 12 finished with value: 0.22894124686717987 and parameters: {'lr': 0.0001, 'batch_size': 32, 'num_epochs': 100}. Best is trial 5 with value: 0.18866918981075287.\n"
     ]
    },
    {
     "name": "stdout",
     "output_type": "stream",
     "text": [
      "lr: 0.002\n",
      "batch_size: 8\n",
      "num_epochs: 500\n"
     ]
    },
    {
     "name": "stderr",
     "output_type": "stream",
     "text": [
      "[I 2024-02-26 16:11:34,840] Trial 13 finished with value: 0.33048041462898253 and parameters: {'lr': 0.002, 'batch_size': 8, 'num_epochs': 500}. Best is trial 5 with value: 0.18866918981075287.\n"
     ]
    },
    {
     "name": "stdout",
     "output_type": "stream",
     "text": [
      "lr: 0.001\n",
      "batch_size: 32\n",
      "num_epochs: 500\n"
     ]
    },
    {
     "name": "stderr",
     "output_type": "stream",
     "text": [
      "[I 2024-02-26 16:11:36,653] Trial 14 finished with value: 0.20489643514156342 and parameters: {'lr': 0.001, 'batch_size': 32, 'num_epochs': 500}. Best is trial 5 with value: 0.18866918981075287.\n"
     ]
    },
    {
     "name": "stdout",
     "output_type": "stream",
     "text": [
      "lr: 0.0001\n",
      "batch_size: 32\n",
      "num_epochs: 500\n"
     ]
    },
    {
     "name": "stderr",
     "output_type": "stream",
     "text": [
      "[I 2024-02-26 16:11:37,872] Trial 15 finished with value: 0.2049364447593689 and parameters: {'lr': 0.0001, 'batch_size': 32, 'num_epochs': 500}. Best is trial 5 with value: 0.18866918981075287.\n"
     ]
    },
    {
     "name": "stdout",
     "output_type": "stream",
     "text": [
      "lr: 0.001\n",
      "batch_size: 8\n",
      "num_epochs: 50\n"
     ]
    },
    {
     "name": "stderr",
     "output_type": "stream",
     "text": [
      "[I 2024-02-26 16:11:41,311] Trial 16 finished with value: 0.21937991976737975 and parameters: {'lr': 0.001, 'batch_size': 8, 'num_epochs': 50}. Best is trial 5 with value: 0.18866918981075287.\n"
     ]
    },
    {
     "name": "stdout",
     "output_type": "stream",
     "text": [
      "lr: 0.0001\n",
      "batch_size: 32\n",
      "num_epochs: 200\n"
     ]
    },
    {
     "name": "stderr",
     "output_type": "stream",
     "text": [
      "[I 2024-02-26 16:11:42,606] Trial 17 finished with value: 0.20962265133857727 and parameters: {'lr': 0.0001, 'batch_size': 32, 'num_epochs': 200}. Best is trial 5 with value: 0.18866918981075287.\n"
     ]
    },
    {
     "name": "stdout",
     "output_type": "stream",
     "text": [
      "lr: 0.01\n",
      "batch_size: 32\n",
      "num_epochs: 100\n"
     ]
    },
    {
     "name": "stderr",
     "output_type": "stream",
     "text": [
      "[I 2024-02-26 16:11:44,083] Trial 18 finished with value: 0.13790684938430786 and parameters: {'lr': 0.01, 'batch_size': 32, 'num_epochs': 100}. Best is trial 18 with value: 0.13790684938430786.\n"
     ]
    },
    {
     "name": "stdout",
     "output_type": "stream",
     "text": [
      "lr: 0.01\n",
      "batch_size: 32\n",
      "num_epochs: 100\n"
     ]
    },
    {
     "name": "stderr",
     "output_type": "stream",
     "text": [
      "[I 2024-02-26 16:11:44,752] Trial 19 finished with value: 0.12963810563087463 and parameters: {'lr': 0.01, 'batch_size': 32, 'num_epochs': 100}. Best is trial 19 with value: 0.12963810563087463.\n"
     ]
    },
    {
     "name": "stdout",
     "output_type": "stream",
     "text": [
      "lr: 0.01\n",
      "batch_size: 32\n",
      "num_epochs: 100\n"
     ]
    },
    {
     "name": "stderr",
     "output_type": "stream",
     "text": [
      "[I 2024-02-26 16:11:45,426] Trial 20 finished with value: 0.13604867458343506 and parameters: {'lr': 0.01, 'batch_size': 32, 'num_epochs': 100}. Best is trial 19 with value: 0.12963810563087463.\n"
     ]
    },
    {
     "name": "stdout",
     "output_type": "stream",
     "text": [
      "lr: 0.01\n",
      "batch_size: 32\n",
      "num_epochs: 100\n"
     ]
    },
    {
     "name": "stderr",
     "output_type": "stream",
     "text": [
      "[I 2024-02-26 16:11:46,631] Trial 21 finished with value: 0.19182689487934113 and parameters: {'lr': 0.01, 'batch_size': 32, 'num_epochs': 100}. Best is trial 19 with value: 0.12963810563087463.\n"
     ]
    },
    {
     "name": "stdout",
     "output_type": "stream",
     "text": [
      "lr: 0.01\n",
      "batch_size: 32\n",
      "num_epochs: 100\n"
     ]
    },
    {
     "name": "stderr",
     "output_type": "stream",
     "text": [
      "[I 2024-02-26 16:11:47,331] Trial 22 finished with value: 0.11764371395111084 and parameters: {'lr': 0.01, 'batch_size': 32, 'num_epochs': 100}. Best is trial 22 with value: 0.11764371395111084.\n"
     ]
    },
    {
     "name": "stdout",
     "output_type": "stream",
     "text": [
      "lr: 0.01\n",
      "batch_size: 32\n",
      "num_epochs: 100\n"
     ]
    },
    {
     "name": "stderr",
     "output_type": "stream",
     "text": [
      "[I 2024-02-26 16:11:47,999] Trial 23 finished with value: 0.14245808124542236 and parameters: {'lr': 0.01, 'batch_size': 32, 'num_epochs': 100}. Best is trial 22 with value: 0.11764371395111084.\n"
     ]
    },
    {
     "name": "stdout",
     "output_type": "stream",
     "text": [
      "lr: 0.01\n",
      "batch_size: 32\n",
      "num_epochs: 100\n"
     ]
    },
    {
     "name": "stderr",
     "output_type": "stream",
     "text": [
      "[I 2024-02-26 16:11:48,758] Trial 24 finished with value: 0.1247195154428482 and parameters: {'lr': 0.01, 'batch_size': 32, 'num_epochs': 100}. Best is trial 22 with value: 0.11764371395111084.\n"
     ]
    },
    {
     "name": "stdout",
     "output_type": "stream",
     "text": [
      "lr: 0.01\n",
      "batch_size: 32\n",
      "num_epochs: 100\n"
     ]
    },
    {
     "name": "stderr",
     "output_type": "stream",
     "text": [
      "[I 2024-02-26 16:11:49,515] Trial 25 finished with value: 0.12132792919874191 and parameters: {'lr': 0.01, 'batch_size': 32, 'num_epochs': 100}. Best is trial 22 with value: 0.11764371395111084.\n"
     ]
    },
    {
     "name": "stdout",
     "output_type": "stream",
     "text": [
      "lr: 0.01\n",
      "batch_size: 32\n",
      "num_epochs: 100\n"
     ]
    },
    {
     "name": "stderr",
     "output_type": "stream",
     "text": [
      "[I 2024-02-26 16:11:50,832] Trial 26 finished with value: 0.1676846593618393 and parameters: {'lr': 0.01, 'batch_size': 32, 'num_epochs': 100}. Best is trial 22 with value: 0.11764371395111084.\n"
     ]
    },
    {
     "name": "stdout",
     "output_type": "stream",
     "text": [
      "lr: 0.01\n",
      "batch_size: 8\n",
      "num_epochs: 100\n"
     ]
    },
    {
     "name": "stderr",
     "output_type": "stream",
     "text": [
      "[I 2024-02-26 16:11:57,884] Trial 27 finished with value: 0.19068645785252253 and parameters: {'lr': 0.01, 'batch_size': 8, 'num_epochs': 100}. Best is trial 22 with value: 0.11764371395111084.\n"
     ]
    },
    {
     "name": "stdout",
     "output_type": "stream",
     "text": [
      "lr: 0.01\n",
      "batch_size: 32\n",
      "num_epochs: 100\n"
     ]
    },
    {
     "name": "stderr",
     "output_type": "stream",
     "text": [
      "[I 2024-02-26 16:11:58,949] Trial 28 finished with value: 0.16213050484657288 and parameters: {'lr': 0.01, 'batch_size': 32, 'num_epochs': 100}. Best is trial 22 with value: 0.11764371395111084.\n"
     ]
    },
    {
     "name": "stdout",
     "output_type": "stream",
     "text": [
      "lr: 0.002\n",
      "batch_size: 32\n",
      "num_epochs: 100\n"
     ]
    },
    {
     "name": "stderr",
     "output_type": "stream",
     "text": [
      "[I 2024-02-26 16:12:00,832] Trial 29 finished with value: 0.16979245841503143 and parameters: {'lr': 0.002, 'batch_size': 32, 'num_epochs': 100}. Best is trial 22 with value: 0.11764371395111084.\n"
     ]
    },
    {
     "name": "stdout",
     "output_type": "stream",
     "text": [
      "Study statistics:\n",
      "Number of finished trials: 30\n",
      "Number of pruned trials: 0\n",
      "Number of complete trials: 30\n",
      "Best trial:\n",
      "Value:  0.11764371395111084\n",
      "Params:\n",
      "lr: 0.01\n",
      "batch_size: 32\n",
      "num_epochs: 100\n",
      "Model 1 complete.\n",
      "Training Model 2\n",
      "cuda:0\n"
     ]
    },
    {
     "name": "stderr",
     "output_type": "stream",
     "text": [
      "[I 2024-02-26 16:12:01,060] A new study created in memory with name: no-name-27d22b8b-a33a-471d-a6c5-314734188908\n"
     ]
    },
    {
     "name": "stdout",
     "output_type": "stream",
     "text": [
      "lr: 0.002\n",
      "batch_size: 16\n",
      "num_epochs: 100\n"
     ]
    },
    {
     "name": "stderr",
     "output_type": "stream",
     "text": [
      "[I 2024-02-26 16:12:06,678] Trial 0 finished with value: 0.5663038492202759 and parameters: {'lr': 0.002, 'batch_size': 16, 'num_epochs': 100}. Best is trial 0 with value: 0.5663038492202759.\n"
     ]
    },
    {
     "name": "stdout",
     "output_type": "stream",
     "text": [
      "lr: 0.0001\n",
      "batch_size: 16\n",
      "num_epochs: 200\n"
     ]
    },
    {
     "name": "stderr",
     "output_type": "stream",
     "text": [
      "[I 2024-02-26 16:12:08,049] Trial 1 finished with value: 0.622528612613678 and parameters: {'lr': 0.0001, 'batch_size': 16, 'num_epochs': 200}. Best is trial 0 with value: 0.5663038492202759.\n"
     ]
    },
    {
     "name": "stdout",
     "output_type": "stream",
     "text": [
      "lr: 0.005\n",
      "batch_size: 8\n",
      "num_epochs: 50\n"
     ]
    },
    {
     "name": "stderr",
     "output_type": "stream",
     "text": [
      "[I 2024-02-26 16:12:12,816] Trial 2 finished with value: 0.46252057552337644 and parameters: {'lr': 0.005, 'batch_size': 8, 'num_epochs': 50}. Best is trial 2 with value: 0.46252057552337644.\n"
     ]
    },
    {
     "name": "stdout",
     "output_type": "stream",
     "text": [
      "lr: 0.002\n",
      "batch_size: 8\n",
      "num_epochs: 50\n"
     ]
    },
    {
     "name": "stderr",
     "output_type": "stream",
     "text": [
      "[I 2024-02-26 16:12:16,584] Trial 3 finished with value: 0.5134413401285808 and parameters: {'lr': 0.002, 'batch_size': 8, 'num_epochs': 50}. Best is trial 2 with value: 0.46252057552337644.\n"
     ]
    },
    {
     "name": "stdout",
     "output_type": "stream",
     "text": [
      "lr: 0.001\n",
      "batch_size: 16\n",
      "num_epochs: 100\n"
     ]
    },
    {
     "name": "stderr",
     "output_type": "stream",
     "text": [
      "[I 2024-02-26 16:12:18,143] Trial 4 finished with value: 0.5615721940994263 and parameters: {'lr': 0.001, 'batch_size': 16, 'num_epochs': 100}. Best is trial 2 with value: 0.46252057552337644.\n"
     ]
    },
    {
     "name": "stdout",
     "output_type": "stream",
     "text": [
      "lr: 0.005\n",
      "batch_size: 16\n",
      "num_epochs: 500\n"
     ]
    },
    {
     "name": "stderr",
     "output_type": "stream",
     "text": [
      "[I 2024-02-26 16:12:19,881] Trial 5 finished with value: 0.746796727180481 and parameters: {'lr': 0.005, 'batch_size': 16, 'num_epochs': 500}. Best is trial 2 with value: 0.46252057552337644.\n"
     ]
    },
    {
     "name": "stdout",
     "output_type": "stream",
     "text": [
      "lr: 0.002\n",
      "batch_size: 8\n",
      "num_epochs: 500\n"
     ]
    },
    {
     "name": "stderr",
     "output_type": "stream",
     "text": [
      "[I 2024-02-26 16:12:25,013] Trial 6 finished with value: 0.6307670434316 and parameters: {'lr': 0.002, 'batch_size': 8, 'num_epochs': 500}. Best is trial 2 with value: 0.46252057552337644.\n"
     ]
    },
    {
     "name": "stdout",
     "output_type": "stream",
     "text": [
      "lr: 0.005\n",
      "batch_size: 8\n",
      "num_epochs: 100\n"
     ]
    },
    {
     "name": "stderr",
     "output_type": "stream",
     "text": [
      "[I 2024-02-26 16:12:30,111] Trial 7 finished with value: 0.5640026092529297 and parameters: {'lr': 0.005, 'batch_size': 8, 'num_epochs': 100}. Best is trial 2 with value: 0.46252057552337644.\n"
     ]
    },
    {
     "name": "stdout",
     "output_type": "stream",
     "text": [
      "lr: 0.005\n",
      "batch_size: 8\n",
      "num_epochs: 50\n"
     ]
    },
    {
     "name": "stderr",
     "output_type": "stream",
     "text": [
      "[I 2024-02-26 16:12:33,184] Trial 8 finished with value: 0.4331672747929891 and parameters: {'lr': 0.005, 'batch_size': 8, 'num_epochs': 50}. Best is trial 8 with value: 0.4331672747929891.\n"
     ]
    },
    {
     "name": "stdout",
     "output_type": "stream",
     "text": [
      "lr: 0.01\n",
      "batch_size: 16\n",
      "num_epochs: 200\n"
     ]
    },
    {
     "name": "stderr",
     "output_type": "stream",
     "text": [
      "[I 2024-02-26 16:12:38,207] Trial 9 finished with value: 0.3598206341266632 and parameters: {'lr': 0.01, 'batch_size': 16, 'num_epochs': 200}. Best is trial 9 with value: 0.3598206341266632.\n"
     ]
    },
    {
     "name": "stdout",
     "output_type": "stream",
     "text": [
      "lr: 0.01\n",
      "batch_size: 32\n",
      "num_epochs: 200\n"
     ]
    },
    {
     "name": "stderr",
     "output_type": "stream",
     "text": [
      "[I 2024-02-26 16:12:38,996] Trial 10 finished with value: 0.4762710928916931 and parameters: {'lr': 0.01, 'batch_size': 32, 'num_epochs': 200}. Best is trial 9 with value: 0.3598206341266632.\n"
     ]
    },
    {
     "name": "stdout",
     "output_type": "stream",
     "text": [
      "lr: 0.01\n",
      "batch_size: 32\n",
      "num_epochs: 50\n"
     ]
    },
    {
     "name": "stderr",
     "output_type": "stream",
     "text": [
      "[I 2024-02-26 16:12:39,753] Trial 11 finished with value: 0.6225842833518982 and parameters: {'lr': 0.01, 'batch_size': 32, 'num_epochs': 50}. Best is trial 9 with value: 0.3598206341266632.\n"
     ]
    },
    {
     "name": "stdout",
     "output_type": "stream",
     "text": [
      "lr: 0.01\n",
      "batch_size: 8\n",
      "num_epochs: 200\n"
     ]
    },
    {
     "name": "stderr",
     "output_type": "stream",
     "text": [
      "[I 2024-02-26 16:12:49,858] Trial 12 finished with value: 0.21166424850622814 and parameters: {'lr': 0.01, 'batch_size': 8, 'num_epochs': 200}. Best is trial 12 with value: 0.21166424850622814.\n"
     ]
    },
    {
     "name": "stdout",
     "output_type": "stream",
     "text": [
      "lr: 0.01\n",
      "batch_size: 16\n",
      "num_epochs: 200\n"
     ]
    },
    {
     "name": "stderr",
     "output_type": "stream",
     "text": [
      "[I 2024-02-26 16:12:52,517] Trial 13 finished with value: 0.27021417021751404 and parameters: {'lr': 0.01, 'batch_size': 16, 'num_epochs': 200}. Best is trial 12 with value: 0.21166424850622814.\n"
     ]
    },
    {
     "name": "stdout",
     "output_type": "stream",
     "text": [
      "lr: 0.01\n",
      "batch_size: 32\n",
      "num_epochs: 200\n"
     ]
    },
    {
     "name": "stderr",
     "output_type": "stream",
     "text": [
      "[I 2024-02-26 16:12:53,159] Trial 14 finished with value: 0.28649699687957764 and parameters: {'lr': 0.01, 'batch_size': 32, 'num_epochs': 200}. Best is trial 12 with value: 0.21166424850622814.\n"
     ]
    },
    {
     "name": "stdout",
     "output_type": "stream",
     "text": [
      "lr: 0.01\n",
      "batch_size: 16\n",
      "num_epochs: 200\n"
     ]
    },
    {
     "name": "stderr",
     "output_type": "stream",
     "text": [
      "[I 2024-02-26 16:12:54,653] Trial 15 finished with value: 0.27269992232322693 and parameters: {'lr': 0.01, 'batch_size': 16, 'num_epochs': 200}. Best is trial 12 with value: 0.21166424850622814.\n"
     ]
    },
    {
     "name": "stdout",
     "output_type": "stream",
     "text": [
      "lr: 0.001\n",
      "batch_size: 8\n",
      "num_epochs: 200\n"
     ]
    },
    {
     "name": "stderr",
     "output_type": "stream",
     "text": [
      "[I 2024-02-26 16:12:58,535] Trial 16 finished with value: 0.33226567804813384 and parameters: {'lr': 0.001, 'batch_size': 8, 'num_epochs': 200}. Best is trial 12 with value: 0.21166424850622814.\n"
     ]
    },
    {
     "name": "stdout",
     "output_type": "stream",
     "text": [
      "lr: 0.0001\n",
      "batch_size: 16\n",
      "num_epochs: 200\n"
     ]
    },
    {
     "name": "stderr",
     "output_type": "stream",
     "text": [
      "[I 2024-02-26 16:13:01,233] Trial 17 finished with value: 0.31476300954818726 and parameters: {'lr': 0.0001, 'batch_size': 16, 'num_epochs': 200}. Best is trial 12 with value: 0.21166424850622814.\n"
     ]
    },
    {
     "name": "stdout",
     "output_type": "stream",
     "text": [
      "lr: 0.01\n",
      "batch_size: 8\n",
      "num_epochs: 200\n"
     ]
    },
    {
     "name": "stderr",
     "output_type": "stream",
     "text": [
      "[I 2024-02-26 16:13:05,721] Trial 18 finished with value: 0.30126662651697794 and parameters: {'lr': 0.01, 'batch_size': 8, 'num_epochs': 200}. Best is trial 12 with value: 0.21166424850622814.\n"
     ]
    },
    {
     "name": "stdout",
     "output_type": "stream",
     "text": [
      "lr: 0.01\n",
      "batch_size: 32\n",
      "num_epochs: 500\n"
     ]
    },
    {
     "name": "stderr",
     "output_type": "stream",
     "text": [
      "[I 2024-02-26 16:13:06,421] Trial 19 finished with value: 0.32170894742012024 and parameters: {'lr': 0.01, 'batch_size': 32, 'num_epochs': 500}. Best is trial 12 with value: 0.21166424850622814.\n"
     ]
    },
    {
     "name": "stdout",
     "output_type": "stream",
     "text": [
      "lr: 0.01\n",
      "batch_size: 8\n",
      "num_epochs: 200\n"
     ]
    },
    {
     "name": "stderr",
     "output_type": "stream",
     "text": [
      "[I 2024-02-26 16:13:10,823] Trial 20 finished with value: 0.2490460604429245 and parameters: {'lr': 0.01, 'batch_size': 8, 'num_epochs': 200}. Best is trial 12 with value: 0.21166424850622814.\n"
     ]
    },
    {
     "name": "stdout",
     "output_type": "stream",
     "text": [
      "lr: 0.01\n",
      "batch_size: 8\n",
      "num_epochs: 200\n"
     ]
    },
    {
     "name": "stderr",
     "output_type": "stream",
     "text": [
      "[I 2024-02-26 16:13:14,706] Trial 21 finished with value: 0.2593771626551946 and parameters: {'lr': 0.01, 'batch_size': 8, 'num_epochs': 200}. Best is trial 12 with value: 0.21166424850622814.\n"
     ]
    },
    {
     "name": "stdout",
     "output_type": "stream",
     "text": [
      "lr: 0.01\n",
      "batch_size: 8\n",
      "num_epochs: 200\n"
     ]
    },
    {
     "name": "stderr",
     "output_type": "stream",
     "text": [
      "[I 2024-02-26 16:13:19,081] Trial 22 finished with value: 0.32122812072436013 and parameters: {'lr': 0.01, 'batch_size': 8, 'num_epochs': 200}. Best is trial 12 with value: 0.21166424850622814.\n"
     ]
    },
    {
     "name": "stdout",
     "output_type": "stream",
     "text": [
      "lr: 0.01\n",
      "batch_size: 8\n",
      "num_epochs: 200\n"
     ]
    },
    {
     "name": "stderr",
     "output_type": "stream",
     "text": [
      "[I 2024-02-26 16:13:23,488] Trial 23 finished with value: 0.35892202854156496 and parameters: {'lr': 0.01, 'batch_size': 8, 'num_epochs': 200}. Best is trial 12 with value: 0.21166424850622814.\n"
     ]
    },
    {
     "name": "stdout",
     "output_type": "stream",
     "text": [
      "lr: 0.0001\n",
      "batch_size: 8\n",
      "num_epochs: 200\n"
     ]
    },
    {
     "name": "stderr",
     "output_type": "stream",
     "text": [
      "[I 2024-02-26 16:13:36,763] Trial 24 finished with value: 0.23747006356716155 and parameters: {'lr': 0.0001, 'batch_size': 8, 'num_epochs': 200}. Best is trial 12 with value: 0.21166424850622814.\n"
     ]
    },
    {
     "name": "stdout",
     "output_type": "stream",
     "text": [
      "lr: 0.0001\n",
      "batch_size: 8\n",
      "num_epochs: 200\n"
     ]
    },
    {
     "name": "stderr",
     "output_type": "stream",
     "text": [
      "[I 2024-02-26 16:13:41,316] Trial 25 finished with value: 0.23108504017194112 and parameters: {'lr': 0.0001, 'batch_size': 8, 'num_epochs': 200}. Best is trial 12 with value: 0.21166424850622814.\n"
     ]
    },
    {
     "name": "stdout",
     "output_type": "stream",
     "text": [
      "lr: 0.0001\n",
      "batch_size: 8\n",
      "num_epochs: 200\n"
     ]
    },
    {
     "name": "stderr",
     "output_type": "stream",
     "text": [
      "[I 2024-02-26 16:13:45,820] Trial 26 finished with value: 0.2324917753537496 and parameters: {'lr': 0.0001, 'batch_size': 8, 'num_epochs': 200}. Best is trial 12 with value: 0.21166424850622814.\n"
     ]
    },
    {
     "name": "stdout",
     "output_type": "stream",
     "text": [
      "lr: 0.0001\n",
      "batch_size: 8\n",
      "num_epochs: 100\n"
     ]
    },
    {
     "name": "stderr",
     "output_type": "stream",
     "text": [
      "[I 2024-02-26 16:13:50,383] Trial 27 finished with value: 0.23446685671806336 and parameters: {'lr': 0.0001, 'batch_size': 8, 'num_epochs': 100}. Best is trial 12 with value: 0.21166424850622814.\n"
     ]
    },
    {
     "name": "stdout",
     "output_type": "stream",
     "text": [
      "lr: 0.0001\n",
      "batch_size: 8\n",
      "num_epochs: 500\n"
     ]
    },
    {
     "name": "stderr",
     "output_type": "stream",
     "text": [
      "[I 2024-02-26 16:13:54,871] Trial 28 finished with value: 0.23557115594546 and parameters: {'lr': 0.0001, 'batch_size': 8, 'num_epochs': 500}. Best is trial 12 with value: 0.21166424850622814.\n"
     ]
    },
    {
     "name": "stdout",
     "output_type": "stream",
     "text": [
      "lr: 0.0001\n",
      "batch_size: 8\n",
      "num_epochs: 100\n"
     ]
    },
    {
     "name": "stderr",
     "output_type": "stream",
     "text": [
      "[I 2024-02-26 16:13:59,360] Trial 29 finished with value: 0.2368936578432719 and parameters: {'lr': 0.0001, 'batch_size': 8, 'num_epochs': 100}. Best is trial 12 with value: 0.21166424850622814.\n",
      "[I 2024-02-26 16:13:59,546] A new study created in memory with name: no-name-e43c6071-76a3-4680-af5c-d8081c6679a9\n"
     ]
    },
    {
     "name": "stdout",
     "output_type": "stream",
     "text": [
      "Study statistics:\n",
      "Number of finished trials: 30\n",
      "Number of pruned trials: 0\n",
      "Number of complete trials: 30\n",
      "Best trial:\n",
      "Value:  0.21166424850622814\n",
      "Params:\n",
      "lr: 0.01\n",
      "batch_size: 8\n",
      "num_epochs: 200\n",
      "Model 2 complete.\n",
      "Training Model 3\n",
      "cuda:0\n",
      "lr: 0.0001\n",
      "batch_size: 8\n",
      "num_epochs: 100\n"
     ]
    },
    {
     "name": "stderr",
     "output_type": "stream",
     "text": [
      "[I 2024-02-26 16:14:04,454] Trial 0 finished with value: 5.8170064926147464 and parameters: {'lr': 0.0001, 'batch_size': 8, 'num_epochs': 100}. Best is trial 0 with value: 5.8170064926147464.\n"
     ]
    },
    {
     "name": "stdout",
     "output_type": "stream",
     "text": [
      "lr: 0.001\n",
      "batch_size: 16\n",
      "num_epochs: 100\n"
     ]
    },
    {
     "name": "stderr",
     "output_type": "stream",
     "text": [
      "[I 2024-02-26 16:14:07,145] Trial 1 finished with value: 0.8548843264579773 and parameters: {'lr': 0.001, 'batch_size': 16, 'num_epochs': 100}. Best is trial 1 with value: 0.8548843264579773.\n"
     ]
    },
    {
     "name": "stdout",
     "output_type": "stream",
     "text": [
      "lr: 0.005\n",
      "batch_size: 32\n",
      "num_epochs: 200\n"
     ]
    },
    {
     "name": "stderr",
     "output_type": "stream",
     "text": [
      "[I 2024-02-26 16:14:08,985] Trial 2 finished with value: 0.42852455377578735 and parameters: {'lr': 0.005, 'batch_size': 32, 'num_epochs': 200}. Best is trial 2 with value: 0.42852455377578735.\n"
     ]
    },
    {
     "name": "stdout",
     "output_type": "stream",
     "text": [
      "lr: 0.005\n",
      "batch_size: 32\n",
      "num_epochs: 200\n"
     ]
    },
    {
     "name": "stderr",
     "output_type": "stream",
     "text": [
      "[I 2024-02-26 16:14:10,328] Trial 3 finished with value: 0.35593298077583313 and parameters: {'lr': 0.005, 'batch_size': 32, 'num_epochs': 200}. Best is trial 3 with value: 0.35593298077583313.\n"
     ]
    },
    {
     "name": "stdout",
     "output_type": "stream",
     "text": [
      "lr: 0.0001\n",
      "batch_size: 32\n",
      "num_epochs: 50\n"
     ]
    },
    {
     "name": "stderr",
     "output_type": "stream",
     "text": [
      "[I 2024-02-26 16:14:10,970] Trial 4 finished with value: 0.4397304058074951 and parameters: {'lr': 0.0001, 'batch_size': 32, 'num_epochs': 50}. Best is trial 3 with value: 0.35593298077583313.\n"
     ]
    },
    {
     "name": "stdout",
     "output_type": "stream",
     "text": [
      "lr: 0.001\n",
      "batch_size: 8\n",
      "num_epochs: 50\n"
     ]
    },
    {
     "name": "stderr",
     "output_type": "stream",
     "text": [
      "[I 2024-02-26 16:14:13,777] Trial 5 finished with value: 0.3938293178876241 and parameters: {'lr': 0.001, 'batch_size': 8, 'num_epochs': 50}. Best is trial 3 with value: 0.35593298077583313.\n"
     ]
    },
    {
     "name": "stdout",
     "output_type": "stream",
     "text": [
      "lr: 0.0001\n",
      "batch_size: 16\n",
      "num_epochs: 50\n"
     ]
    },
    {
     "name": "stderr",
     "output_type": "stream",
     "text": [
      "[I 2024-02-26 16:14:16,461] Trial 6 pruned. \n"
     ]
    },
    {
     "name": "stdout",
     "output_type": "stream",
     "text": [
      "lr: 0.0001\n",
      "batch_size: 8\n",
      "num_epochs: 50\n"
     ]
    },
    {
     "name": "stderr",
     "output_type": "stream",
     "text": [
      "[I 2024-02-26 16:14:19,272] Trial 7 pruned. \n"
     ]
    },
    {
     "name": "stdout",
     "output_type": "stream",
     "text": [
      "lr: 0.001\n",
      "batch_size: 16\n",
      "num_epochs: 100\n"
     ]
    },
    {
     "name": "stderr",
     "output_type": "stream",
     "text": [
      "[I 2024-02-26 16:14:20,637] Trial 8 finished with value: 0.5221924185752869 and parameters: {'lr': 0.001, 'batch_size': 16, 'num_epochs': 100}. Best is trial 3 with value: 0.35593298077583313.\n"
     ]
    },
    {
     "name": "stdout",
     "output_type": "stream",
     "text": [
      "lr: 0.001\n",
      "batch_size: 32\n",
      "num_epochs: 50\n"
     ]
    },
    {
     "name": "stderr",
     "output_type": "stream",
     "text": [
      "[I 2024-02-26 16:14:21,945] Trial 9 pruned. \n"
     ]
    },
    {
     "name": "stdout",
     "output_type": "stream",
     "text": [
      "lr: 0.01\n",
      "batch_size: 32\n",
      "num_epochs: 200\n"
     ]
    },
    {
     "name": "stderr",
     "output_type": "stream",
     "text": [
      "[I 2024-02-26 16:14:22,932] Trial 10 finished with value: 0.28539252281188965 and parameters: {'lr': 0.01, 'batch_size': 32, 'num_epochs': 200}. Best is trial 10 with value: 0.28539252281188965.\n"
     ]
    },
    {
     "name": "stdout",
     "output_type": "stream",
     "text": [
      "lr: 0.01\n",
      "batch_size: 32\n",
      "num_epochs: 200\n"
     ]
    },
    {
     "name": "stderr",
     "output_type": "stream",
     "text": [
      "[I 2024-02-26 16:14:23,755] Trial 11 finished with value: 0.564919650554657 and parameters: {'lr': 0.01, 'batch_size': 32, 'num_epochs': 200}. Best is trial 10 with value: 0.28539252281188965.\n"
     ]
    },
    {
     "name": "stdout",
     "output_type": "stream",
     "text": [
      "lr: 0.005\n",
      "batch_size: 32\n",
      "num_epochs: 200\n"
     ]
    },
    {
     "name": "stderr",
     "output_type": "stream",
     "text": [
      "[I 2024-02-26 16:14:24,396] Trial 12 finished with value: 0.45419129729270935 and parameters: {'lr': 0.005, 'batch_size': 32, 'num_epochs': 200}. Best is trial 10 with value: 0.28539252281188965.\n"
     ]
    },
    {
     "name": "stdout",
     "output_type": "stream",
     "text": [
      "lr: 0.01\n",
      "batch_size: 32\n",
      "num_epochs: 500\n"
     ]
    },
    {
     "name": "stderr",
     "output_type": "stream",
     "text": [
      "[I 2024-02-26 16:14:25,675] Trial 13 finished with value: 0.40705010294914246 and parameters: {'lr': 0.01, 'batch_size': 32, 'num_epochs': 500}. Best is trial 10 with value: 0.28539252281188965.\n"
     ]
    },
    {
     "name": "stdout",
     "output_type": "stream",
     "text": [
      "lr: 0.002\n",
      "batch_size: 32\n",
      "num_epochs: 200\n"
     ]
    },
    {
     "name": "stderr",
     "output_type": "stream",
     "text": [
      "[I 2024-02-26 16:14:26,375] Trial 14 finished with value: 0.33427926898002625 and parameters: {'lr': 0.002, 'batch_size': 32, 'num_epochs': 200}. Best is trial 10 with value: 0.28539252281188965.\n"
     ]
    },
    {
     "name": "stdout",
     "output_type": "stream",
     "text": [
      "lr: 0.002\n",
      "batch_size: 32\n",
      "num_epochs: 200\n"
     ]
    },
    {
     "name": "stderr",
     "output_type": "stream",
     "text": [
      "[I 2024-02-26 16:14:27,077] Trial 15 finished with value: 0.35501909255981445 and parameters: {'lr': 0.002, 'batch_size': 32, 'num_epochs': 200}. Best is trial 10 with value: 0.28539252281188965.\n"
     ]
    },
    {
     "name": "stdout",
     "output_type": "stream",
     "text": [
      "lr: 0.002\n",
      "batch_size: 32\n",
      "num_epochs: 500\n"
     ]
    },
    {
     "name": "stderr",
     "output_type": "stream",
     "text": [
      "[I 2024-02-26 16:14:27,778] Trial 16 finished with value: 0.35422661900520325 and parameters: {'lr': 0.002, 'batch_size': 32, 'num_epochs': 500}. Best is trial 10 with value: 0.28539252281188965.\n"
     ]
    },
    {
     "name": "stdout",
     "output_type": "stream",
     "text": [
      "lr: 0.002\n",
      "batch_size: 32\n",
      "num_epochs: 200\n"
     ]
    },
    {
     "name": "stderr",
     "output_type": "stream",
     "text": [
      "[I 2024-02-26 16:14:28,479] Trial 17 finished with value: 0.35912275314331055 and parameters: {'lr': 0.002, 'batch_size': 32, 'num_epochs': 200}. Best is trial 10 with value: 0.28539252281188965.\n"
     ]
    },
    {
     "name": "stdout",
     "output_type": "stream",
     "text": [
      "lr: 0.01\n",
      "batch_size: 16\n",
      "num_epochs: 200\n"
     ]
    },
    {
     "name": "stderr",
     "output_type": "stream",
     "text": [
      "[I 2024-02-26 16:14:30,779] Trial 18 finished with value: 0.391791969537735 and parameters: {'lr': 0.01, 'batch_size': 16, 'num_epochs': 200}. Best is trial 10 with value: 0.28539252281188965.\n"
     ]
    },
    {
     "name": "stdout",
     "output_type": "stream",
     "text": [
      "lr: 0.002\n",
      "batch_size: 8\n",
      "num_epochs: 200\n"
     ]
    },
    {
     "name": "stderr",
     "output_type": "stream",
     "text": [
      "[I 2024-02-26 16:14:33,580] Trial 19 finished with value: 0.535291322072347 and parameters: {'lr': 0.002, 'batch_size': 8, 'num_epochs': 200}. Best is trial 10 with value: 0.28539252281188965.\n"
     ]
    },
    {
     "name": "stdout",
     "output_type": "stream",
     "text": [
      "lr: 0.01\n",
      "batch_size: 32\n",
      "num_epochs: 500\n"
     ]
    },
    {
     "name": "stderr",
     "output_type": "stream",
     "text": [
      "[I 2024-02-26 16:14:34,886] Trial 20 finished with value: 0.4308788478374481 and parameters: {'lr': 0.01, 'batch_size': 32, 'num_epochs': 500}. Best is trial 10 with value: 0.28539252281188965.\n"
     ]
    },
    {
     "name": "stdout",
     "output_type": "stream",
     "text": [
      "lr: 0.002\n",
      "batch_size: 32\n",
      "num_epochs: 500\n"
     ]
    },
    {
     "name": "stderr",
     "output_type": "stream",
     "text": [
      "[I 2024-02-26 16:14:35,590] Trial 21 pruned. \n"
     ]
    },
    {
     "name": "stdout",
     "output_type": "stream",
     "text": [
      "lr: 0.002\n",
      "batch_size: 32\n",
      "num_epochs: 500\n"
     ]
    },
    {
     "name": "stderr",
     "output_type": "stream",
     "text": [
      "[I 2024-02-26 16:14:36,294] Trial 22 pruned. \n"
     ]
    },
    {
     "name": "stdout",
     "output_type": "stream",
     "text": [
      "lr: 0.002\n",
      "batch_size: 32\n",
      "num_epochs: 500\n"
     ]
    },
    {
     "name": "stderr",
     "output_type": "stream",
     "text": [
      "[I 2024-02-26 16:14:37,004] Trial 23 pruned. \n"
     ]
    },
    {
     "name": "stdout",
     "output_type": "stream",
     "text": [
      "lr: 0.002\n",
      "batch_size: 32\n",
      "num_epochs: 500\n"
     ]
    },
    {
     "name": "stderr",
     "output_type": "stream",
     "text": [
      "[I 2024-02-26 16:14:37,715] Trial 24 pruned. \n"
     ]
    },
    {
     "name": "stdout",
     "output_type": "stream",
     "text": [
      "lr: 0.01\n",
      "batch_size: 32\n",
      "num_epochs: 200\n"
     ]
    },
    {
     "name": "stderr",
     "output_type": "stream",
     "text": [
      "[I 2024-02-26 16:14:38,425] Trial 25 finished with value: 0.29741740226745605 and parameters: {'lr': 0.01, 'batch_size': 32, 'num_epochs': 200}. Best is trial 10 with value: 0.28539252281188965.\n"
     ]
    },
    {
     "name": "stdout",
     "output_type": "stream",
     "text": [
      "lr: 0.01\n",
      "batch_size: 32\n",
      "num_epochs: 200\n"
     ]
    },
    {
     "name": "stderr",
     "output_type": "stream",
     "text": [
      "[I 2024-02-26 16:14:39,827] Trial 26 finished with value: 0.5295068025588989 and parameters: {'lr': 0.01, 'batch_size': 32, 'num_epochs': 200}. Best is trial 10 with value: 0.28539252281188965.\n"
     ]
    },
    {
     "name": "stdout",
     "output_type": "stream",
     "text": [
      "lr: 0.01\n",
      "batch_size: 32\n",
      "num_epochs: 200\n"
     ]
    },
    {
     "name": "stderr",
     "output_type": "stream",
     "text": [
      "[I 2024-02-26 16:14:40,530] Trial 27 finished with value: 0.33166295289993286 and parameters: {'lr': 0.01, 'batch_size': 32, 'num_epochs': 200}. Best is trial 10 with value: 0.28539252281188965.\n"
     ]
    },
    {
     "name": "stdout",
     "output_type": "stream",
     "text": [
      "lr: 0.01\n",
      "batch_size: 16\n",
      "num_epochs: 200\n"
     ]
    },
    {
     "name": "stderr",
     "output_type": "stream",
     "text": [
      "[I 2024-02-26 16:14:42,513] Trial 28 finished with value: 0.4581485688686371 and parameters: {'lr': 0.01, 'batch_size': 16, 'num_epochs': 200}. Best is trial 10 with value: 0.28539252281188965.\n"
     ]
    },
    {
     "name": "stdout",
     "output_type": "stream",
     "text": [
      "lr: 0.01\n",
      "batch_size: 8\n",
      "num_epochs: 100\n"
     ]
    },
    {
     "name": "stderr",
     "output_type": "stream",
     "text": [
      "[I 2024-02-26 16:14:46,046] Trial 29 finished with value: 0.7077116072177887 and parameters: {'lr': 0.01, 'batch_size': 8, 'num_epochs': 100}. Best is trial 10 with value: 0.28539252281188965.\n"
     ]
    },
    {
     "name": "stdout",
     "output_type": "stream",
     "text": [
      "Study statistics:\n",
      "Number of finished trials: 30\n",
      "Number of pruned trials: 7\n",
      "Number of complete trials: 23\n",
      "Best trial:\n",
      "Value:  0.28539252281188965\n",
      "Params:\n",
      "lr: 0.01\n",
      "batch_size: 32\n",
      "num_epochs: 200\n",
      "Model 3 complete.\n",
      "Training Model 4\n",
      "cuda:0\n"
     ]
    },
    {
     "name": "stderr",
     "output_type": "stream",
     "text": [
      "[I 2024-02-26 16:14:46,293] A new study created in memory with name: no-name-cc9f89a1-a28e-4ffe-b175-c03548e697c6\n"
     ]
    },
    {
     "name": "stdout",
     "output_type": "stream",
     "text": [
      "lr: 0.01\n",
      "batch_size: 16\n",
      "num_epochs: 200\n"
     ]
    },
    {
     "name": "stderr",
     "output_type": "stream",
     "text": [
      "[I 2024-02-26 16:14:49,912] Trial 0 finished with value: 0.5162650346755981 and parameters: {'lr': 0.01, 'batch_size': 16, 'num_epochs': 200}. Best is trial 0 with value: 0.5162650346755981.\n"
     ]
    },
    {
     "name": "stdout",
     "output_type": "stream",
     "text": [
      "lr: 0.002\n",
      "batch_size: 32\n",
      "num_epochs: 100\n"
     ]
    },
    {
     "name": "stderr",
     "output_type": "stream",
     "text": [
      "[I 2024-02-26 16:14:50,978] Trial 1 finished with value: 0.21270005404949188 and parameters: {'lr': 0.002, 'batch_size': 32, 'num_epochs': 100}. Best is trial 1 with value: 0.21270005404949188.\n"
     ]
    },
    {
     "name": "stdout",
     "output_type": "stream",
     "text": [
      "lr: 0.002\n",
      "batch_size: 8\n",
      "num_epochs: 500\n"
     ]
    },
    {
     "name": "stderr",
     "output_type": "stream",
     "text": [
      "[I 2024-02-26 16:14:55,663] Trial 2 finished with value: 0.3406253829598427 and parameters: {'lr': 0.002, 'batch_size': 8, 'num_epochs': 500}. Best is trial 1 with value: 0.21270005404949188.\n"
     ]
    },
    {
     "name": "stdout",
     "output_type": "stream",
     "text": [
      "lr: 0.002\n",
      "batch_size: 16\n",
      "num_epochs: 500\n"
     ]
    },
    {
     "name": "stderr",
     "output_type": "stream",
     "text": [
      "[I 2024-02-26 16:14:59,362] Trial 3 finished with value: 0.2885979413986206 and parameters: {'lr': 0.002, 'batch_size': 16, 'num_epochs': 500}. Best is trial 1 with value: 0.21270005404949188.\n"
     ]
    },
    {
     "name": "stdout",
     "output_type": "stream",
     "text": [
      "lr: 0.0001\n",
      "batch_size: 16\n",
      "num_epochs: 200\n"
     ]
    },
    {
     "name": "stderr",
     "output_type": "stream",
     "text": [
      "[I 2024-02-26 16:15:01,376] Trial 4 finished with value: 0.28834986686706543 and parameters: {'lr': 0.0001, 'batch_size': 16, 'num_epochs': 200}. Best is trial 1 with value: 0.21270005404949188.\n"
     ]
    },
    {
     "name": "stdout",
     "output_type": "stream",
     "text": [
      "lr: 0.001\n",
      "batch_size: 16\n",
      "num_epochs: 200\n"
     ]
    },
    {
     "name": "stderr",
     "output_type": "stream",
     "text": [
      "[I 2024-02-26 16:15:04,059] Trial 5 finished with value: 0.26700156927108765 and parameters: {'lr': 0.001, 'batch_size': 16, 'num_epochs': 200}. Best is trial 1 with value: 0.21270005404949188.\n"
     ]
    },
    {
     "name": "stdout",
     "output_type": "stream",
     "text": [
      "lr: 0.005\n",
      "batch_size: 8\n",
      "num_epochs: 500\n"
     ]
    },
    {
     "name": "stderr",
     "output_type": "stream",
     "text": [
      "[I 2024-02-26 16:15:08,231] Trial 6 finished with value: 0.21108996868133545 and parameters: {'lr': 0.005, 'batch_size': 8, 'num_epochs': 500}. Best is trial 6 with value: 0.21108996868133545.\n"
     ]
    },
    {
     "name": "stdout",
     "output_type": "stream",
     "text": [
      "lr: 0.001\n",
      "batch_size: 16\n",
      "num_epochs: 100\n"
     ]
    },
    {
     "name": "stderr",
     "output_type": "stream",
     "text": [
      "[I 2024-02-26 16:15:10,982] Trial 7 finished with value: 0.2833362817764282 and parameters: {'lr': 0.001, 'batch_size': 16, 'num_epochs': 100}. Best is trial 6 with value: 0.21108996868133545.\n"
     ]
    },
    {
     "name": "stdout",
     "output_type": "stream",
     "text": [
      "lr: 0.001\n",
      "batch_size: 32\n",
      "num_epochs: 500\n"
     ]
    },
    {
     "name": "stderr",
     "output_type": "stream",
     "text": [
      "[I 2024-02-26 16:15:11,808] Trial 8 finished with value: 0.27525392174720764 and parameters: {'lr': 0.001, 'batch_size': 32, 'num_epochs': 500}. Best is trial 6 with value: 0.21108996868133545.\n"
     ]
    },
    {
     "name": "stdout",
     "output_type": "stream",
     "text": [
      "lr: 0.01\n",
      "batch_size: 8\n",
      "num_epochs: 100\n"
     ]
    },
    {
     "name": "stderr",
     "output_type": "stream",
     "text": [
      "[I 2024-02-26 16:15:14,372] Trial 9 finished with value: 0.5297787487506866 and parameters: {'lr': 0.01, 'batch_size': 8, 'num_epochs': 100}. Best is trial 6 with value: 0.21108996868133545.\n"
     ]
    },
    {
     "name": "stdout",
     "output_type": "stream",
     "text": [
      "lr: 0.005\n",
      "batch_size: 8\n",
      "num_epochs: 50\n"
     ]
    },
    {
     "name": "stderr",
     "output_type": "stream",
     "text": [
      "[I 2024-02-26 16:15:18,888] Trial 10 finished with value: 0.4187569171190262 and parameters: {'lr': 0.005, 'batch_size': 8, 'num_epochs': 50}. Best is trial 6 with value: 0.21108996868133545.\n"
     ]
    },
    {
     "name": "stdout",
     "output_type": "stream",
     "text": [
      "lr: 0.005\n",
      "batch_size: 32\n",
      "num_epochs: 100\n"
     ]
    },
    {
     "name": "stderr",
     "output_type": "stream",
     "text": [
      "[I 2024-02-26 16:15:20,512] Trial 11 finished with value: 0.3041975498199463 and parameters: {'lr': 0.005, 'batch_size': 32, 'num_epochs': 100}. Best is trial 6 with value: 0.21108996868133545.\n"
     ]
    },
    {
     "name": "stdout",
     "output_type": "stream",
     "text": [
      "lr: 0.002\n",
      "batch_size: 32\n",
      "num_epochs: 50\n"
     ]
    },
    {
     "name": "stderr",
     "output_type": "stream",
     "text": [
      "[I 2024-02-26 16:15:21,365] Trial 12 finished with value: 0.27789855003356934 and parameters: {'lr': 0.002, 'batch_size': 32, 'num_epochs': 50}. Best is trial 6 with value: 0.21108996868133545.\n"
     ]
    },
    {
     "name": "stdout",
     "output_type": "stream",
     "text": [
      "lr: 0.005\n",
      "batch_size: 32\n",
      "num_epochs: 100\n"
     ]
    },
    {
     "name": "stderr",
     "output_type": "stream",
     "text": [
      "[I 2024-02-26 16:15:22,129] Trial 13 finished with value: 0.28823617100715637 and parameters: {'lr': 0.005, 'batch_size': 32, 'num_epochs': 100}. Best is trial 6 with value: 0.21108996868133545.\n"
     ]
    },
    {
     "name": "stdout",
     "output_type": "stream",
     "text": [
      "lr: 0.0001\n",
      "batch_size: 8\n",
      "num_epochs: 500\n"
     ]
    },
    {
     "name": "stderr",
     "output_type": "stream",
     "text": [
      "[I 2024-02-26 16:15:27,723] Trial 14 pruned. \n"
     ]
    },
    {
     "name": "stdout",
     "output_type": "stream",
     "text": [
      "lr: 0.002\n",
      "batch_size: 32\n",
      "num_epochs: 100\n"
     ]
    },
    {
     "name": "stderr",
     "output_type": "stream",
     "text": [
      "[I 2024-02-26 16:15:28,850] Trial 15 finished with value: 0.2897830009460449 and parameters: {'lr': 0.002, 'batch_size': 32, 'num_epochs': 100}. Best is trial 6 with value: 0.21108996868133545.\n"
     ]
    },
    {
     "name": "stdout",
     "output_type": "stream",
     "text": [
      "lr: 0.005\n",
      "batch_size: 8\n",
      "num_epochs: 500\n"
     ]
    },
    {
     "name": "stderr",
     "output_type": "stream",
     "text": [
      "[I 2024-02-26 16:15:33,410] Trial 16 finished with value: 0.3528554439544678 and parameters: {'lr': 0.005, 'batch_size': 8, 'num_epochs': 500}. Best is trial 6 with value: 0.21108996868133545.\n"
     ]
    },
    {
     "name": "stdout",
     "output_type": "stream",
     "text": [
      "lr: 0.002\n",
      "batch_size: 8\n",
      "num_epochs: 50\n"
     ]
    },
    {
     "name": "stderr",
     "output_type": "stream",
     "text": [
      "[I 2024-02-26 16:15:37,915] Trial 17 finished with value: 0.28202739357948303 and parameters: {'lr': 0.002, 'batch_size': 8, 'num_epochs': 50}. Best is trial 6 with value: 0.21108996868133545.\n"
     ]
    },
    {
     "name": "stdout",
     "output_type": "stream",
     "text": [
      "lr: 0.005\n",
      "batch_size: 32\n",
      "num_epochs: 100\n"
     ]
    },
    {
     "name": "stderr",
     "output_type": "stream",
     "text": [
      "[I 2024-02-26 16:15:38,981] Trial 18 finished with value: 0.25700974464416504 and parameters: {'lr': 0.005, 'batch_size': 32, 'num_epochs': 100}. Best is trial 6 with value: 0.21108996868133545.\n"
     ]
    },
    {
     "name": "stdout",
     "output_type": "stream",
     "text": [
      "lr: 0.0001\n",
      "batch_size: 8\n",
      "num_epochs: 500\n"
     ]
    },
    {
     "name": "stderr",
     "output_type": "stream",
     "text": [
      "[I 2024-02-26 16:15:44,631] Trial 19 finished with value: 0.2588166743516922 and parameters: {'lr': 0.0001, 'batch_size': 8, 'num_epochs': 500}. Best is trial 6 with value: 0.21108996868133545.\n"
     ]
    },
    {
     "name": "stdout",
     "output_type": "stream",
     "text": [
      "lr: 0.01\n",
      "batch_size: 32\n",
      "num_epochs: 500\n"
     ]
    },
    {
     "name": "stderr",
     "output_type": "stream",
     "text": [
      "[I 2024-02-26 16:15:45,486] Trial 20 finished with value: 0.23319709300994873 and parameters: {'lr': 0.01, 'batch_size': 32, 'num_epochs': 500}. Best is trial 6 with value: 0.21108996868133545.\n"
     ]
    },
    {
     "name": "stdout",
     "output_type": "stream",
     "text": [
      "lr: 0.01\n",
      "batch_size: 32\n",
      "num_epochs: 500\n"
     ]
    },
    {
     "name": "stderr",
     "output_type": "stream",
     "text": [
      "[I 2024-02-26 16:15:46,162] Trial 21 finished with value: 0.25855347514152527 and parameters: {'lr': 0.01, 'batch_size': 32, 'num_epochs': 500}. Best is trial 6 with value: 0.21108996868133545.\n"
     ]
    },
    {
     "name": "stdout",
     "output_type": "stream",
     "text": [
      "lr: 0.01\n",
      "batch_size: 32\n",
      "num_epochs: 500\n"
     ]
    },
    {
     "name": "stderr",
     "output_type": "stream",
     "text": [
      "[I 2024-02-26 16:15:47,377] Trial 22 finished with value: 0.2746475338935852 and parameters: {'lr': 0.01, 'batch_size': 32, 'num_epochs': 500}. Best is trial 6 with value: 0.21108996868133545.\n"
     ]
    },
    {
     "name": "stdout",
     "output_type": "stream",
     "text": [
      "lr: 0.01\n",
      "batch_size: 32\n",
      "num_epochs: 500\n"
     ]
    },
    {
     "name": "stderr",
     "output_type": "stream",
     "text": [
      "[I 2024-02-26 16:15:48,410] Trial 23 finished with value: 0.280463844537735 and parameters: {'lr': 0.01, 'batch_size': 32, 'num_epochs': 500}. Best is trial 6 with value: 0.21108996868133545.\n"
     ]
    },
    {
     "name": "stdout",
     "output_type": "stream",
     "text": [
      "lr: 0.002\n",
      "batch_size: 32\n",
      "num_epochs: 500\n"
     ]
    },
    {
     "name": "stderr",
     "output_type": "stream",
     "text": [
      "[I 2024-02-26 16:15:49,293] Trial 24 finished with value: 0.27432358264923096 and parameters: {'lr': 0.002, 'batch_size': 32, 'num_epochs': 500}. Best is trial 6 with value: 0.21108996868133545.\n"
     ]
    },
    {
     "name": "stdout",
     "output_type": "stream",
     "text": [
      "lr: 0.01\n",
      "batch_size: 32\n",
      "num_epochs: 100\n"
     ]
    },
    {
     "name": "stderr",
     "output_type": "stream",
     "text": [
      "[I 2024-02-26 16:15:49,996] Trial 25 finished with value: 0.3162961006164551 and parameters: {'lr': 0.01, 'batch_size': 32, 'num_epochs': 100}. Best is trial 6 with value: 0.21108996868133545.\n"
     ]
    },
    {
     "name": "stdout",
     "output_type": "stream",
     "text": [
      "lr: 0.005\n",
      "batch_size: 8\n",
      "num_epochs: 200\n"
     ]
    },
    {
     "name": "stderr",
     "output_type": "stream",
     "text": [
      "[I 2024-02-26 16:15:54,556] Trial 26 finished with value: 0.30401624739170074 and parameters: {'lr': 0.005, 'batch_size': 8, 'num_epochs': 200}. Best is trial 6 with value: 0.21108996868133545.\n"
     ]
    },
    {
     "name": "stdout",
     "output_type": "stream",
     "text": [
      "lr: 0.002\n",
      "batch_size: 32\n",
      "num_epochs: 50\n"
     ]
    },
    {
     "name": "stderr",
     "output_type": "stream",
     "text": [
      "[I 2024-02-26 16:15:55,440] Trial 27 finished with value: 0.24563294649124146 and parameters: {'lr': 0.002, 'batch_size': 32, 'num_epochs': 50}. Best is trial 6 with value: 0.21108996868133545.\n"
     ]
    },
    {
     "name": "stdout",
     "output_type": "stream",
     "text": [
      "lr: 0.01\n",
      "batch_size: 32\n",
      "num_epochs: 500\n"
     ]
    },
    {
     "name": "stderr",
     "output_type": "stream",
     "text": [
      "[I 2024-02-26 16:15:56,297] Trial 28 finished with value: 0.262162983417511 and parameters: {'lr': 0.01, 'batch_size': 32, 'num_epochs': 500}. Best is trial 6 with value: 0.21108996868133545.\n"
     ]
    },
    {
     "name": "stdout",
     "output_type": "stream",
     "text": [
      "lr: 0.005\n",
      "batch_size: 8\n",
      "num_epochs: 200\n"
     ]
    },
    {
     "name": "stderr",
     "output_type": "stream",
     "text": [
      "[I 2024-02-26 16:16:02,949] Trial 29 finished with value: 0.27155306935310364 and parameters: {'lr': 0.005, 'batch_size': 8, 'num_epochs': 200}. Best is trial 6 with value: 0.21108996868133545.\n"
     ]
    },
    {
     "name": "stdout",
     "output_type": "stream",
     "text": [
      "Study statistics:\n",
      "Number of finished trials: 30\n",
      "Number of pruned trials: 1\n",
      "Number of complete trials: 29\n",
      "Best trial:\n",
      "Value:  0.21108996868133545\n",
      "Params:\n",
      "lr: 0.005\n",
      "batch_size: 8\n",
      "num_epochs: 500\n",
      "Model 4 complete.\n"
     ]
    }
   ],
   "source": [
    "# Run Optuna_Trainer\n",
    "\n",
    "n_models = 5\n",
    "\n",
    "for m in range(n_models):\n",
    "    print(f\"Training Model {m}\")\n",
    "    \n",
    "    #Get the necessary information\n",
    "    split = train_test_splits[m]   #There are the same number of splits as there are models\n",
    "    x_train, g_train, y_train, x_validation, g_validation, y_validation, x_test, g_test, y_test = get_wrapper(split, m)\n",
    "    \n",
    "    \n",
    "    # Set random seed\n",
    "    random_seed = m\n",
    "    torch.manual_seed(random_seed)\n",
    "    torch.cuda.manual_seed(random_seed)\n",
    "    torch.cuda.manual_seed_all(random_seed)\n",
    "    np.random.seed(random_seed)\n",
    "    \n",
    "    print(device)\n",
    "\n",
    "    # Load pre-trained model\n",
    "    model = GeneInteractionModel(hidden_size=128, num_layers=1).to(device)  # Model\n",
    "    model.load_state_dict(torch.load('models/ontarget/final/model_{}.pt'.format(m % 5)))  # Loads weights, biases from this pre-trained model\n",
    "\n",
    "    # Create a Trainer instance for each model\n",
    "    trainer = Optuna_Trainer(model, x_train, g_train, y_train, x_validation, g_validation, y_validation)\n",
    "\n",
    "    # Execute hyperparameter study\n",
    "    trainer.exec_study()\n",
    "\n",
    "    print(f\"Model {m} complete.\")"
   ]
  },
  {
   "cell_type": "markdown",
   "id": "5a8fab60-d9d1-4e3a-8801-10f0473362b0",
   "metadata": {},
   "source": [
    "# Fine-tuning with best hyperparameters"
   ]
  },
  {
   "cell_type": "code",
   "execution_count": 40,
   "id": "b260ff6c-e267-4972-85fc-f8d4aeead8d1",
   "metadata": {
    "tags": []
   },
   "outputs": [],
   "source": [
    "class Trainer:\n",
    "    \n",
    "    def __init__(self, model, x_train, g_train, y_train, x_validation, g_validation, y_validation): \n",
    "        self.g_train = g_train\n",
    "        self.x_train = x_train\n",
    "        self.y_train = y_train\n",
    "        self.g_val = g_validation\n",
    "        self.x_val = x_validation\n",
    "        self.y_val = y_validation\n",
    "        self.model = model\n",
    "\n",
    "        self.patience = 20\n",
    "        self.delta = 1e-4\n",
    "        \n",
    "        if m == 0:\n",
    "            self.lr = 0.01\n",
    "            self.bs = 8\n",
    "            self.ep = 200\n",
    "            \n",
    "        elif m == 1:\n",
    "            self.lr = 0.01\n",
    "            self.bs = 32\n",
    "            self.ep = 100\n",
    "            \n",
    "        elif m == 2:\n",
    "            self.lr = 0.01\n",
    "            self.bs = 8\n",
    "            self.ep = 200  \n",
    "            \n",
    "        elif m == 3:\n",
    "            self.lr = 0.01\n",
    "            self.bs = 32\n",
    "            self.ep = 200\n",
    "          \n",
    "        elif m == 4:\n",
    "            self.lr = 0.005\n",
    "            self.bs = 8\n",
    "            self.ep = 500   \n",
    "            \n",
    "\n",
    "        self.wd = self.lr\n",
    "    \n",
    "        print(m, self.lr, self.bs, self.ep)\n",
    "\n",
    "    def train_model(self):                # Does not take in trial as a parameter because we are no longer testing out different hyperparameters.\n",
    "        \n",
    "        min_loss = None                   # Stores the minimum loss\n",
    "        early_stopping_counter = 0        # Track how many consecutive epochs have occurred without improvement in the validation loss, used to prevent overfitting.\n",
    "        \n",
    "        \n",
    "        train_dataset = GeneFeatureDataset(self.g_train, self.x_train, self.y_train) \n",
    "        train_loader = DataLoader(train_dataset, batch_size=self.bs, shuffle=True, drop_last=True) \n",
    "\n",
    "\n",
    "        val_dataset = GeneFeatureDataset(self.g_val, self.x_val, self.y_val) \n",
    "        val_loader = DataLoader(val_dataset, batch_size=self.bs, shuffle=True)\n",
    "\n",
    "        optimizer = optim.AdamW(self.model.parameters(), lr=self.lr, weight_decay=self.wd) \n",
    "        optimizer.zero_grad()  #Q: Zeroes out gradients?\n",
    "        \n",
    "\n",
    "        criterion = BalancedMSELoss()\n",
    "\n",
    "        print(\"epoch\\ttrain_loss\\tval_loss\")\n",
    "        for epoch in range(self.ep): # self.ep is the number of epochs, so here we are iterating through the epochs\n",
    "            \n",
    "            # Train\n",
    "            self.model.train()  # Sets model in training mode\n",
    "            train_loss = []\n",
    "            train_count = 0\n",
    "    \n",
    "\n",
    "            # Works through each batch of data set up by the train_loader\n",
    "            for i, (g_batch, x_batch, y_batch) in enumerate(train_loader):\n",
    "                g_batch, x_batch, y_batch = g_batch.cuda(), x_batch.cuda(), y_batch.cuda() # If gpu is available, moves tensors to GPU\n",
    "                \n",
    "                g_batch = g_batch.permute((0, 3, 1, 2))\n",
    "                x_batch = x_batch\n",
    "                y_batch = y_batch.reshape(-1, 4)\n",
    "\n",
    "                optimizer.zero_grad()  # Q: Why should I zero the gradient again?\n",
    "\n",
    "                output = self.model(g_batch, x_batch) # Send g and x through the model\n",
    "\n",
    "                total_loss = criterion(output, y_batch) # Calculate the loss between the model output and the measured efficiencies\n",
    "\n",
    "                total_loss.backward()\n",
    "                optimizer.step()  # Applies optimization to update parameters\n",
    "\n",
    "                train_loss.append(x_batch.size(0) * total_loss.detach().cpu().numpy())\n",
    "                train_count += x_batch.size(0)\n",
    "                \n",
    "\n",
    "            train_loss = sum(train_loss) / train_count\n",
    "\n",
    "\n",
    "            # Validation\n",
    "            \n",
    "            self.model.eval()  # Set model in evaluation mode\n",
    "            \n",
    "            val_loss = []\n",
    "            val_count = 0\n",
    "\n",
    "            # Same as with training batches\n",
    "            for i, (g_batch, x_batch, y_batch) in enumerate(val_loader):\n",
    "                g_batch, x_batch, y_batch = g_batch.cuda(), x_batch.cuda(), y_batch.cuda()\n",
    "\n",
    "                g_batch = g_batch.permute((0, 3, 1, 2))\n",
    "                x_batch = x_batch\n",
    "                y_batch = y_batch.reshape(-1, 4)\n",
    "                \n",
    "                output = self.model(g_batch, x_batch)  #Run validation data through model\n",
    "\n",
    "                loss = criterion(output, y_batch)\n",
    "                \n",
    "                val_loss.append(x_batch.size(0) * loss.detach().cpu().numpy())\n",
    "                val_count += x_batch.size(0)\n",
    "\n",
    "            val_loss = sum(val_loss) / val_count\n",
    " \n",
    "\n",
    "\n",
    "\n",
    "            # Summary of training progress\n",
    "            # print(\"{}\\t{:.4f}\\t{:.4f}\".format(epoch, train_loss, val_loss))\n",
    "\n",
    "            \n",
    "\n",
    "            if min_loss is None:\n",
    "                min_loss = val_loss  \n",
    "            elif min_loss - val_loss > self.delta:                    # If the difference between the previous minimum loss and the current validation loss is greater than delta, update values\n",
    "                min_loss = val_loss                                   # Set the new minimum loss to current validation loss\n",
    "                early_stopping_counter = 0                            # Reset to 0, indicating no consecutive epochs with increasing validation loss.\n",
    "            elif min_loss - val_loss < self.delta:                    # No improvement in validation loss\n",
    "                early_stopping_counter += 1                           # Consecutive epoch for which there is no improvement on validation loss\n",
    "                if early_stopping_counter >= self.patience:           # At this point, further training is unlikely to improve/lower validation loss, so break\n",
    "                    break\n",
    "\n",
    "        print(val_loss)\n",
    "        return val_loss  # Returns the minimum validation loss\n"
   ]
  },
  {
   "cell_type": "code",
   "execution_count": 43,
   "id": "0a1a7edd-4b4a-4679-b5aa-cbeb46c1c325",
   "metadata": {
    "tags": []
   },
   "outputs": [
    {
     "name": "stdout",
     "output_type": "stream",
     "text": [
      "Training Model 0\n",
      "cuda:0\n",
      "0 0.01 8 200\n",
      "epoch\ttrain_loss\tval_loss\n",
      "0.1896261672178904\n",
      "Model 0 complete.\n",
      "Training Model 1\n",
      "cuda:0\n",
      "1 0.01 32 100\n",
      "epoch\ttrain_loss\tval_loss\n",
      "0.15802793204784393\n",
      "Model 1 complete.\n",
      "Training Model 2\n",
      "cuda:0\n",
      "2 0.01 8 200\n",
      "epoch\ttrain_loss\tval_loss\n",
      "0.19208008249600728\n",
      "Model 2 complete.\n",
      "Training Model 3\n",
      "cuda:0\n",
      "3 0.01 32 200\n",
      "epoch\ttrain_loss\tval_loss\n",
      "0.15506646037101746\n",
      "Model 3 complete.\n",
      "Training Model 4\n",
      "cuda:0\n",
      "4 0.005 8 500\n",
      "epoch\ttrain_loss\tval_loss\n",
      "0.2996651828289032\n",
      "Model 4 complete.\n"
     ]
    }
   ],
   "source": [
    "# Run Trainer\n",
    "\n",
    "n_models = 5\n",
    "\n",
    "for m in range(n_models):\n",
    "    print(f\"Training Model {m}\")\n",
    "    \n",
    "    split = train_test_splits[m]\n",
    "    x_train, g_train, y_train, x_validation, g_validation, y_validation, x_test, g_test, y_test = get_wrapper(split, m)\n",
    "    \n",
    "    # Set random seed\n",
    "    random_seed = m\n",
    "    torch.manual_seed(random_seed)\n",
    "    torch.cuda.manual_seed(random_seed)\n",
    "    torch.cuda.manual_seed_all(random_seed)\n",
    "    np.random.seed(random_seed)\n",
    "    \n",
    "    print(device)\n",
    "\n",
    "    # Load pre-trained model\n",
    "    model = GeneInteractionModel(hidden_size=128, num_layers=1).to(device)  # Model\n",
    "    model.load_state_dict(torch.load('models/ontarget/final/model_{}.pt'.format(m % 5)))  # Loads weights, biases from this pre-trained model\n",
    "\n",
    "    # Create a Trainer instance for each model\n",
    "    trainer = Trainer(model, x_train, g_train, y_train, x_validation, g_validation, y_validation)\n",
    "\n",
    "    # Execute hyperparameter study\n",
    "    trainer.train_model()\n",
    "    \n",
    "    torch.save(model.state_dict(), f'models/endogenous/model_{m}.pt')   # Model has now been updated after training, so store the model in a new folder\n",
    "\n",
    "    print(f\"Model {m} complete.\")"
   ]
  },
  {
   "cell_type": "markdown",
   "id": "5fb1ebff-e240-49ee-8f98-1fad744ad318",
   "metadata": {},
   "source": [
    "### Now, run test sets through their respective models"
   ]
  },
  {
   "cell_type": "code",
   "execution_count": 233,
   "id": "b491800a-06d8-4bad-a632-6d5125b04b10",
   "metadata": {},
   "outputs": [],
   "source": [
    "def calculate_deepprime_score(df_input, num_model, pe_system='PE2', cell_type='HEK293T'):\n",
    "    \n",
    "\n",
    "    mean = pd.read_csv('../DeepPrime-main/models/DeepPrime/DeepPrime_base/mean.csv', header=None, index_col=0)\n",
    "    std  = pd.read_csv('../DeepPrime-main/models/DeepPrime/DeepPrime_base/std.csv', header=None, index_col=0)\n",
    "\n",
    "    mean = mean.squeeze('columns')\n",
    "    std = std.squeeze('columns')\n",
    "\n",
    "    test_features, test_target = select_cols(test) \n",
    "\n",
    "    g_test = seq_concat(test)\n",
    "    x_test = (test_features - mean) / std\n",
    "\n",
    "    g_test = torch.tensor(g_test, dtype=torch.float32, device=device)\n",
    "    x_test = torch.tensor(x_test.to_numpy(), dtype=torch.float32, device=device)\n",
    "\n",
    "    preds  = []\n",
    "\n",
    "    # Model particular to the test dataset\n",
    "    model = GeneInteractionModel(hidden_size=128, num_layers=1).to(device)\n",
    "    model.load_state_dict(torch.load('models/endogenous/model_{}.pt'.format(0)))\n",
    "\n",
    "    model.eval()\n",
    "    with torch.no_grad():\n",
    "        g, x = g_test, x_test\n",
    "        g = g.permute((0, 3, 1, 2))\n",
    "        pred = model(g, x).detach().cpu().numpy()\n",
    "    preds.append(pred)\n",
    "\n",
    "    # Need this line!!\n",
    "    preds = np.squeeze(np.array(preds))\n",
    "    preds = np.exp(preds) - 1 # Really am not sure whether I need this line or not, so check with and without, probably\n",
    "    \n",
    "    return preds"
   ]
  },
  {
   "cell_type": "code",
   "execution_count": 234,
   "id": "30f35dbf-2f09-4f0b-91b2-7c80aec36147",
   "metadata": {
    "tags": []
   },
   "outputs": [
    {
     "name": "stdout",
     "output_type": "stream",
     "text": [
      "Start preprocessing the sequence done 2d\n",
      "(40,) 40 74\n"
     ]
    },
    {
     "name": "stderr",
     "output_type": "stream",
     "text": [
      "100%|██████████| 40/40 [00:00<00:00, 2019.92it/s]\n"
     ]
    },
    {
     "name": "stdout",
     "output_type": "stream",
     "text": [
      "Preprocessed the sequence\n",
      "Start preprocessing the sequence done 2d\n",
      "(40,) 40 74\n"
     ]
    },
    {
     "name": "stderr",
     "output_type": "stream",
     "text": [
      "100%|██████████| 40/40 [00:00<00:00, 1192.99it/s]\n"
     ]
    },
    {
     "name": "stdout",
     "output_type": "stream",
     "text": [
      "Preprocessed the sequence\n",
      "Start preprocessing the sequence done 2d\n",
      "(40,) 40 74\n"
     ]
    },
    {
     "name": "stderr",
     "output_type": "stream",
     "text": [
      "100%|██████████| 40/40 [00:00<00:00, 1452.31it/s]\n"
     ]
    },
    {
     "name": "stdout",
     "output_type": "stream",
     "text": [
      "Preprocessed the sequence\n",
      "Start preprocessing the sequence done 2d\n",
      "(40,) 40 74\n"
     ]
    },
    {
     "name": "stderr",
     "output_type": "stream",
     "text": [
      "100%|██████████| 40/40 [00:00<00:00, 1212.12it/s]\n"
     ]
    },
    {
     "name": "stdout",
     "output_type": "stream",
     "text": [
      "Preprocessed the sequence\n",
      "Start preprocessing the sequence done 2d\n",
      "(40,) 40 74\n"
     ]
    },
    {
     "name": "stderr",
     "output_type": "stream",
     "text": [
      "100%|██████████| 40/40 [00:00<00:00, 2049.48it/s]\n"
     ]
    },
    {
     "name": "stdout",
     "output_type": "stream",
     "text": [
      "Preprocessed the sequence\n",
      "Start preprocessing the sequence done 2d\n",
      "(40,) 40 74\n"
     ]
    },
    {
     "name": "stderr",
     "output_type": "stream",
     "text": [
      "100%|██████████| 40/40 [00:00<00:00, 1484.33it/s]\n"
     ]
    },
    {
     "name": "stdout",
     "output_type": "stream",
     "text": [
      "Preprocessed the sequence\n",
      "Start preprocessing the sequence done 2d\n",
      "(40,) 40 74\n"
     ]
    },
    {
     "name": "stderr",
     "output_type": "stream",
     "text": [
      "100%|██████████| 40/40 [00:00<00:00, 2156.73it/s]\n"
     ]
    },
    {
     "name": "stdout",
     "output_type": "stream",
     "text": [
      "Preprocessed the sequence\n",
      "Start preprocessing the sequence done 2d\n",
      "(40,) 40 74\n"
     ]
    },
    {
     "name": "stderr",
     "output_type": "stream",
     "text": [
      "100%|██████████| 40/40 [00:00<00:00, 1581.76it/s]\n"
     ]
    },
    {
     "name": "stdout",
     "output_type": "stream",
     "text": [
      "Preprocessed the sequence\n",
      "Start preprocessing the sequence done 2d\n",
      "(39,) 39 74\n"
     ]
    },
    {
     "name": "stderr",
     "output_type": "stream",
     "text": [
      "100%|██████████| 39/39 [00:00<00:00, 2111.15it/s]\n"
     ]
    },
    {
     "name": "stdout",
     "output_type": "stream",
     "text": [
      "Preprocessed the sequence\n",
      "Start preprocessing the sequence done 2d\n",
      "(39,) 39 74\n"
     ]
    },
    {
     "name": "stderr",
     "output_type": "stream",
     "text": [
      "100%|██████████| 39/39 [00:00<00:00, 1523.37it/s]\n"
     ]
    },
    {
     "name": "stdout",
     "output_type": "stream",
     "text": [
      "Preprocessed the sequence\n"
     ]
    }
   ],
   "source": [
    "all_test_df = []\n",
    "\n",
    "for i in range(len(train_test_splits)):\n",
    "    \n",
    "    test_indices = train_test_splits[i][2] # This extracts out the test indices \n",
    "    \n",
    "    test = finetune_data.loc[test_indices] # Subset entire data just for the test indices used for this particular model\n",
    "    test = test.reset_index(drop=True)\n",
    "    \n",
    "    \n",
    "    test['DeepPrime_score'] = calculate_deepprime_score(test, num_model = i)\n",
    "    \n",
    "    all_test_df.append(test)\n",
    "    test.to_csv('Test_' + str(i) + '.csv')\n",
    "    \n",
    "    "
   ]
  },
  {
   "cell_type": "code",
   "execution_count": 235,
   "id": "29d8e87b-0bd2-414b-bd96-f0036e5c139c",
   "metadata": {
    "tags": []
   },
   "outputs": [
    {
     "data": {
      "text/html": [
       "<div>\n",
       "<style scoped>\n",
       "    .dataframe tbody tr th:only-of-type {\n",
       "        vertical-align: middle;\n",
       "    }\n",
       "\n",
       "    .dataframe tbody tr th {\n",
       "        vertical-align: top;\n",
       "    }\n",
       "\n",
       "    .dataframe thead th {\n",
       "        text-align: right;\n",
       "    }\n",
       "</style>\n",
       "<table border=\"1\" class=\"dataframe\">\n",
       "  <thead>\n",
       "    <tr style=\"text-align: right;\">\n",
       "      <th></th>\n",
       "      <th>gene</th>\n",
       "      <th>ID</th>\n",
       "      <th>WT74_On</th>\n",
       "      <th>Edited74_On</th>\n",
       "      <th>PBSlen</th>\n",
       "      <th>RTlen</th>\n",
       "      <th>RT-PBSlen</th>\n",
       "      <th>Edit_pos</th>\n",
       "      <th>Edit_len</th>\n",
       "      <th>RHA_len</th>\n",
       "      <th>...</th>\n",
       "      <th>nGCcnt2</th>\n",
       "      <th>nGCcnt3</th>\n",
       "      <th>fGCcont1</th>\n",
       "      <th>fGCcont2</th>\n",
       "      <th>fGCcont3</th>\n",
       "      <th>MFE3</th>\n",
       "      <th>MFE4</th>\n",
       "      <th>DeepSpCas9_score</th>\n",
       "      <th>Measured_PE_efficiency</th>\n",
       "      <th>DeepPrime_score</th>\n",
       "    </tr>\n",
       "  </thead>\n",
       "  <tbody>\n",
       "    <tr>\n",
       "      <th>0</th>\n",
       "      <td>VEGFA</td>\n",
       "      <td>EDFIG5A_VEGFA_10NT</td>\n",
       "      <td>CTTTGATGTCTGCAGGCCAGATGAGGGCTCCAGATGGCACATTGTC...</td>\n",
       "      <td>xxxxxxxxTCTGCAGGCCAGATGAGTGCTCCAGATGGCACATTGTC...</td>\n",
       "      <td>13</td>\n",
       "      <td>28</td>\n",
       "      <td>41</td>\n",
       "      <td>5</td>\n",
       "      <td>1</td>\n",
       "      <td>23</td>\n",
       "      <td>...</td>\n",
       "      <td>14</td>\n",
       "      <td>22</td>\n",
       "      <td>61.538462</td>\n",
       "      <td>50.000000</td>\n",
       "      <td>53.658537</td>\n",
       "      <td>-9.4</td>\n",
       "      <td>-3.3</td>\n",
       "      <td>66.789276</td>\n",
       "      <td>25.172570</td>\n",
       "      <td>25.635569</td>\n",
       "    </tr>\n",
       "    <tr>\n",
       "      <th>1</th>\n",
       "      <td>HEK3</td>\n",
       "      <td>FIG2A_PE2_HEK3_10</td>\n",
       "      <td>TTGGGGCCCAGACTGAGCACGTGATGGCAGAGGAAAGGAAGCCCTG...</td>\n",
       "      <td>xxxxxxxxxxxACTGAGCACGAGATGGCAGAxxxxxxxxxxxxxxx...</td>\n",
       "      <td>10</td>\n",
       "      <td>10</td>\n",
       "      <td>20</td>\n",
       "      <td>1</td>\n",
       "      <td>1</td>\n",
       "      <td>9</td>\n",
       "      <td>...</td>\n",
       "      <td>5</td>\n",
       "      <td>11</td>\n",
       "      <td>60.000000</td>\n",
       "      <td>50.000000</td>\n",
       "      <td>55.000000</td>\n",
       "      <td>-0.2</td>\n",
       "      <td>-0.7</td>\n",
       "      <td>63.264858</td>\n",
       "      <td>5.620711</td>\n",
       "      <td>6.958308</td>\n",
       "    </tr>\n",
       "    <tr>\n",
       "      <th>2</th>\n",
       "      <td>HEK3</td>\n",
       "      <td>FIG2A_PE2_HEK3_10</td>\n",
       "      <td>TTGGGGCCCAGACTGAGCACGTGATGGCAGAGGAAAGGAAGCCCTG...</td>\n",
       "      <td>xxxxxxxxCAGACTGAGCACGAGATGGCAGAGGAAAGGxxxxxxxx...</td>\n",
       "      <td>13</td>\n",
       "      <td>17</td>\n",
       "      <td>30</td>\n",
       "      <td>1</td>\n",
       "      <td>1</td>\n",
       "      <td>16</td>\n",
       "      <td>...</td>\n",
       "      <td>9</td>\n",
       "      <td>17</td>\n",
       "      <td>61.538462</td>\n",
       "      <td>52.941176</td>\n",
       "      <td>56.666667</td>\n",
       "      <td>-0.6</td>\n",
       "      <td>-0.7</td>\n",
       "      <td>63.264858</td>\n",
       "      <td>1.814622</td>\n",
       "      <td>4.749522</td>\n",
       "    </tr>\n",
       "    <tr>\n",
       "      <th>3</th>\n",
       "      <td>RNF2</td>\n",
       "      <td>FIG2A_PE2_RNF2_10</td>\n",
       "      <td>GGCAGTCATCTTAGTCATTACCTGAGGTGTTCGTTGTAACTCATAT...</td>\n",
       "      <td>xxxxxxCATCTTAGTCATTACATGAGGTGTTCGTTGTAAxxxxxxx...</td>\n",
       "      <td>15</td>\n",
       "      <td>18</td>\n",
       "      <td>33</td>\n",
       "      <td>1</td>\n",
       "      <td>1</td>\n",
       "      <td>17</td>\n",
       "      <td>...</td>\n",
       "      <td>7</td>\n",
       "      <td>12</td>\n",
       "      <td>33.333333</td>\n",
       "      <td>38.888889</td>\n",
       "      <td>36.363636</td>\n",
       "      <td>-1.6</td>\n",
       "      <td>0.0</td>\n",
       "      <td>52.229725</td>\n",
       "      <td>5.708600</td>\n",
       "      <td>7.975760</td>\n",
       "    </tr>\n",
       "    <tr>\n",
       "      <th>4</th>\n",
       "      <td>VEGFA</td>\n",
       "      <td>EDFIG5A_VEGFA_10NT</td>\n",
       "      <td>CTTTGATGTCTGCAGGCCAGATGAGGGCTCCAGATGGCACATTGTC...</td>\n",
       "      <td>xxxxxxxxTCTGCAGGCCAGATGAGTGCTCCAGATGGCACATTGTC...</td>\n",
       "      <td>13</td>\n",
       "      <td>26</td>\n",
       "      <td>39</td>\n",
       "      <td>5</td>\n",
       "      <td>1</td>\n",
       "      <td>21</td>\n",
       "      <td>...</td>\n",
       "      <td>13</td>\n",
       "      <td>21</td>\n",
       "      <td>61.538462</td>\n",
       "      <td>50.000000</td>\n",
       "      <td>53.846154</td>\n",
       "      <td>-8.7</td>\n",
       "      <td>-3.3</td>\n",
       "      <td>66.789276</td>\n",
       "      <td>24.554598</td>\n",
       "      <td>27.987215</td>\n",
       "    </tr>\n",
       "    <tr>\n",
       "      <th>...</th>\n",
       "      <td>...</td>\n",
       "      <td>...</td>\n",
       "      <td>...</td>\n",
       "      <td>...</td>\n",
       "      <td>...</td>\n",
       "      <td>...</td>\n",
       "      <td>...</td>\n",
       "      <td>...</td>\n",
       "      <td>...</td>\n",
       "      <td>...</td>\n",
       "      <td>...</td>\n",
       "      <td>...</td>\n",
       "      <td>...</td>\n",
       "      <td>...</td>\n",
       "      <td>...</td>\n",
       "      <td>...</td>\n",
       "      <td>...</td>\n",
       "      <td>...</td>\n",
       "      <td>...</td>\n",
       "      <td>...</td>\n",
       "      <td>...</td>\n",
       "    </tr>\n",
       "    <tr>\n",
       "      <th>34</th>\n",
       "      <td>EMX1</td>\n",
       "      <td>FIG2B_EMX1_10</td>\n",
       "      <td>GCCTGAGTCCGAGCAGAAGAAGAAGGGCTCCCATCACATCAACCGG...</td>\n",
       "      <td>xxxxxxxxCCGAGCAGAAGAACAAGGGCTCCCATCxxxxxxxxxxx...</td>\n",
       "      <td>13</td>\n",
       "      <td>14</td>\n",
       "      <td>27</td>\n",
       "      <td>1</td>\n",
       "      <td>1</td>\n",
       "      <td>13</td>\n",
       "      <td>...</td>\n",
       "      <td>9</td>\n",
       "      <td>16</td>\n",
       "      <td>53.846154</td>\n",
       "      <td>64.285714</td>\n",
       "      <td>59.259259</td>\n",
       "      <td>-4.4</td>\n",
       "      <td>0.0</td>\n",
       "      <td>69.540627</td>\n",
       "      <td>15.845670</td>\n",
       "      <td>14.409946</td>\n",
       "    </tr>\n",
       "    <tr>\n",
       "      <th>35</th>\n",
       "      <td>HEK4</td>\n",
       "      <td>FIG2A_PE2_HEK4_10</td>\n",
       "      <td>CGGTGGCACTGCGGCTGGAGGTGGGGGTTAAAGCGGAGACTCTGGT...</td>\n",
       "      <td>xxxxxxxACTGCGGCTGGAGGTTGGGGTTAAAGCxxxxxxxxxxxx...</td>\n",
       "      <td>14</td>\n",
       "      <td>13</td>\n",
       "      <td>27</td>\n",
       "      <td>2</td>\n",
       "      <td>1</td>\n",
       "      <td>11</td>\n",
       "      <td>...</td>\n",
       "      <td>6</td>\n",
       "      <td>16</td>\n",
       "      <td>71.428571</td>\n",
       "      <td>46.153846</td>\n",
       "      <td>59.259259</td>\n",
       "      <td>0.0</td>\n",
       "      <td>-3.5</td>\n",
       "      <td>54.310997</td>\n",
       "      <td>1.758639</td>\n",
       "      <td>3.174953</td>\n",
       "    </tr>\n",
       "    <tr>\n",
       "      <th>36</th>\n",
       "      <td>VEGFA</td>\n",
       "      <td>EDFIG5A_VEGFA_10NT</td>\n",
       "      <td>CTTTGATGTCTGCAGGCCAGATGAGGGCTCCAGATGGCACATTGTC...</td>\n",
       "      <td>xxxxxxxxTCTGCAGGCCAGATGAGTGCTCCAGATGGCxxxxxxxx...</td>\n",
       "      <td>13</td>\n",
       "      <td>17</td>\n",
       "      <td>30</td>\n",
       "      <td>5</td>\n",
       "      <td>1</td>\n",
       "      <td>12</td>\n",
       "      <td>...</td>\n",
       "      <td>10</td>\n",
       "      <td>18</td>\n",
       "      <td>61.538462</td>\n",
       "      <td>58.823529</td>\n",
       "      <td>60.000000</td>\n",
       "      <td>-8.2</td>\n",
       "      <td>-3.3</td>\n",
       "      <td>66.789276</td>\n",
       "      <td>22.536342</td>\n",
       "      <td>20.713362</td>\n",
       "    </tr>\n",
       "    <tr>\n",
       "      <th>37</th>\n",
       "      <td>DNMT1</td>\n",
       "      <td>EDFIG5B_DNMT1_10NT</td>\n",
       "      <td>TGGGGATTCCTGGTGCCAGAAACAGGGGTGACGGGAGGGCAGAACT...</td>\n",
       "      <td>xxxxxxxxCCTGGTGCCAGAAACAGTGGTGACGGGAGxxxxxxxxx...</td>\n",
       "      <td>13</td>\n",
       "      <td>16</td>\n",
       "      <td>29</td>\n",
       "      <td>5</td>\n",
       "      <td>1</td>\n",
       "      <td>11</td>\n",
       "      <td>...</td>\n",
       "      <td>10</td>\n",
       "      <td>18</td>\n",
       "      <td>61.538462</td>\n",
       "      <td>62.500000</td>\n",
       "      <td>62.068966</td>\n",
       "      <td>-1.9</td>\n",
       "      <td>-1.6</td>\n",
       "      <td>65.144363</td>\n",
       "      <td>4.572178</td>\n",
       "      <td>6.496865</td>\n",
       "    </tr>\n",
       "    <tr>\n",
       "      <th>38</th>\n",
       "      <td>HEK4</td>\n",
       "      <td>FIG2A_PE2_HEK4_10</td>\n",
       "      <td>CGGTGGCACTGCGGCTGGAGGTGGGGGTTAAAGCGGAGACTCTGGT...</td>\n",
       "      <td>xxxxxxCACTGCGGCTGGAGGTTGGGGTTAAAGCxxxxxxxxxxxx...</td>\n",
       "      <td>15</td>\n",
       "      <td>13</td>\n",
       "      <td>28</td>\n",
       "      <td>2</td>\n",
       "      <td>1</td>\n",
       "      <td>11</td>\n",
       "      <td>...</td>\n",
       "      <td>6</td>\n",
       "      <td>17</td>\n",
       "      <td>73.333333</td>\n",
       "      <td>46.153846</td>\n",
       "      <td>60.714286</td>\n",
       "      <td>0.0</td>\n",
       "      <td>-3.5</td>\n",
       "      <td>54.310997</td>\n",
       "      <td>1.395180</td>\n",
       "      <td>2.275810</td>\n",
       "    </tr>\n",
       "  </tbody>\n",
       "</table>\n",
       "<p>199 rows × 30 columns</p>\n",
       "</div>"
      ],
      "text/plain": [
       "     gene                  ID  \\\n",
       "0   VEGFA  EDFIG5A_VEGFA_10NT   \n",
       "1    HEK3   FIG2A_PE2_HEK3_10   \n",
       "2    HEK3   FIG2A_PE2_HEK3_10   \n",
       "3    RNF2   FIG2A_PE2_RNF2_10   \n",
       "4   VEGFA  EDFIG5A_VEGFA_10NT   \n",
       "..    ...                 ...   \n",
       "34   EMX1       FIG2B_EMX1_10   \n",
       "35   HEK4   FIG2A_PE2_HEK4_10   \n",
       "36  VEGFA  EDFIG5A_VEGFA_10NT   \n",
       "37  DNMT1  EDFIG5B_DNMT1_10NT   \n",
       "38   HEK4   FIG2A_PE2_HEK4_10   \n",
       "\n",
       "                                              WT74_On  \\\n",
       "0   CTTTGATGTCTGCAGGCCAGATGAGGGCTCCAGATGGCACATTGTC...   \n",
       "1   TTGGGGCCCAGACTGAGCACGTGATGGCAGAGGAAAGGAAGCCCTG...   \n",
       "2   TTGGGGCCCAGACTGAGCACGTGATGGCAGAGGAAAGGAAGCCCTG...   \n",
       "3   GGCAGTCATCTTAGTCATTACCTGAGGTGTTCGTTGTAACTCATAT...   \n",
       "4   CTTTGATGTCTGCAGGCCAGATGAGGGCTCCAGATGGCACATTGTC...   \n",
       "..                                                ...   \n",
       "34  GCCTGAGTCCGAGCAGAAGAAGAAGGGCTCCCATCACATCAACCGG...   \n",
       "35  CGGTGGCACTGCGGCTGGAGGTGGGGGTTAAAGCGGAGACTCTGGT...   \n",
       "36  CTTTGATGTCTGCAGGCCAGATGAGGGCTCCAGATGGCACATTGTC...   \n",
       "37  TGGGGATTCCTGGTGCCAGAAACAGGGGTGACGGGAGGGCAGAACT...   \n",
       "38  CGGTGGCACTGCGGCTGGAGGTGGGGGTTAAAGCGGAGACTCTGGT...   \n",
       "\n",
       "                                          Edited74_On  PBSlen  RTlen  \\\n",
       "0   xxxxxxxxTCTGCAGGCCAGATGAGTGCTCCAGATGGCACATTGTC...      13     28   \n",
       "1   xxxxxxxxxxxACTGAGCACGAGATGGCAGAxxxxxxxxxxxxxxx...      10     10   \n",
       "2   xxxxxxxxCAGACTGAGCACGAGATGGCAGAGGAAAGGxxxxxxxx...      13     17   \n",
       "3   xxxxxxCATCTTAGTCATTACATGAGGTGTTCGTTGTAAxxxxxxx...      15     18   \n",
       "4   xxxxxxxxTCTGCAGGCCAGATGAGTGCTCCAGATGGCACATTGTC...      13     26   \n",
       "..                                                ...     ...    ...   \n",
       "34  xxxxxxxxCCGAGCAGAAGAACAAGGGCTCCCATCxxxxxxxxxxx...      13     14   \n",
       "35  xxxxxxxACTGCGGCTGGAGGTTGGGGTTAAAGCxxxxxxxxxxxx...      14     13   \n",
       "36  xxxxxxxxTCTGCAGGCCAGATGAGTGCTCCAGATGGCxxxxxxxx...      13     17   \n",
       "37  xxxxxxxxCCTGGTGCCAGAAACAGTGGTGACGGGAGxxxxxxxxx...      13     16   \n",
       "38  xxxxxxCACTGCGGCTGGAGGTTGGGGTTAAAGCxxxxxxxxxxxx...      15     13   \n",
       "\n",
       "    RT-PBSlen  Edit_pos  Edit_len  RHA_len  ...  nGCcnt2  nGCcnt3   fGCcont1  \\\n",
       "0          41         5         1       23  ...       14       22  61.538462   \n",
       "1          20         1         1        9  ...        5       11  60.000000   \n",
       "2          30         1         1       16  ...        9       17  61.538462   \n",
       "3          33         1         1       17  ...        7       12  33.333333   \n",
       "4          39         5         1       21  ...       13       21  61.538462   \n",
       "..        ...       ...       ...      ...  ...      ...      ...        ...   \n",
       "34         27         1         1       13  ...        9       16  53.846154   \n",
       "35         27         2         1       11  ...        6       16  71.428571   \n",
       "36         30         5         1       12  ...       10       18  61.538462   \n",
       "37         29         5         1       11  ...       10       18  61.538462   \n",
       "38         28         2         1       11  ...        6       17  73.333333   \n",
       "\n",
       "     fGCcont2   fGCcont3  MFE3  MFE4  DeepSpCas9_score  \\\n",
       "0   50.000000  53.658537  -9.4  -3.3         66.789276   \n",
       "1   50.000000  55.000000  -0.2  -0.7         63.264858   \n",
       "2   52.941176  56.666667  -0.6  -0.7         63.264858   \n",
       "3   38.888889  36.363636  -1.6   0.0         52.229725   \n",
       "4   50.000000  53.846154  -8.7  -3.3         66.789276   \n",
       "..        ...        ...   ...   ...               ...   \n",
       "34  64.285714  59.259259  -4.4   0.0         69.540627   \n",
       "35  46.153846  59.259259   0.0  -3.5         54.310997   \n",
       "36  58.823529  60.000000  -8.2  -3.3         66.789276   \n",
       "37  62.500000  62.068966  -1.9  -1.6         65.144363   \n",
       "38  46.153846  60.714286   0.0  -3.5         54.310997   \n",
       "\n",
       "    Measured_PE_efficiency  DeepPrime_score  \n",
       "0                25.172570        25.635569  \n",
       "1                 5.620711         6.958308  \n",
       "2                 1.814622         4.749522  \n",
       "3                 5.708600         7.975760  \n",
       "4                24.554598        27.987215  \n",
       "..                     ...              ...  \n",
       "34               15.845670        14.409946  \n",
       "35                1.758639         3.174953  \n",
       "36               22.536342        20.713362  \n",
       "37                4.572178         6.496865  \n",
       "38                1.395180         2.275810  \n",
       "\n",
       "[199 rows x 30 columns]"
      ]
     },
     "execution_count": 235,
     "metadata": {},
     "output_type": "execute_result"
    }
   ],
   "source": [
    "# Concatenate all the test data frames\n",
    "\n",
    "concatenated = pd.concat(all_test_df)\n",
    "concatenated"
   ]
  },
  {
   "cell_type": "code",
   "execution_count": 228,
   "id": "dc5fc344-5ff4-4cfd-ac13-e24420ae629a",
   "metadata": {
    "tags": []
   },
   "outputs": [],
   "source": [
    "concatenated.to_csv('FineTuned_Endogenous_data.csv')"
   ]
  },
  {
   "cell_type": "code",
   "execution_count": 203,
   "id": "62e258c6-2a3b-4ccb-8da5-670e0cbf9786",
   "metadata": {
    "tags": []
   },
   "outputs": [],
   "source": [
    "import matplotlib.pyplot as plt\n",
    "from scipy.stats import pearsonr, spearmanr"
   ]
  },
  {
   "cell_type": "code",
   "execution_count": 246,
   "id": "4eab0d3e-90fa-4727-b013-27b690f5cf9d",
   "metadata": {
    "tags": []
   },
   "outputs": [
    {
     "name": "stdout",
     "output_type": "stream",
     "text": [
      "0.8664822392152122 0.8620989352475041\n"
     ]
    }
   ],
   "source": [
    "x = concatenated['Measured_PE_efficiency']\n",
    "y = concatenated['DeepPrime_score']\n",
    "                           \n",
    "pearson_corr, pearson_p_value = pearsonr(x, y)\n",
    "spearman_corr, spearman_p_value = spearmanr(x, y)\n",
    "                           \n",
    "\n",
    "print(pearson_corr, spearman_corr)"
   ]
  },
  {
   "cell_type": "code",
   "execution_count": 247,
   "id": "c6827784-00d9-4ede-9565-c4aae672be60",
   "metadata": {
    "tags": []
   },
   "outputs": [
    {
     "data": {
      "image/png": "[encoded data removed]",
      "text/plain": [
       "<Figure size 640x480 with 1 Axes>"
      ]
     },
     "metadata": {},
     "output_type": "display_data"
    }
   ],
   "source": [
    "plt.scatter(x, y, s= 10)\n",
    "\n",
    "# Add labels and title\n",
    "plt.xlabel('Measured_Editing_Frequency')\n",
    "plt.ylabel('DeepPrime_Predicted_Efficiency')\n",
    "plt.title('Endogenous Measured vs. Predicted Efficiencies')\n",
    "# plt.legend(title='Gene', loc = 'lower right')\n",
    "\n",
    "\n",
    "\n",
    "plt.plot(np.unique(x), np.poly1d(np.polyfit(x, y, 1))(np.unique(x)), color='red', label='Regression Line (Pearson)')\n",
    "\n",
    "\n",
    "plt.text(min(x), max(y), f\"r: {pearson_corr:.2f}\", fontsize=10)\n",
    "\n",
    "# Annotate Spearman correlation coefficient\n",
    "plt.text(min(x), max(y)-2, f\"R: {spearman_corr:.2f}\", fontsize=10)\n",
    "\n",
    "plt.text(min(x), max(y)-4, \"n = \"+ str(len(concatenated)), fontsize=10)\n",
    "\n",
    "\n",
    "# Show the plot\n",
    "plt.show()"
   ]
  },
  {
   "cell_type": "code",
   "execution_count": 249,
   "id": "8d737e1d-c651-4f62-9f88-fd6b2327d50c",
   "metadata": {
    "tags": []
   },
   "outputs": [
    {
     "name": "stdout",
     "output_type": "stream",
     "text": [
      "['VEGFA', 'HEK3', 'RNF2', 'FANCF', 'HEK4', 'EMX1', 'DNMT1', 'RUNX1']\n",
      "VEGFA 24\n",
      "HEK3 27\n",
      "RNF2 23\n",
      "FANCF 28\n",
      "HEK4 24\n",
      "EMX1 25\n",
      "DNMT1 24\n",
      "RUNX1 24\n",
      "             VEGFA      HEK3      RNF2     FANCF      HEK4      EMX1  \\\n",
      "Pearson   0.785952  0.864794  0.873871  0.493002  0.812509  0.791822   \n",
      "Spearman  0.808696  0.823691  0.879387  0.507737  0.710309  0.796692   \n",
      "\n",
      "             DNMT1     RUNX1  \n",
      "Pearson   0.526675  0.861429  \n",
      "Spearman  0.629565  0.822609  \n"
     ]
    }
   ],
   "source": [
    "#Now, calculate correlations by gene and for the overall dataset\n",
    "\n",
    "genes = list(concatenated['gene'].unique())\n",
    "print(genes)\n",
    "\n",
    "gene_correlations = pd.DataFrame()\n",
    "\n",
    "\n",
    "for g in genes:\n",
    "        \n",
    "    \n",
    "    subset = concatenated.loc[concatenated['gene'] == g]\n",
    "    print(g, len(subset))\n",
    "\n",
    "                           \n",
    "    x_sub = subset['Measured_PE_efficiency']\n",
    "    y_sub = subset['DeepPrime_score']\n",
    "    \n",
    "    # print(g, x_sub.mean())\n",
    "    \n",
    "\n",
    "                           \n",
    "    pearson_corr, pearson_p_value = pearsonr(x_sub, y_sub)\n",
    "    spearman_corr, spearman_p_value = spearmanr(x_sub, y_sub)\n",
    "\n",
    "                           \n",
    "    if g not in gene_correlations:\n",
    "\n",
    "        gene_correlations[g] = [0,0]\n",
    "        gene_correlations[g] = pearson_corr\n",
    "        gene_correlations[g][1] = spearman_corr\n",
    "        \n",
    "    else:\n",
    "        gene_correlations[g][0] = pearson_corr\n",
    "        gene_correlations[g][1] = spearman_corr\n",
    "        \n",
    "\n",
    "gene_correlations.index = ['Pearson','Spearman']\n",
    "print(gene_correlations) "
   ]
  },
  {
   "cell_type": "code",
   "execution_count": 241,
   "id": "21dee48f-b970-49d6-9f03-59236bcd0b27",
   "metadata": {
    "tags": []
   },
   "outputs": [
    {
     "data": {
      "text/plain": [
       "<Figure size 640x480 with 0 Axes>"
      ]
     },
     "metadata": {},
     "output_type": "display_data"
    },
    {
     "data": {
      "image/png": "[encoded data removed]",
      "text/plain": [
       "<Figure size 640x480 with 1 Axes>"
      ]
     },
     "metadata": {},
     "output_type": "display_data"
    }
   ],
   "source": [
    "# Plot the bar chart\n",
    "\n",
    "gene_correlations_t = gene_correlations.transpose()   #Transposed dataframe\n",
    "# genes_order = genes[::-1]\n",
    "genes_order = ['RNF2','EMX1', 'VEGFA','HEK3', 'FANCF', 'DNMT1', 'HEK4', 'RUNX1'][::-1]\n",
    "gene_correlations_t = gene_correlations_t.loc[genes_order]\n",
    "\n",
    "\n",
    "\n",
    "\n",
    "# Show the plot\n",
    "plt.tight_layout()\n",
    "plt.show()\n",
    "ax = gene_correlations_t.plot(kind='barh', rot=0, color=['skyblue', 'salmon'])\n",
    "\n",
    "# Set labels and title\n",
    "ax.set_xlabel('Genes')\n",
    "ax.set_ylabel('Correlation')\n",
    "ax.set_title('Pearson and Spearman Correlations for Genes')\n",
    "plt.legend(loc='upper right', bbox_to_anchor=(1.4, 1))\n",
    "\n",
    "# Show the plot\n",
    "plt.tight_layout()\n",
    "plt.show()"
   ]
  },
  {
   "cell_type": "code",
   "execution_count": 254,
   "id": "db43c855-a711-4edf-a711-8e0e7ee48987",
   "metadata": {
    "tags": []
   },
   "outputs": [
    {
     "name": "stdout",
     "output_type": "stream",
     "text": [
      "0.8664822392152122 0.8620989352475041\n"
     ]
    },
    {
     "data": {
      "image/png": "[encoded data removed]",
      "text/plain": [
       "<Figure size 640x480 with 1 Axes>"
      ]
     },
     "metadata": {},
     "output_type": "display_data"
    }
   ],
   "source": [
    "color_mapping = {\n",
    "    'RNF2': 'blue',\n",
    "    'EMX1': 'green',\n",
    "    'VEGFA': 'red',\n",
    "    'HEK3': 'cyan',\n",
    "    'FANCF': 'magenta',\n",
    "    'DNMT1': 'yellow',\n",
    "    'HEK4': 'orange',\n",
    "    'RUNX1': 'purple'\n",
    "}\n",
    "\n",
    "\n",
    "# plt.scatter(x, y, s= 0.5, alpha=0.5)\n",
    "\n",
    "x = concatenated['Measured_PE_efficiency']\n",
    "y = concatenated['DeepPrime_score']\n",
    "                           \n",
    "pearson_corr, pearson_p_value = pearsonr(x, y)\n",
    "spearman_corr, spearman_p_value = spearmanr(x, y)\n",
    "\n",
    "for gene, color in color_mapping.items():\n",
    "    plt.scatter(x[concatenated['gene'] == gene], y[concatenated['gene'] == gene], \n",
    "                s=10, c=color, label=gene)\n",
    "\n",
    "print(pearson_corr, spearman_corr)\n",
    "\n",
    "# Add labels and title\n",
    "plt.xlabel('Measured_Editing_Frequency')\n",
    "plt.ylabel('DeepPrime_Predicted_Efficiency')\n",
    "plt.title('Endogenous Measured vs. Predicted Efficiencies')\n",
    "plt.legend(title='Gene', loc = 'lower right')\n",
    "\n",
    "\n",
    "\n",
    "\n",
    "plt.plot(np.unique(x), np.poly1d(np.polyfit(x, y, 1))(np.unique(x)), color='red', label='Regression Line (Pearson)')\n",
    "\n",
    "\n",
    "plt.text(min(x), max(y), f\"r: {pearson_corr:.2f}\", fontsize=10)\n",
    "\n",
    "# Annotate Spearman correlation coefficient\n",
    "plt.text(min(x), max(y)-2, f\"R: {spearman_corr:.2f}\", fontsize=10)\n",
    "\n",
    "plt.text(min(x), max(y)-4, \"n = \"+ str(len(concatenated)), fontsize=10)\n",
    "\n",
    "\n",
    "# Show the plot\n",
    "plt.show()"
   ]
  },
  {
   "cell_type": "code",
   "execution_count": null,
   "id": "e2a700f3-0f58-4634-b914-76014dd17df6",
   "metadata": {},
   "outputs": [],
   "source": []
  }
 ],
 "metadata": {
  "kernelspec": {
   "display_name": "DeepPrime",
   "language": "python",
   "name": "genet"
  },
  "language_info": {
   "codemirror_mode": {
    "name": "ipython",
    "version": 3
   },
   "file_extension": ".py",
   "mimetype": "text/x-python",
   "name": "python",
   "nbconvert_exporter": "python",
   "pygments_lexer": "ipython3",
   "version": "3.8.18"
  }
 },
 "nbformat": 4,
 "nbformat_minor": 5
}
