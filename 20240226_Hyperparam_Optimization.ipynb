{
 "cells": [
  {
   "cell_type": "code",
   "execution_count": 29,
   "id": "037ba7d5-e9c1-490f-8f7c-6c7338e6d5ee",
   "metadata": {
    "tags": []
   },
   "outputs": [],
   "source": [
    "import numpy as np\n",
    "from skopt import BayesSearchCV\n",
    "from sklearn.model_selection import train_test_split\n",
    "from sklearn.ensemble import RandomForestClassifier\n",
    "from sklearn.datasets import load_digits\n",
    "\n",
    "import os\n",
    "import pandas as pd\n",
    "import torch\n",
    "from torch.optim import AdamW, lr_scheduler\n",
    "from torch.utils.data import DataLoader\n",
    "from tqdm import tqdm\n",
    "from utils.data import GeneFeatureDataset, seq_concat, select_cols\n",
    "from utils.model import GeneInteractionModel\n",
    "from utils.loss import BalancedMSELoss\n",
    "\n",
    "import optuna\n",
    "from sklearn.model_selection import train_test_split\n",
    "from sklearn.model_selection import KFold\n",
    "from sklearn.model_selection import StratifiedKFold\n",
    "from itertools import combinations\n",
    "\n",
    "pd.options.mode.chained_assignment = None  # default='warn'"
   ]
  },
  {
   "cell_type": "code",
   "execution_count": 160,
   "id": "a4e862cf-732e-4e84-94f3-cab49b0aae9f",
   "metadata": {
    "tags": []
   },
   "outputs": [
    {
     "name": "stdout",
     "output_type": "stream",
     "text": [
      "cuda:0\n"
     ]
    }
   ],
   "source": [
    "device = 'cuda:0' if torch.cuda.is_available() else 'cpu'\n",
    "print(device)"
   ]
  },
  {
   "cell_type": "markdown",
   "id": "2f258800-b651-4bd5-a839-96788ee034ad",
   "metadata": {},
   "source": [
    "# Create test/train splits for 5 models"
   ]
  },
  {
   "cell_type": "code",
   "execution_count": 79,
   "id": "0ac3127b-8768-43da-b963-8a135dfcda38",
   "metadata": {
    "tags": []
   },
   "outputs": [
    {
     "data": {
      "text/html": [
       "<div>\n",
       "<style scoped>\n",
       "    .dataframe tbody tr th:only-of-type {\n",
       "        vertical-align: middle;\n",
       "    }\n",
       "\n",
       "    .dataframe tbody tr th {\n",
       "        vertical-align: top;\n",
       "    }\n",
       "\n",
       "    .dataframe thead th {\n",
       "        text-align: right;\n",
       "    }\n",
       "</style>\n",
       "<table border=\"1\" class=\"dataframe\">\n",
       "  <thead>\n",
       "    <tr style=\"text-align: right;\">\n",
       "      <th></th>\n",
       "      <th>gene</th>\n",
       "      <th>ID</th>\n",
       "      <th>WT74_On</th>\n",
       "      <th>Edited74_On</th>\n",
       "      <th>PBSlen</th>\n",
       "      <th>RTlen</th>\n",
       "      <th>RT-PBSlen</th>\n",
       "      <th>Edit_pos</th>\n",
       "      <th>Edit_len</th>\n",
       "      <th>RHA_len</th>\n",
       "      <th>...</th>\n",
       "      <th>nGCcnt1</th>\n",
       "      <th>nGCcnt2</th>\n",
       "      <th>nGCcnt3</th>\n",
       "      <th>fGCcont1</th>\n",
       "      <th>fGCcont2</th>\n",
       "      <th>fGCcont3</th>\n",
       "      <th>MFE3</th>\n",
       "      <th>MFE4</th>\n",
       "      <th>DeepSpCas9_score</th>\n",
       "      <th>Measured_PE_efficiency</th>\n",
       "    </tr>\n",
       "  </thead>\n",
       "  <tbody>\n",
       "    <tr>\n",
       "      <th>0</th>\n",
       "      <td>DNMT1</td>\n",
       "      <td>EDFIG5B_DNMT1_10NT</td>\n",
       "      <td>TGGGGATTCCTGGTGCCAGAAACAGGGGTGACGGGAGGGCAGAACT...</td>\n",
       "      <td>xxxxxxxxCCTGGTGCCAGAAACAGTGGTxxxxxxxxxxxxxxxxx...</td>\n",
       "      <td>13</td>\n",
       "      <td>8</td>\n",
       "      <td>21</td>\n",
       "      <td>5</td>\n",
       "      <td>1</td>\n",
       "      <td>3</td>\n",
       "      <td>...</td>\n",
       "      <td>8</td>\n",
       "      <td>4</td>\n",
       "      <td>12</td>\n",
       "      <td>61.538462</td>\n",
       "      <td>50.000000</td>\n",
       "      <td>57.142857</td>\n",
       "      <td>-1.7</td>\n",
       "      <td>-1.6</td>\n",
       "      <td>65.144363</td>\n",
       "      <td>6.410003</td>\n",
       "    </tr>\n",
       "    <tr>\n",
       "      <th>1</th>\n",
       "      <td>DNMT1</td>\n",
       "      <td>EDFIG5B_DNMT1_10NT</td>\n",
       "      <td>TGGGGATTCCTGGTGCCAGAAACAGGGGTGACGGGAGGGCAGAACT...</td>\n",
       "      <td>xxxxxxxxCCTGGTGCCAGAAACAGTGGTGxxxxxxxxxxxxxxxx...</td>\n",
       "      <td>13</td>\n",
       "      <td>9</td>\n",
       "      <td>22</td>\n",
       "      <td>5</td>\n",
       "      <td>1</td>\n",
       "      <td>4</td>\n",
       "      <td>...</td>\n",
       "      <td>8</td>\n",
       "      <td>5</td>\n",
       "      <td>13</td>\n",
       "      <td>61.538462</td>\n",
       "      <td>55.555556</td>\n",
       "      <td>59.090909</td>\n",
       "      <td>-1.7</td>\n",
       "      <td>-1.6</td>\n",
       "      <td>65.144363</td>\n",
       "      <td>0.919506</td>\n",
       "    </tr>\n",
       "    <tr>\n",
       "      <th>2</th>\n",
       "      <td>DNMT1</td>\n",
       "      <td>EDFIG5B_DNMT1_10NT</td>\n",
       "      <td>TGGGGATTCCTGGTGCCAGAAACAGGGGTGACGGGAGGGCAGAACT...</td>\n",
       "      <td>xxxxxxxxCCTGGTGCCAGAAACAGTGGTGAxxxxxxxxxxxxxxx...</td>\n",
       "      <td>13</td>\n",
       "      <td>10</td>\n",
       "      <td>23</td>\n",
       "      <td>5</td>\n",
       "      <td>1</td>\n",
       "      <td>5</td>\n",
       "      <td>...</td>\n",
       "      <td>8</td>\n",
       "      <td>5</td>\n",
       "      <td>13</td>\n",
       "      <td>61.538462</td>\n",
       "      <td>50.000000</td>\n",
       "      <td>56.521739</td>\n",
       "      <td>-1.7</td>\n",
       "      <td>-1.6</td>\n",
       "      <td>65.144363</td>\n",
       "      <td>5.100177</td>\n",
       "    </tr>\n",
       "    <tr>\n",
       "      <th>3</th>\n",
       "      <td>DNMT1</td>\n",
       "      <td>EDFIG5B_DNMT1_10NT</td>\n",
       "      <td>TGGGGATTCCTGGTGCCAGAAACAGGGGTGACGGGAGGGCAGAACT...</td>\n",
       "      <td>xxxxxxxxCCTGGTGCCAGAAACAGTGGTGACxxxxxxxxxxxxxx...</td>\n",
       "      <td>13</td>\n",
       "      <td>11</td>\n",
       "      <td>24</td>\n",
       "      <td>5</td>\n",
       "      <td>1</td>\n",
       "      <td>6</td>\n",
       "      <td>...</td>\n",
       "      <td>8</td>\n",
       "      <td>6</td>\n",
       "      <td>14</td>\n",
       "      <td>61.538462</td>\n",
       "      <td>54.545455</td>\n",
       "      <td>58.333333</td>\n",
       "      <td>-1.7</td>\n",
       "      <td>-1.6</td>\n",
       "      <td>65.144363</td>\n",
       "      <td>9.992335</td>\n",
       "    </tr>\n",
       "    <tr>\n",
       "      <th>4</th>\n",
       "      <td>DNMT1</td>\n",
       "      <td>EDFIG5B_DNMT1_10NT</td>\n",
       "      <td>TGGGGATTCCTGGTGCCAGAAACAGGGGTGACGGGAGGGCAGAACT...</td>\n",
       "      <td>xxxxxxxxCCTGGTGCCAGAAACAGTGGTGACGxxxxxxxxxxxxx...</td>\n",
       "      <td>13</td>\n",
       "      <td>12</td>\n",
       "      <td>25</td>\n",
       "      <td>5</td>\n",
       "      <td>1</td>\n",
       "      <td>7</td>\n",
       "      <td>...</td>\n",
       "      <td>8</td>\n",
       "      <td>7</td>\n",
       "      <td>15</td>\n",
       "      <td>61.538462</td>\n",
       "      <td>58.333333</td>\n",
       "      <td>60.000000</td>\n",
       "      <td>-1.7</td>\n",
       "      <td>-1.6</td>\n",
       "      <td>65.144363</td>\n",
       "      <td>3.479796</td>\n",
       "    </tr>\n",
       "    <tr>\n",
       "      <th>...</th>\n",
       "      <td>...</td>\n",
       "      <td>...</td>\n",
       "      <td>...</td>\n",
       "      <td>...</td>\n",
       "      <td>...</td>\n",
       "      <td>...</td>\n",
       "      <td>...</td>\n",
       "      <td>...</td>\n",
       "      <td>...</td>\n",
       "      <td>...</td>\n",
       "      <td>...</td>\n",
       "      <td>...</td>\n",
       "      <td>...</td>\n",
       "      <td>...</td>\n",
       "      <td>...</td>\n",
       "      <td>...</td>\n",
       "      <td>...</td>\n",
       "      <td>...</td>\n",
       "      <td>...</td>\n",
       "      <td>...</td>\n",
       "      <td>...</td>\n",
       "    </tr>\n",
       "    <tr>\n",
       "      <th>194</th>\n",
       "      <td>RNF2</td>\n",
       "      <td>FIG2A_PE2_RNF2_10</td>\n",
       "      <td>GGCAGTCATCTTAGTCATTACCTGAGGTGTTCGTTGTAACTCATAT...</td>\n",
       "      <td>xxxxxxCATCTTAGTCATTACATGAGGTGTTCxxxxxxxxxxxxxx...</td>\n",
       "      <td>15</td>\n",
       "      <td>11</td>\n",
       "      <td>26</td>\n",
       "      <td>1</td>\n",
       "      <td>1</td>\n",
       "      <td>10</td>\n",
       "      <td>...</td>\n",
       "      <td>5</td>\n",
       "      <td>5</td>\n",
       "      <td>10</td>\n",
       "      <td>33.333333</td>\n",
       "      <td>45.454545</td>\n",
       "      <td>38.461538</td>\n",
       "      <td>-1.1</td>\n",
       "      <td>0.0</td>\n",
       "      <td>52.229725</td>\n",
       "      <td>3.630080</td>\n",
       "    </tr>\n",
       "    <tr>\n",
       "      <th>195</th>\n",
       "      <td>RNF2</td>\n",
       "      <td>FIG2A_PE2_RNF2_10</td>\n",
       "      <td>GGCAGTCATCTTAGTCATTACCTGAGGTGTTCGTTGTAACTCATAT...</td>\n",
       "      <td>xxxxxxCATCTTAGTCATTACATGAGGTGTTCxxxxxxxxxxxxxx...</td>\n",
       "      <td>15</td>\n",
       "      <td>11</td>\n",
       "      <td>26</td>\n",
       "      <td>1</td>\n",
       "      <td>1</td>\n",
       "      <td>10</td>\n",
       "      <td>...</td>\n",
       "      <td>5</td>\n",
       "      <td>5</td>\n",
       "      <td>10</td>\n",
       "      <td>33.333333</td>\n",
       "      <td>45.454545</td>\n",
       "      <td>38.461538</td>\n",
       "      <td>-1.1</td>\n",
       "      <td>0.0</td>\n",
       "      <td>52.229725</td>\n",
       "      <td>6.989605</td>\n",
       "    </tr>\n",
       "    <tr>\n",
       "      <th>196</th>\n",
       "      <td>RNF2</td>\n",
       "      <td>FIG2A_PE2_RNF2_10</td>\n",
       "      <td>GGCAGTCATCTTAGTCATTACCTGAGGTGTTCGTTGTAACTCATAT...</td>\n",
       "      <td>xxxxxTCATCTTAGTCATTACATGAGGTGTTCxxxxxxxxxxxxxx...</td>\n",
       "      <td>16</td>\n",
       "      <td>11</td>\n",
       "      <td>27</td>\n",
       "      <td>1</td>\n",
       "      <td>1</td>\n",
       "      <td>10</td>\n",
       "      <td>...</td>\n",
       "      <td>5</td>\n",
       "      <td>5</td>\n",
       "      <td>10</td>\n",
       "      <td>31.250000</td>\n",
       "      <td>45.454545</td>\n",
       "      <td>37.037037</td>\n",
       "      <td>-1.6</td>\n",
       "      <td>0.0</td>\n",
       "      <td>52.229725</td>\n",
       "      <td>3.022388</td>\n",
       "    </tr>\n",
       "    <tr>\n",
       "      <th>197</th>\n",
       "      <td>RNF2</td>\n",
       "      <td>FIG2A_PE2_RNF2_10</td>\n",
       "      <td>GGCAGTCATCTTAGTCATTACCTGAGGTGTTCGTTGTAACTCATAT...</td>\n",
       "      <td>xxxxGTCATCTTAGTCATTACATGAGGTGTTCxxxxxxxxxxxxxx...</td>\n",
       "      <td>17</td>\n",
       "      <td>11</td>\n",
       "      <td>28</td>\n",
       "      <td>1</td>\n",
       "      <td>1</td>\n",
       "      <td>10</td>\n",
       "      <td>...</td>\n",
       "      <td>6</td>\n",
       "      <td>5</td>\n",
       "      <td>11</td>\n",
       "      <td>35.294118</td>\n",
       "      <td>45.454545</td>\n",
       "      <td>39.285714</td>\n",
       "      <td>-1.5</td>\n",
       "      <td>0.0</td>\n",
       "      <td>52.229725</td>\n",
       "      <td>2.146368</td>\n",
       "    </tr>\n",
       "    <tr>\n",
       "      <th>198</th>\n",
       "      <td>RNF2</td>\n",
       "      <td>FIG2A_PE2_RNF2_10</td>\n",
       "      <td>GGCAGTCATCTTAGTCATTACCTGAGGTGTTCGTTGTAACTCATAT...</td>\n",
       "      <td>xxxxxxCATCTTAGTCATTACATGAGGTGTTxxxxxxxxxxxxxxx...</td>\n",
       "      <td>15</td>\n",
       "      <td>10</td>\n",
       "      <td>25</td>\n",
       "      <td>1</td>\n",
       "      <td>1</td>\n",
       "      <td>9</td>\n",
       "      <td>...</td>\n",
       "      <td>5</td>\n",
       "      <td>4</td>\n",
       "      <td>9</td>\n",
       "      <td>33.333333</td>\n",
       "      <td>40.000000</td>\n",
       "      <td>36.000000</td>\n",
       "      <td>-0.2</td>\n",
       "      <td>0.0</td>\n",
       "      <td>52.229725</td>\n",
       "      <td>6.623650</td>\n",
       "    </tr>\n",
       "  </tbody>\n",
       "</table>\n",
       "<p>199 rows × 29 columns</p>\n",
       "</div>"
      ],
      "text/plain": [
       "      gene                  ID  \\\n",
       "0    DNMT1  EDFIG5B_DNMT1_10NT   \n",
       "1    DNMT1  EDFIG5B_DNMT1_10NT   \n",
       "2    DNMT1  EDFIG5B_DNMT1_10NT   \n",
       "3    DNMT1  EDFIG5B_DNMT1_10NT   \n",
       "4    DNMT1  EDFIG5B_DNMT1_10NT   \n",
       "..     ...                 ...   \n",
       "194   RNF2   FIG2A_PE2_RNF2_10   \n",
       "195   RNF2   FIG2A_PE2_RNF2_10   \n",
       "196   RNF2   FIG2A_PE2_RNF2_10   \n",
       "197   RNF2   FIG2A_PE2_RNF2_10   \n",
       "198   RNF2   FIG2A_PE2_RNF2_10   \n",
       "\n",
       "                                               WT74_On  \\\n",
       "0    TGGGGATTCCTGGTGCCAGAAACAGGGGTGACGGGAGGGCAGAACT...   \n",
       "1    TGGGGATTCCTGGTGCCAGAAACAGGGGTGACGGGAGGGCAGAACT...   \n",
       "2    TGGGGATTCCTGGTGCCAGAAACAGGGGTGACGGGAGGGCAGAACT...   \n",
       "3    TGGGGATTCCTGGTGCCAGAAACAGGGGTGACGGGAGGGCAGAACT...   \n",
       "4    TGGGGATTCCTGGTGCCAGAAACAGGGGTGACGGGAGGGCAGAACT...   \n",
       "..                                                 ...   \n",
       "194  GGCAGTCATCTTAGTCATTACCTGAGGTGTTCGTTGTAACTCATAT...   \n",
       "195  GGCAGTCATCTTAGTCATTACCTGAGGTGTTCGTTGTAACTCATAT...   \n",
       "196  GGCAGTCATCTTAGTCATTACCTGAGGTGTTCGTTGTAACTCATAT...   \n",
       "197  GGCAGTCATCTTAGTCATTACCTGAGGTGTTCGTTGTAACTCATAT...   \n",
       "198  GGCAGTCATCTTAGTCATTACCTGAGGTGTTCGTTGTAACTCATAT...   \n",
       "\n",
       "                                           Edited74_On  PBSlen  RTlen  \\\n",
       "0    xxxxxxxxCCTGGTGCCAGAAACAGTGGTxxxxxxxxxxxxxxxxx...      13      8   \n",
       "1    xxxxxxxxCCTGGTGCCAGAAACAGTGGTGxxxxxxxxxxxxxxxx...      13      9   \n",
       "2    xxxxxxxxCCTGGTGCCAGAAACAGTGGTGAxxxxxxxxxxxxxxx...      13     10   \n",
       "3    xxxxxxxxCCTGGTGCCAGAAACAGTGGTGACxxxxxxxxxxxxxx...      13     11   \n",
       "4    xxxxxxxxCCTGGTGCCAGAAACAGTGGTGACGxxxxxxxxxxxxx...      13     12   \n",
       "..                                                 ...     ...    ...   \n",
       "194  xxxxxxCATCTTAGTCATTACATGAGGTGTTCxxxxxxxxxxxxxx...      15     11   \n",
       "195  xxxxxxCATCTTAGTCATTACATGAGGTGTTCxxxxxxxxxxxxxx...      15     11   \n",
       "196  xxxxxTCATCTTAGTCATTACATGAGGTGTTCxxxxxxxxxxxxxx...      16     11   \n",
       "197  xxxxGTCATCTTAGTCATTACATGAGGTGTTCxxxxxxxxxxxxxx...      17     11   \n",
       "198  xxxxxxCATCTTAGTCATTACATGAGGTGTTxxxxxxxxxxxxxxx...      15     10   \n",
       "\n",
       "     RT-PBSlen  Edit_pos  Edit_len  RHA_len  ...  nGCcnt1  nGCcnt2  nGCcnt3  \\\n",
       "0           21         5         1        3  ...        8        4       12   \n",
       "1           22         5         1        4  ...        8        5       13   \n",
       "2           23         5         1        5  ...        8        5       13   \n",
       "3           24         5         1        6  ...        8        6       14   \n",
       "4           25         5         1        7  ...        8        7       15   \n",
       "..         ...       ...       ...      ...  ...      ...      ...      ...   \n",
       "194         26         1         1       10  ...        5        5       10   \n",
       "195         26         1         1       10  ...        5        5       10   \n",
       "196         27         1         1       10  ...        5        5       10   \n",
       "197         28         1         1       10  ...        6        5       11   \n",
       "198         25         1         1        9  ...        5        4        9   \n",
       "\n",
       "      fGCcont1   fGCcont2   fGCcont3  MFE3  MFE4  DeepSpCas9_score  \\\n",
       "0    61.538462  50.000000  57.142857  -1.7  -1.6         65.144363   \n",
       "1    61.538462  55.555556  59.090909  -1.7  -1.6         65.144363   \n",
       "2    61.538462  50.000000  56.521739  -1.7  -1.6         65.144363   \n",
       "3    61.538462  54.545455  58.333333  -1.7  -1.6         65.144363   \n",
       "4    61.538462  58.333333  60.000000  -1.7  -1.6         65.144363   \n",
       "..         ...        ...        ...   ...   ...               ...   \n",
       "194  33.333333  45.454545  38.461538  -1.1   0.0         52.229725   \n",
       "195  33.333333  45.454545  38.461538  -1.1   0.0         52.229725   \n",
       "196  31.250000  45.454545  37.037037  -1.6   0.0         52.229725   \n",
       "197  35.294118  45.454545  39.285714  -1.5   0.0         52.229725   \n",
       "198  33.333333  40.000000  36.000000  -0.2   0.0         52.229725   \n",
       "\n",
       "     Measured_PE_efficiency  \n",
       "0                  6.410003  \n",
       "1                  0.919506  \n",
       "2                  5.100177  \n",
       "3                  9.992335  \n",
       "4                  3.479796  \n",
       "..                      ...  \n",
       "194                3.630080  \n",
       "195                6.989605  \n",
       "196                3.022388  \n",
       "197                2.146368  \n",
       "198                6.623650  \n",
       "\n",
       "[199 rows x 29 columns]"
      ]
     },
     "execution_count": 79,
     "metadata": {},
     "output_type": "execute_result"
    }
   ],
   "source": [
    "finetune_data = pd.read_csv('../easy_prime/figure_rep/DeepPrime_ForFT_withGenes.csv')\n",
    "finetune_data"
   ]
  },
  {
   "cell_type": "markdown",
   "id": "38404d05-9baf-4a5b-8b5f-f6018444f118",
   "metadata": {},
   "source": [
    "### At the end of this section, you have 5 different splits of test/train data. In each of the test sets, there is roughly equal representation across all the 8 genes. Additionally, if you concatenate all the test sets together across all 5 models, you will get all the 199 points. Additionally, each test/train pair contains all 199 points."
   ]
  },
  {
   "cell_type": "code",
   "execution_count": 72,
   "id": "62d94fe7-aa16-4840-97e6-698fc3842ab9",
   "metadata": {
    "tags": []
   },
   "outputs": [
    {
     "name": "stdout",
     "output_type": "stream",
     "text": [
      "159 40\n",
      "159 40\n",
      "159 40\n",
      "159 40\n",
      "160 39\n"
     ]
    }
   ],
   "source": [
    "genes = ['RNF2', 'EMX1', 'VEGFA', 'HEK3', 'FANCF', 'DNMT1', 'HEK4', 'RUNX1']\n",
    "\n",
    "# Define the number of splits\n",
    "num_splits = 5\n",
    "\n",
    "# Initialize StratifiedKFold to ensure balanced splitting\n",
    "skf = StratifiedKFold(n_splits=num_splits, shuffle=True, random_state=42)\n",
    "\n",
    "# Combine all gene indices into a single list\n",
    "all_gene_indices = np.concatenate(list(gene_indices.values()))\n",
    "\n",
    "\n",
    "# Create labels for each gene based on their indices\n",
    "gene_labels = np.zeros(len(all_gene_indices))\n",
    "for i, gene_name in enumerate(gene_indices.keys()):\n",
    "    gene_labels[gene_indices[gene_name]] = i\n",
    "\n",
    "# List to store train/test splits\n",
    "train_test_splits = []\n",
    "\n",
    "# Iterate over the splits\n",
    "for train_index, test_index in skf.split(all_gene_indices, gene_labels):\n",
    "    # Initialize lists to store indices for train and test sets\n",
    "    train_indices = []\n",
    "    test_indices = []\n",
    "    \n",
    "    # Split each gene's data separately\n",
    "    for gene_name, indices in gene_indices.items():\n",
    "        \n",
    "        # Divide the indices into train and test sets\n",
    "        gene_train_index = np.intersect1d(train_index, indices)\n",
    "        gene_test_index = np.intersect1d(test_index, indices)\n",
    "        \n",
    "        # Add the indices to the respective lists\n",
    "        train_indices.extend(gene_train_index)\n",
    "        test_indices.extend(gene_test_index)\n",
    "    \n",
    "    # Shuffle the indices\n",
    "    np.random.shuffle(train_indices)\n",
    "    np.random.shuffle(test_indices)\n",
    "    \n",
    "\n",
    "    # Append the train/test indices split to the list\n",
    "    train_test_splits.append((train_indices, test_indices))\n"
   ]
  },
  {
   "cell_type": "code",
   "execution_count": 117,
   "id": "3f3d6bd3-4b88-4bf3-8624-afae18f0737b",
   "metadata": {
    "tags": []
   },
   "outputs": [
    {
     "name": "stdout",
     "output_type": "stream",
     "text": [
      "159 40\n",
      "159 40\n",
      "159 40\n",
      "159 40\n",
      "160 39\n"
     ]
    }
   ],
   "source": [
    "for split in train_test_splits:\n",
    "    train = split[0]\n",
    "    test = split[1]\n",
    "    \n",
    "    print(len(train), len(test))"
   ]
  },
  {
   "cell_type": "markdown",
   "id": "53730466-75ea-4701-b2f6-811db7a34086",
   "metadata": {},
   "source": [
    "### Now, for each test/train index split up, I need to:\n",
    "\n",
    "### - Take 10% of the test data for validation\n",
    "### - Create x_train, g_train, and y_train\n",
    "### - Create x_val, g_val, and y_val\n",
    "### - Create x_test, g_test, and y_test"
   ]
  },
  {
   "cell_type": "code",
   "execution_count": 111,
   "id": "8b2394d6-bd75-4fa5-b578-03eb2074db4f",
   "metadata": {
    "tags": []
   },
   "outputs": [],
   "source": [
    "def get_wrapper(split, num_model):\n",
    "    \n",
    "    # Train and test\n",
    "    train_indices = split[0]\n",
    "    test_indices = split[1]\n",
    "    \n",
    "    # Take 10% of training data for validation and update training\n",
    "    num_validation_indices = int(0.1 * len(train_indices))  # I want 10% of the indices to be used for validation\n",
    "    validation_indices = np.random.choice(train_indices, size=num_validation_indices, replace=False)  # Randomly choose 10% of the indices for validation\n",
    "    train_indices = [index for index in train_indices if index not in validation_indices]  # Remove validation indices from train_indices\n",
    "    \n",
    "    #Prepare train\n",
    "    x_train, g_train, y_train = get_training(finetune_data, train_indices, num_model)\n",
    "    \n",
    "    #Prepare validation\n",
    "    x_validation, g_validation, y_validation = get_validation(finetune_data, validation_indices, num_model)\n",
    "    \n",
    "    #Prepare test\n",
    "    x_test, g_test, y_test = get_testing(finetune_data, test_indices, num_model)\n",
    "    \n",
    "    return (x_train, g_train, y_train, x_validation, g_validation, y_validation, x_test, g_test, y_test)\n",
    "    "
   ]
  },
  {
   "cell_type": "code",
   "execution_count": 112,
   "id": "5ff8e30d-c70f-4118-bdab-994d9adac485",
   "metadata": {
    "tags": []
   },
   "outputs": [],
   "source": [
    "def get_training(dataset, train_indices, num_model):\n",
    "    \n",
    "    gene_path_train = 'data/genes/' + 'endogenous_train_' + str(num_model) + '.npy'\n",
    "    \n",
    "    train_dataset = finetune_data.loc[train_indices]\n",
    "    train_dataset = train_dataset.reset_index(drop = True)  #Need to reset indices so it doesn't throw an error\n",
    "\n",
    "\n",
    "    if not os.path.isfile(gene_path_train):\n",
    "        g_train = seq_concat(train_dataset)\n",
    "        np.save(gene_path_train, g_train)\n",
    "    else:\n",
    "        g_train = np.load(gene_path_train)\n",
    "\n",
    "\n",
    "    train_features, train_target = select_cols(train_dataset)  #Trained target features \n",
    "    train_type = train_dataset.loc[:, ['type_sub', 'type_ins', 'type_del']]\n",
    "\n",
    "    mean = pd.read_csv('data/mean.csv', header=None, index_col=0)\n",
    "    std = pd.read_csv('data/std.csv', header=None, index_col=0)\n",
    "\n",
    "    mean = mean.squeeze('columns')\n",
    "    std= std.squeeze('columns')\n",
    "\n",
    "    x_train = (train_features - mean) / std\n",
    "    y_train = train_target\n",
    "    y_train = pd.concat([y_train, train_type], axis=1)\n",
    "\n",
    "    g_train = torch.tensor(g_train, dtype=torch.float32, device=device)\n",
    "    x_train = torch.tensor(x_train.to_numpy(), dtype=torch.float32, device=device)\n",
    "    y_train = torch.tensor(y_train.to_numpy(), dtype=torch.float32, device=device)\n",
    "    \n",
    "    return([x_train, g_train, y_train])"
   ]
  },
  {
   "cell_type": "code",
   "execution_count": 106,
   "id": "779342d5-6c2f-4abb-ac8c-3362938f2344",
   "metadata": {
    "tags": []
   },
   "outputs": [],
   "source": [
    "def get_validation(dataset, validation_indices, num_model):\n",
    "    \n",
    "    gene_path_validation = 'data/genes/' + 'endogenous_val_' + str(num_model) + '.npy'\n",
    "    \n",
    "    validation_dataset = finetune_data.loc[validation_indices]\n",
    "    validation_dataset = validation_dataset.reset_index(drop = True)  #Need to reset indices so it doesn't throw an error\n",
    "\n",
    "\n",
    "    if not os.path.isfile(gene_path_validation):\n",
    "        g_validation = seq_concat(validation_dataset)\n",
    "        np.save(gene_path_validation, g_validation)\n",
    "    else:\n",
    "        g_validation = np.load(gene_path_validation)\n",
    "\n",
    "\n",
    "    validation_features, validation_target = select_cols(validation_dataset)  \n",
    "    validation_type = validation_dataset.loc[:, ['type_sub', 'type_ins', 'type_del']]\n",
    "\n",
    "    mean = pd.read_csv('data/mean.csv', header=None, index_col=0)\n",
    "    std = pd.read_csv('data/std.csv', header=None, index_col=0)\n",
    "\n",
    "    mean = mean.squeeze('columns')\n",
    "    std= std.squeeze('columns')\n",
    "\n",
    "    x_validation = (validation_features - mean) / std\n",
    "    y_validation = validation_target\n",
    "    y_validation = pd.concat([y_validation, validation_type], axis=1)\n",
    "\n",
    "    g_validation = torch.tensor(g_validation, dtype=torch.float32, device=device)\n",
    "    x_validation = torch.tensor(x_validation.to_numpy(), dtype=torch.float32, device=device)\n",
    "    y_validation = torch.tensor(y_validation.to_numpy(), dtype=torch.float32, device=device)\n",
    "    \n",
    "    return([x_validation, g_validation, y_validation])"
   ]
  },
  {
   "cell_type": "code",
   "execution_count": 113,
   "id": "48b000f1-d335-407b-be88-f7a11db1ef2a",
   "metadata": {
    "tags": []
   },
   "outputs": [],
   "source": [
    "def get_testing(dataset, test_indices, num_model):\n",
    "    \n",
    "\n",
    "    gene_path_test = 'data/genes/' + 'endogenous_test' +  str(num_model) +'.npy'\n",
    "    \n",
    "    test_dataset = finetune_data.loc[test_indices]\n",
    "    test_dataset = test_dataset.reset_index(drop = True)  #Need to reset indices so it doesn't throw an error\n",
    "\n",
    "    if not os.path.isfile(gene_path_test):\n",
    "        g_test = seq_concat(test_dataset)\n",
    "        np.save(gene_path_test, g_test)\n",
    "    else:\n",
    "        g_test = np.load(gene_path_test)\n",
    "\n",
    "    test_features, test_target = select_cols(test_dataset)  #Test target features \n",
    "    test_type = test_dataset.loc[:, ['type_sub', 'type_ins', 'type_del']]\n",
    "\n",
    "    mean = pd.read_csv('data/mean.csv', header=None, index_col=0)\n",
    "    std = pd.read_csv('data/std.csv', header=None, index_col=0)\n",
    "\n",
    "    mean = mean.squeeze('columns')\n",
    "    std= std.squeeze('columns')\n",
    "\n",
    "    x_test = (test_features - mean) / std\n",
    "    y_test = test_target\n",
    "    y_test = pd.concat([y_test, test_type], axis=1)\n",
    "\n",
    "    g_test = torch.tensor(g_test, dtype=torch.float32, device=device)\n",
    "    x_test = torch.tensor(x_test.to_numpy(), dtype=torch.float32, device=device)\n",
    "    y_test = torch.tensor(y_test.to_numpy(), dtype=torch.float32, device=device)\n",
    "    \n",
    "    return([x_test, g_test, y_test])"
   ]
  },
  {
   "cell_type": "markdown",
   "id": "1a3059da-f751-4310-b42b-1738c2f89f08",
   "metadata": {},
   "source": [
    "# Hyperparameter Optimization"
   ]
  },
  {
   "cell_type": "code",
   "execution_count": 114,
   "id": "e8efe65a-daa5-4c33-83f4-d3cbaf526b88",
   "metadata": {
    "tags": []
   },
   "outputs": [],
   "source": [
    "import torch\n",
    "import torch.optim as optim\n",
    "import numpy as np\n",
    "import torch.nn.functional as F\n",
    "from torch.autograd import Variable\n",
    "from torch.utils.data import DataLoader, TensorDataset\n",
    "from tqdm import tqdm\n",
    "import optuna\n",
    "import time\n",
    "from optuna.trial import TrialState"
   ]
  },
  {
   "cell_type": "code",
   "execution_count": 127,
   "id": "873b32f2-683d-4736-b4bd-9094456d1bae",
   "metadata": {
    "tags": []
   },
   "outputs": [],
   "source": [
    "class Optuna_Trainer:\n",
    "    \n",
    "    # Initializing attributes including training and testing sets g (one-hot encoding of input sequences), x (features), and y (Measured editing efficiencies).\n",
    "    def __init__(self, model, x_train, g_train, y_train, x_y_validation, g_y_validation, y_validation): \n",
    "        self.g_train = g_train   # Training data for g\n",
    "        self.x_train = x_train   # Training data for x \n",
    "        self.y_train = y_train   # Training data for y\n",
    "        self.g_val = g_validation       # Validation data for g\n",
    "        self.x_val = x_validation       # Validation data for x\n",
    "        self.y_val = y_validation       # Validation data for y\n",
    "        self.model = model       # Call machine learning model as an attribute of the object\n",
    "        self.lr = 1e-5           # Learning rate\n",
    "        self.wd = 1e-5           # Weight decay: Weight decay should typically be same value as the learning rate\n",
    "        self.bs = 8              # Batch size \n",
    "        self.ep = 100            # Number of epochs\n",
    "        \n",
    "        # Patience represents the number of consecutive trials where the validation loss does not decrease (performance is not improved).\n",
    "        self.patience = 20       # Changing patience value to 20. \n",
    "        self.delta = 1e-4        # Delta is the threshold needed for the difference between the previous minimum loss and the validation loss.\n",
    "\n",
    "    # Set up hyperparameter search space\n",
    "    def setup_trials(self, trial):\n",
    "        \n",
    "        #Parameters that need to be searched\n",
    "        self.lr = trial.suggest_categorical(\"lr\", [1e-4,1e-3,2e-3,5e-3, 1e-2])   # Categorical values for learning rate\n",
    "        self.wd = self.lr                                                        # Assign weight decay to be the same as the learning rate\n",
    "        self.bs = trial.suggest_categorical(\"batch_size\", [8, 16, 32])           # Categorical values for batch size\n",
    "        self.ep = trial.suggest_categorical(\"num_epochs\", [50, 100, 200, 500])   # Categorical values for number of epochs\n",
    "        \n",
    "        # Fixed parameters\n",
    "        self.hs = 128                    # Hidden size\n",
    "        self.nl = 1                      # Number of GRU layers\n",
    "        self.schedule = True             # Learning rate scheduler\n",
    "        \n",
    "        # Print trial hyperparameters\n",
    "        for key, value in trial.params.items():\n",
    "            print(\"{}: {}\".format(key, value))\n",
    "    \n",
    "    # Trains the DeepPrime model based on the provided testing and training data\n",
    "    def train_model(self, trial): \n",
    "        \n",
    "        min_loss = None                   #  Stores the minimum loss, initialize with no value\n",
    "        early_stopping_counter = 0        #  Track how many consecutive epochs have occurred without improvement in the validation loss, used to prevent overfitting.\n",
    "\n",
    "        #Trial object is created when Optuna generates a study object, so it's not something to explicitly point to\n",
    "        self.setup_trials(trial) # Sets up the trial with a set of hyperparameters derived from the setup_trials function\n",
    "\n",
    "\n",
    "        # Prepare the training data to run through the model\n",
    "        train_dataset = GeneFeatureDataset(self.g_train, self.x_train, self.y_train) \n",
    "        train_loader = DataLoader(train_dataset, batch_size=self.bs, shuffle=True, drop_last=True) \n",
    "\n",
    "        # Prepare the testing and validation datasets\n",
    "        val_dataset = GeneFeatureDataset(self.g_val, self.x_val, self.y_val) \n",
    "        val_loader = DataLoader(val_dataset, batch_size=self.bs, shuffle=True) # Q: Shuffle?\n",
    "\n",
    "        optimizer = optim.AdamW(self.model.parameters(), lr=self.lr, weight_decay=self.wd)   # Sets up optimizer, I am also using AdamW\n",
    "        optimizer.zero_grad()  # Zeroes out gradients, kind of a \"hack\" where optimization is actually better when gradients are not stored\n",
    "        \n",
    "        criterion = BalancedMSELoss() # Loss function used in DeepPrime\n",
    "\n",
    "        # print(\"epoch\\ttrain_corr\\ttrain_loss\\ttrue_auc\\tpred_auc\\tval_corr\\tval_loss\\telapsed_time\")\n",
    "        for epoch in range(self.ep): # self.ep is the number of epochs, so here we are iterating through the epochs\n",
    "            \n",
    "            # Train\n",
    "            self.model.train()  # Sets model in training mode. Make sure to use self.model because model is now an attribute of the class itself.\n",
    "            \n",
    "            train_loss = []    # List that will keep track of the loss across the entire epoch\n",
    "            train_count = 0    # Number of samples processed in epoch\n",
    "    \n",
    "\n",
    "            # Works through each batch of data set up by the train_loader\n",
    "            for i, (g_batch, x_batch, y_batch) in enumerate(train_loader):\n",
    "                g_batch, x_batch, y_batch = g_batch.cuda(), x_batch.cuda(), y_batch.cuda() # We are on GPU, so move tensors to GPU\n",
    "\n",
    "                # Update values for all three tensors. Following permutations used in DeepPrime.\n",
    "                g_batch = g_batch.permute((0, 3, 1, 2))\n",
    "                x_batch = x_batch\n",
    "                y_batch = y_batch.reshape(-1, 4)\n",
    "\n",
    "\n",
    "                optimizer.zero_grad()  #Zero out gradient for each batch\n",
    "\n",
    "                output = self.model(g_batch, x_batch) # Send g and x through the model\n",
    "\n",
    "                total_loss = criterion(output, y_batch) # Calculate the loss between the model output and the actual measured efficiencies\n",
    "\n",
    "                total_loss.backward() # Computes gradients of the loss with repsect to the model parameters\n",
    "                optimizer.step()  # Applies optimization to update parameters\n",
    "\n",
    "                train_loss.append(x_batch.size(0) * total_loss.detach().cpu().numpy()) # Multiplies batch-loss by batch size to normalize for different sized batches during training\n",
    "                train_count += x_batch.size(0)  # Updates number of samples processed in the epoch\n",
    "\n",
    "            train_loss = sum(train_loss) / train_count  # train_loss now represents the average training loss across batches for the ENTIRE epoch\n",
    "\n",
    "\n",
    "            # Validation\n",
    "            self.model.eval()  # Set model in evaluation mode\n",
    "            \n",
    "            val_loss = []\n",
    "            val_count = 0\n",
    "\n",
    "            # Same as with training batches\n",
    "            for i, (g_batch, x_batch, y_batch) in enumerate(val_loader):\n",
    "                g_batch, x_batch, y_batch = g_batch.cuda(), x_batch.cuda(), y_batch.cuda()\n",
    "\n",
    "                g_batch = g_batch.permute((0, 3, 1, 2))\n",
    "                x_batch = x_batch\n",
    "                y_batch = y_batch.reshape(-1, 4)\n",
    "                \n",
    "                output = self.model(g_batch, x_batch)  #Run validation data through model\n",
    "\n",
    "                loss = criterion(output, y_batch)\n",
    "                \n",
    "                \n",
    "                val_loss.append(x_batch.size(0) * loss.detach().cpu().numpy())\n",
    "                val_count += x_batch.size(0)\n",
    "\n",
    "            val_loss = sum(val_loss) / val_count\n",
    "\n",
    "\n",
    "            # Summary of training progress\n",
    "            # print(\"{}\\t{:.4f}\\t{:.4f}\".format(epoch, train_loss, val_loss))\n",
    "\n",
    "            trial.report(val_loss, epoch) # Reports the result of the current epoch to Optuna, so Optuna can keep track of model performance throughout the trial.\n",
    "            \n",
    "\n",
    "            if min_loss is None:\n",
    "                min_loss = val_loss  \n",
    "            elif min_loss - val_loss > self.delta:                    # If the difference between the previous minimum loss and the current validation loss is greater than delta, update values\n",
    "                min_loss = val_loss                                   # Set the new minimum loss to current validation loss\n",
    "                early_stopping_counter = 0                            # Reset to 0, indicating no consecutive epochs with increasing validation loss.\n",
    "            elif min_loss - val_loss < self.delta:                    # No improvement in validation loss\n",
    "                early_stopping_counter += 1                           # Consecutive epoch for which there is no improvement on validation loss\n",
    "                if early_stopping_counter >= self.patience:           # At this point, further training is unlikely to improve/lower validation loss, so break\n",
    "                    break\n",
    "\n",
    "        if trial.should_prune():\n",
    "            raise optuna.exceptions.TrialPruned()\n",
    "\n",
    "        return val_loss # #Returns the loss across the epochs, as this is the value we want to minimize\n",
    "\n",
    "    def exec_study(self):\n",
    "        study = optuna.create_study()                      # Creates Optuna study object, maximizing correlation\n",
    "        study.optimize(self.train_model, n_trials=30)      # Runs train_model function n_trials times\n",
    "        return self.print_result(study)                    # Prints out hyperparameters used for combination that generated lowest validation loss.\n",
    "    \n",
    "    def print_result(self, study):\n",
    "        pruned_trials = study.get_trials(deepcopy=False, states=[TrialState.PRUNED])\n",
    "        complete_trials = study.get_trials(deepcopy=False, states=[TrialState.COMPLETE])\n",
    "\n",
    "        print(\"Study statistics:\")\n",
    "        print(\"Number of finished trials:\", len(study.trials))\n",
    "        print(\"Number of pruned trials:\", len(pruned_trials))\n",
    "        print(\"Number of complete trials:\", len(complete_trials))\n",
    "\n",
    "        print(\"Best trial:\")\n",
    "        best_trial = study.best_trial\n",
    "\n",
    "        print(\"Value: \", best_trial.value)\n",
    "\n",
    "        best_params = {}\n",
    "        print(\"Params:\")\n",
    "        for key, value in best_trial.params.items():\n",
    "            print(\"{}: {}\".format(key, value))\n",
    "            best_params[key] = value\n",
    "        for key, value in best_trial.user_attrs.items():\n",
    "            print(\"{}: {}\".format(key, value))\n",
    "            best_params[key] = value\n",
    "\n",
    "        return best_params\n"
   ]
  },
  {
   "cell_type": "code",
   "execution_count": 128,
   "id": "0513f736-297d-498e-aaa0-c4423c9f9b72",
   "metadata": {
    "tags": []
   },
   "outputs": [
    {
     "name": "stderr",
     "output_type": "stream",
     "text": [
      "[I 2024-02-26 11:18:39,349] A new study created in memory with name: no-name-2a607693-80a6-48f6-a61a-a9c5ceb153ae\n"
     ]
    },
    {
     "name": "stdout",
     "output_type": "stream",
     "text": [
      "Training Model 0\n",
      "cuda:0\n",
      "lr: 0.0001\n",
      "batch_size: 16\n",
      "num_epochs: 500\n"
     ]
    },
    {
     "name": "stderr",
     "output_type": "stream",
     "text": [
      "[I 2024-02-26 11:18:40,595] Trial 0 finished with value: 4.1349592208862305 and parameters: {'lr': 0.0001, 'batch_size': 16, 'num_epochs': 500}. Best is trial 0 with value: 4.1349592208862305.\n"
     ]
    },
    {
     "name": "stdout",
     "output_type": "stream",
     "text": [
      "lr: 0.0001\n",
      "batch_size: 8\n",
      "num_epochs: 200\n"
     ]
    },
    {
     "name": "stderr",
     "output_type": "stream",
     "text": [
      "[I 2024-02-26 11:18:48,511] Trial 1 finished with value: 1.349531928698222 and parameters: {'lr': 0.0001, 'batch_size': 8, 'num_epochs': 200}. Best is trial 1 with value: 1.349531928698222.\n"
     ]
    },
    {
     "name": "stdout",
     "output_type": "stream",
     "text": [
      "lr: 0.002\n",
      "batch_size: 32\n",
      "num_epochs: 500\n"
     ]
    },
    {
     "name": "stderr",
     "output_type": "stream",
     "text": [
      "[I 2024-02-26 11:18:49,811] Trial 2 finished with value: 0.7784639596939087 and parameters: {'lr': 0.002, 'batch_size': 32, 'num_epochs': 500}. Best is trial 2 with value: 0.7784639596939087.\n"
     ]
    },
    {
     "name": "stdout",
     "output_type": "stream",
     "text": [
      "lr: 0.002\n",
      "batch_size: 16\n",
      "num_epochs: 200\n"
     ]
    },
    {
     "name": "stderr",
     "output_type": "stream",
     "text": [
      "[I 2024-02-26 11:18:51,297] Trial 3 finished with value: 0.8831098675727844 and parameters: {'lr': 0.002, 'batch_size': 16, 'num_epochs': 200}. Best is trial 2 with value: 0.7784639596939087.\n"
     ]
    },
    {
     "name": "stdout",
     "output_type": "stream",
     "text": [
      "lr: 0.01\n",
      "batch_size: 32\n",
      "num_epochs: 200\n"
     ]
    },
    {
     "name": "stderr",
     "output_type": "stream",
     "text": [
      "[I 2024-02-26 11:18:52,366] Trial 4 finished with value: 0.6742392182350159 and parameters: {'lr': 0.01, 'batch_size': 32, 'num_epochs': 200}. Best is trial 4 with value: 0.6742392182350159.\n"
     ]
    },
    {
     "name": "stdout",
     "output_type": "stream",
     "text": [
      "lr: 0.005\n",
      "batch_size: 16\n",
      "num_epochs: 50\n"
     ]
    },
    {
     "name": "stderr",
     "output_type": "stream",
     "text": [
      "[I 2024-02-26 11:18:53,855] Trial 5 finished with value: 0.6510604619979858 and parameters: {'lr': 0.005, 'batch_size': 16, 'num_epochs': 50}. Best is trial 5 with value: 0.6510604619979858.\n"
     ]
    },
    {
     "name": "stdout",
     "output_type": "stream",
     "text": [
      "lr: 0.005\n",
      "batch_size: 8\n",
      "num_epochs: 200\n"
     ]
    },
    {
     "name": "stderr",
     "output_type": "stream",
     "text": [
      "[I 2024-02-26 11:18:58,921] Trial 6 finished with value: 0.7581716616948445 and parameters: {'lr': 0.005, 'batch_size': 8, 'num_epochs': 200}. Best is trial 5 with value: 0.6510604619979858.\n"
     ]
    },
    {
     "name": "stdout",
     "output_type": "stream",
     "text": [
      "lr: 0.0001\n",
      "batch_size: 8\n",
      "num_epochs: 100\n"
     ]
    },
    {
     "name": "stderr",
     "output_type": "stream",
     "text": [
      "[I 2024-02-26 11:19:03,237] Trial 7 finished with value: 0.6520135243733723 and parameters: {'lr': 0.0001, 'batch_size': 8, 'num_epochs': 100}. Best is trial 5 with value: 0.6510604619979858.\n"
     ]
    },
    {
     "name": "stdout",
     "output_type": "stream",
     "text": [
      "lr: 0.001\n",
      "batch_size: 8\n",
      "num_epochs: 100\n"
     ]
    },
    {
     "name": "stderr",
     "output_type": "stream",
     "text": [
      "[I 2024-02-26 11:19:06,463] Trial 8 finished with value: 0.7448562423388163 and parameters: {'lr': 0.001, 'batch_size': 8, 'num_epochs': 100}. Best is trial 5 with value: 0.6510604619979858.\n"
     ]
    },
    {
     "name": "stdout",
     "output_type": "stream",
     "text": [
      "lr: 0.002\n",
      "batch_size: 8\n",
      "num_epochs: 500\n"
     ]
    },
    {
     "name": "stderr",
     "output_type": "stream",
     "text": [
      "[I 2024-02-26 11:19:09,641] Trial 9 finished with value: 0.7865137259165446 and parameters: {'lr': 0.002, 'batch_size': 8, 'num_epochs': 500}. Best is trial 5 with value: 0.6510604619979858.\n"
     ]
    },
    {
     "name": "stdout",
     "output_type": "stream",
     "text": [
      "lr: 0.005\n",
      "batch_size: 16\n",
      "num_epochs: 50\n"
     ]
    },
    {
     "name": "stderr",
     "output_type": "stream",
     "text": [
      "[I 2024-02-26 11:19:11,389] Trial 10 finished with value: 0.8055393695831299 and parameters: {'lr': 0.005, 'batch_size': 16, 'num_epochs': 50}. Best is trial 5 with value: 0.6510604619979858.\n"
     ]
    },
    {
     "name": "stdout",
     "output_type": "stream",
     "text": [
      "lr: 0.0001\n",
      "batch_size: 16\n",
      "num_epochs: 100\n"
     ]
    },
    {
     "name": "stderr",
     "output_type": "stream",
     "text": [
      "[I 2024-02-26 11:19:15,810] Trial 11 finished with value: 0.7168334126472473 and parameters: {'lr': 0.0001, 'batch_size': 16, 'num_epochs': 100}. Best is trial 5 with value: 0.6510604619979858.\n"
     ]
    },
    {
     "name": "stdout",
     "output_type": "stream",
     "text": [
      "lr: 0.005\n",
      "batch_size: 8\n",
      "num_epochs: 50\n"
     ]
    },
    {
     "name": "stderr",
     "output_type": "stream",
     "text": [
      "[I 2024-02-26 11:19:19,018] Trial 12 finished with value: 0.8903219064076742 and parameters: {'lr': 0.005, 'batch_size': 8, 'num_epochs': 50}. Best is trial 5 with value: 0.6510604619979858.\n"
     ]
    },
    {
     "name": "stdout",
     "output_type": "stream",
     "text": [
      "lr: 0.01\n",
      "batch_size: 16\n",
      "num_epochs: 50\n"
     ]
    },
    {
     "name": "stderr",
     "output_type": "stream",
     "text": [
      "[I 2024-02-26 11:19:21,706] Trial 13 finished with value: 0.7448946833610535 and parameters: {'lr': 0.01, 'batch_size': 16, 'num_epochs': 50}. Best is trial 5 with value: 0.6510604619979858.\n"
     ]
    },
    {
     "name": "stdout",
     "output_type": "stream",
     "text": [
      "lr: 0.001\n",
      "batch_size: 32\n",
      "num_epochs: 100\n"
     ]
    },
    {
     "name": "stderr",
     "output_type": "stream",
     "text": [
      "[I 2024-02-26 11:19:22,960] Trial 14 finished with value: 0.6374346017837524 and parameters: {'lr': 0.001, 'batch_size': 32, 'num_epochs': 100}. Best is trial 14 with value: 0.6374346017837524.\n"
     ]
    },
    {
     "name": "stdout",
     "output_type": "stream",
     "text": [
      "lr: 0.001\n",
      "batch_size: 32\n",
      "num_epochs: 50\n"
     ]
    },
    {
     "name": "stderr",
     "output_type": "stream",
     "text": [
      "[I 2024-02-26 11:19:24,208] Trial 15 finished with value: 0.6608200073242188 and parameters: {'lr': 0.001, 'batch_size': 32, 'num_epochs': 50}. Best is trial 14 with value: 0.6374346017837524.\n"
     ]
    },
    {
     "name": "stdout",
     "output_type": "stream",
     "text": [
      "lr: 0.001\n",
      "batch_size: 32\n",
      "num_epochs: 100\n"
     ]
    },
    {
     "name": "stderr",
     "output_type": "stream",
     "text": [
      "[I 2024-02-26 11:19:25,450] Trial 16 finished with value: 0.6755653619766235 and parameters: {'lr': 0.001, 'batch_size': 32, 'num_epochs': 100}. Best is trial 14 with value: 0.6374346017837524.\n"
     ]
    },
    {
     "name": "stdout",
     "output_type": "stream",
     "text": [
      "lr: 0.005\n",
      "batch_size: 32\n",
      "num_epochs: 50\n"
     ]
    },
    {
     "name": "stderr",
     "output_type": "stream",
     "text": [
      "[I 2024-02-26 11:19:26,158] Trial 17 finished with value: 0.693601667881012 and parameters: {'lr': 0.005, 'batch_size': 32, 'num_epochs': 50}. Best is trial 14 with value: 0.6374346017837524.\n"
     ]
    },
    {
     "name": "stdout",
     "output_type": "stream",
     "text": [
      "lr: 0.001\n",
      "batch_size: 32\n",
      "num_epochs: 100\n"
     ]
    },
    {
     "name": "stderr",
     "output_type": "stream",
     "text": [
      "[I 2024-02-26 11:19:27,341] Trial 18 finished with value: 0.7198883295059204 and parameters: {'lr': 0.001, 'batch_size': 32, 'num_epochs': 100}. Best is trial 14 with value: 0.6374346017837524.\n"
     ]
    },
    {
     "name": "stdout",
     "output_type": "stream",
     "text": [
      "lr: 0.001\n",
      "batch_size: 16\n",
      "num_epochs: 50\n"
     ]
    },
    {
     "name": "stderr",
     "output_type": "stream",
     "text": [
      "[I 2024-02-26 11:19:29,082] Trial 19 pruned. \n"
     ]
    },
    {
     "name": "stdout",
     "output_type": "stream",
     "text": [
      "lr: 0.005\n",
      "batch_size: 32\n",
      "num_epochs: 100\n"
     ]
    },
    {
     "name": "stderr",
     "output_type": "stream",
     "text": [
      "[I 2024-02-26 11:19:29,791] Trial 20 pruned. \n"
     ]
    },
    {
     "name": "stdout",
     "output_type": "stream",
     "text": [
      "lr: 0.0001\n",
      "batch_size: 8\n",
      "num_epochs: 100\n"
     ]
    },
    {
     "name": "stderr",
     "output_type": "stream",
     "text": [
      "[I 2024-02-26 11:19:34,025] Trial 21 pruned. \n"
     ]
    },
    {
     "name": "stdout",
     "output_type": "stream",
     "text": [
      "lr: 0.0001\n",
      "batch_size: 16\n",
      "num_epochs: 100\n"
     ]
    },
    {
     "name": "stderr",
     "output_type": "stream",
     "text": [
      "[I 2024-02-26 11:19:37,887] Trial 22 finished with value: 0.7600034475326538 and parameters: {'lr': 0.0001, 'batch_size': 16, 'num_epochs': 100}. Best is trial 14 with value: 0.6374346017837524.\n"
     ]
    },
    {
     "name": "stdout",
     "output_type": "stream",
     "text": [
      "lr: 0.01\n",
      "batch_size: 8\n",
      "num_epochs: 100\n"
     ]
    },
    {
     "name": "stderr",
     "output_type": "stream",
     "text": [
      "[I 2024-02-26 11:19:41,113] Trial 23 finished with value: 0.9899554093678792 and parameters: {'lr': 0.01, 'batch_size': 8, 'num_epochs': 100}. Best is trial 14 with value: 0.6374346017837524.\n"
     ]
    },
    {
     "name": "stdout",
     "output_type": "stream",
     "text": [
      "lr: 0.001\n",
      "batch_size: 16\n",
      "num_epochs: 100\n"
     ]
    },
    {
     "name": "stderr",
     "output_type": "stream",
     "text": [
      "[I 2024-02-26 11:19:43,916] Trial 24 finished with value: 0.6670414209365845 and parameters: {'lr': 0.001, 'batch_size': 16, 'num_epochs': 100}. Best is trial 14 with value: 0.6374346017837524.\n"
     ]
    },
    {
     "name": "stdout",
     "output_type": "stream",
     "text": [
      "lr: 0.005\n",
      "batch_size: 8\n",
      "num_epochs: 100\n"
     ]
    },
    {
     "name": "stderr",
     "output_type": "stream",
     "text": [
      "[I 2024-02-26 11:19:50,148] Trial 25 finished with value: 0.7348004062970479 and parameters: {'lr': 0.005, 'batch_size': 8, 'num_epochs': 100}. Best is trial 14 with value: 0.6374346017837524.\n"
     ]
    },
    {
     "name": "stdout",
     "output_type": "stream",
     "text": [
      "lr: 0.0001\n",
      "batch_size: 32\n",
      "num_epochs: 50\n"
     ]
    },
    {
     "name": "stderr",
     "output_type": "stream",
     "text": [
      "[I 2024-02-26 11:19:51,594] Trial 26 finished with value: 0.6094299554824829 and parameters: {'lr': 0.0001, 'batch_size': 32, 'num_epochs': 50}. Best is trial 26 with value: 0.6094299554824829.\n"
     ]
    },
    {
     "name": "stdout",
     "output_type": "stream",
     "text": [
      "lr: 0.0001\n",
      "batch_size: 32\n",
      "num_epochs: 50\n"
     ]
    },
    {
     "name": "stderr",
     "output_type": "stream",
     "text": [
      "[I 2024-02-26 11:19:52,501] Trial 27 finished with value: 0.5815373063087463 and parameters: {'lr': 0.0001, 'batch_size': 32, 'num_epochs': 50}. Best is trial 27 with value: 0.5815373063087463.\n"
     ]
    },
    {
     "name": "stdout",
     "output_type": "stream",
     "text": [
      "lr: 0.0001\n",
      "batch_size: 32\n",
      "num_epochs: 50\n"
     ]
    },
    {
     "name": "stderr",
     "output_type": "stream",
     "text": [
      "[I 2024-02-26 11:19:53,467] Trial 28 finished with value: 0.5730008482933044 and parameters: {'lr': 0.0001, 'batch_size': 32, 'num_epochs': 50}. Best is trial 28 with value: 0.5730008482933044.\n"
     ]
    },
    {
     "name": "stdout",
     "output_type": "stream",
     "text": [
      "lr: 0.0001\n",
      "batch_size: 32\n",
      "num_epochs: 50\n"
     ]
    },
    {
     "name": "stderr",
     "output_type": "stream",
     "text": [
      "[I 2024-02-26 11:19:54,378] Trial 29 finished with value: 0.5692780613899231 and parameters: {'lr': 0.0001, 'batch_size': 32, 'num_epochs': 50}. Best is trial 29 with value: 0.5692780613899231.\n"
     ]
    },
    {
     "name": "stdout",
     "output_type": "stream",
     "text": [
      "Study statistics:\n",
      "Number of finished trials: 30\n",
      "Number of pruned trials: 3\n",
      "Number of complete trials: 27\n",
      "Best trial:\n",
      "Value:  0.5692780613899231\n",
      "Params:\n",
      "lr: 0.0001\n",
      "batch_size: 32\n",
      "num_epochs: 50\n",
      "Model 0 complete.\n",
      "Training Model 1\n",
      "Start preprocessing the sequence done 2d\n",
      "(144,) 144 74\n"
     ]
    },
    {
     "name": "stderr",
     "output_type": "stream",
     "text": [
      "100%|██████████| 144/144 [00:00<00:00, 2343.91it/s]\n"
     ]
    },
    {
     "name": "stdout",
     "output_type": "stream",
     "text": [
      "Preprocessed the sequence\n",
      "Start preprocessing the sequence done 2d\n",
      "(144,) 144 74\n"
     ]
    },
    {
     "name": "stderr",
     "output_type": "stream",
     "text": [
      "100%|██████████| 144/144 [00:00<00:00, 1695.66it/s]\n"
     ]
    },
    {
     "name": "stdout",
     "output_type": "stream",
     "text": [
      "Preprocessed the sequence\n",
      "Start preprocessing the sequence done 2d\n",
      "(15,) 15 74\n"
     ]
    },
    {
     "name": "stderr",
     "output_type": "stream",
     "text": [
      "100%|██████████| 15/15 [00:00<00:00, 2271.78it/s]\n"
     ]
    },
    {
     "name": "stdout",
     "output_type": "stream",
     "text": [
      "Preprocessed the sequence\n",
      "Start preprocessing the sequence done 2d\n",
      "(15,) 15 74\n"
     ]
    },
    {
     "name": "stderr",
     "output_type": "stream",
     "text": [
      "100%|██████████| 15/15 [00:00<00:00, 1688.26it/s]\n"
     ]
    },
    {
     "name": "stdout",
     "output_type": "stream",
     "text": [
      "Preprocessed the sequence\n",
      "Start preprocessing the sequence done 2d\n",
      "(40,) 40 74\n"
     ]
    },
    {
     "name": "stderr",
     "output_type": "stream",
     "text": [
      "100%|██████████| 40/40 [00:00<00:00, 2283.42it/s]\n"
     ]
    },
    {
     "name": "stdout",
     "output_type": "stream",
     "text": [
      "Preprocessed the sequence\n",
      "Start preprocessing the sequence done 2d\n",
      "(40,) 40 74\n"
     ]
    },
    {
     "name": "stderr",
     "output_type": "stream",
     "text": [
      "100%|██████████| 40/40 [00:00<00:00, 1665.86it/s]\n"
     ]
    },
    {
     "name": "stdout",
     "output_type": "stream",
     "text": [
      "Preprocessed the sequence\n",
      "cuda:0\n"
     ]
    },
    {
     "name": "stderr",
     "output_type": "stream",
     "text": [
      "[I 2024-02-26 11:19:54,734] A new study created in memory with name: no-name-e1fe9c5a-213d-4f43-b587-01f4c54309b6\n"
     ]
    },
    {
     "name": "stdout",
     "output_type": "stream",
     "text": [
      "lr: 0.0001\n",
      "batch_size: 8\n",
      "num_epochs: 200\n"
     ]
    },
    {
     "name": "stderr",
     "output_type": "stream",
     "text": [
      "[I 2024-02-26 11:20:09,471] Trial 0 finished with value: 0.7970897515614828 and parameters: {'lr': 0.0001, 'batch_size': 8, 'num_epochs': 200}. Best is trial 0 with value: 0.7970897515614828.\n"
     ]
    },
    {
     "name": "stdout",
     "output_type": "stream",
     "text": [
      "lr: 0.01\n",
      "batch_size: 32\n",
      "num_epochs: 500\n"
     ]
    },
    {
     "name": "stderr",
     "output_type": "stream",
     "text": [
      "[I 2024-02-26 11:20:10,280] Trial 1 finished with value: 0.329802542924881 and parameters: {'lr': 0.01, 'batch_size': 32, 'num_epochs': 500}. Best is trial 1 with value: 0.329802542924881.\n"
     ]
    },
    {
     "name": "stdout",
     "output_type": "stream",
     "text": [
      "lr: 0.0001\n",
      "batch_size: 8\n",
      "num_epochs: 500\n"
     ]
    },
    {
     "name": "stderr",
     "output_type": "stream",
     "text": [
      "[I 2024-02-26 11:20:14,170] Trial 2 finished with value: 0.28826971848805744 and parameters: {'lr': 0.0001, 'batch_size': 8, 'num_epochs': 500}. Best is trial 2 with value: 0.28826971848805744.\n"
     ]
    },
    {
     "name": "stdout",
     "output_type": "stream",
     "text": [
      "lr: 0.002\n",
      "batch_size: 16\n",
      "num_epochs: 100\n"
     ]
    },
    {
     "name": "stderr",
     "output_type": "stream",
     "text": [
      "[I 2024-02-26 11:20:18,009] Trial 3 finished with value: 0.20552277565002441 and parameters: {'lr': 0.002, 'batch_size': 16, 'num_epochs': 100}. Best is trial 3 with value: 0.20552277565002441.\n"
     ]
    },
    {
     "name": "stdout",
     "output_type": "stream",
     "text": [
      "lr: 0.01\n",
      "batch_size: 8\n",
      "num_epochs: 100\n"
     ]
    },
    {
     "name": "stderr",
     "output_type": "stream",
     "text": [
      "[I 2024-02-26 11:20:26,423] Trial 4 finished with value: 0.23683613340059917 and parameters: {'lr': 0.01, 'batch_size': 8, 'num_epochs': 100}. Best is trial 3 with value: 0.20552277565002441.\n"
     ]
    },
    {
     "name": "stdout",
     "output_type": "stream",
     "text": [
      "lr: 0.005\n",
      "batch_size: 32\n",
      "num_epochs: 500\n"
     ]
    },
    {
     "name": "stderr",
     "output_type": "stream",
     "text": [
      "[I 2024-02-26 11:20:27,215] Trial 5 finished with value: 0.1629093885421753 and parameters: {'lr': 0.005, 'batch_size': 32, 'num_epochs': 500}. Best is trial 5 with value: 0.1629093885421753.\n"
     ]
    },
    {
     "name": "stdout",
     "output_type": "stream",
     "text": [
      "lr: 0.0001\n",
      "batch_size: 16\n",
      "num_epochs: 50\n"
     ]
    },
    {
     "name": "stderr",
     "output_type": "stream",
     "text": [
      "[I 2024-02-26 11:20:28,437] Trial 6 finished with value: 0.16101357340812683 and parameters: {'lr': 0.0001, 'batch_size': 16, 'num_epochs': 50}. Best is trial 6 with value: 0.16101357340812683.\n"
     ]
    },
    {
     "name": "stdout",
     "output_type": "stream",
     "text": [
      "lr: 0.01\n",
      "batch_size: 16\n",
      "num_epochs: 200\n"
     ]
    },
    {
     "name": "stderr",
     "output_type": "stream",
     "text": [
      "[I 2024-02-26 11:20:29,783] Trial 7 finished with value: 0.4094410538673401 and parameters: {'lr': 0.01, 'batch_size': 16, 'num_epochs': 200}. Best is trial 6 with value: 0.16101357340812683.\n"
     ]
    },
    {
     "name": "stdout",
     "output_type": "stream",
     "text": [
      "lr: 0.0001\n",
      "batch_size: 32\n",
      "num_epochs: 50\n"
     ]
    },
    {
     "name": "stderr",
     "output_type": "stream",
     "text": [
      "[I 2024-02-26 11:20:31,202] Trial 8 finished with value: 0.18964917957782745 and parameters: {'lr': 0.0001, 'batch_size': 32, 'num_epochs': 50}. Best is trial 6 with value: 0.16101357340812683.\n"
     ]
    },
    {
     "name": "stdout",
     "output_type": "stream",
     "text": [
      "lr: 0.01\n",
      "batch_size: 8\n",
      "num_epochs: 50\n"
     ]
    },
    {
     "name": "stderr",
     "output_type": "stream",
     "text": [
      "[I 2024-02-26 11:20:33,599] Trial 9 finished with value: 0.27737709681193035 and parameters: {'lr': 0.01, 'batch_size': 8, 'num_epochs': 50}. Best is trial 6 with value: 0.16101357340812683.\n"
     ]
    },
    {
     "name": "stdout",
     "output_type": "stream",
     "text": [
      "lr: 0.001\n",
      "batch_size: 16\n",
      "num_epochs: 50\n"
     ]
    },
    {
     "name": "stderr",
     "output_type": "stream",
     "text": [
      "[I 2024-02-26 11:20:36,109] Trial 10 finished with value: 0.24865135550498962 and parameters: {'lr': 0.001, 'batch_size': 16, 'num_epochs': 50}. Best is trial 6 with value: 0.16101357340812683.\n"
     ]
    },
    {
     "name": "stdout",
     "output_type": "stream",
     "text": [
      "lr: 0.005\n",
      "batch_size: 32\n",
      "num_epochs: 500\n"
     ]
    },
    {
     "name": "stderr",
     "output_type": "stream",
     "text": [
      "[I 2024-02-26 11:20:36,823] Trial 11 finished with value: 0.1779051423072815 and parameters: {'lr': 0.005, 'batch_size': 32, 'num_epochs': 500}. Best is trial 6 with value: 0.16101357340812683.\n"
     ]
    },
    {
     "name": "stdout",
     "output_type": "stream",
     "text": [
      "lr: 0.005\n",
      "batch_size: 32\n",
      "num_epochs: 50\n"
     ]
    },
    {
     "name": "stderr",
     "output_type": "stream",
     "text": [
      "[I 2024-02-26 11:20:38,250] Trial 12 finished with value: 0.1652822196483612 and parameters: {'lr': 0.005, 'batch_size': 32, 'num_epochs': 50}. Best is trial 6 with value: 0.16101357340812683.\n"
     ]
    },
    {
     "name": "stdout",
     "output_type": "stream",
     "text": [
      "lr: 0.005\n",
      "batch_size: 16\n",
      "num_epochs: 500\n"
     ]
    },
    {
     "name": "stderr",
     "output_type": "stream",
     "text": [
      "[I 2024-02-26 11:20:40,361] Trial 13 finished with value: 0.18049532175064087 and parameters: {'lr': 0.005, 'batch_size': 16, 'num_epochs': 500}. Best is trial 6 with value: 0.16101357340812683.\n"
     ]
    },
    {
     "name": "stdout",
     "output_type": "stream",
     "text": [
      "lr: 0.001\n",
      "batch_size: 32\n",
      "num_epochs: 50\n"
     ]
    },
    {
     "name": "stderr",
     "output_type": "stream",
     "text": [
      "[I 2024-02-26 11:20:41,570] Trial 14 finished with value: 0.1667007952928543 and parameters: {'lr': 0.001, 'batch_size': 32, 'num_epochs': 50}. Best is trial 6 with value: 0.16101357340812683.\n"
     ]
    },
    {
     "name": "stdout",
     "output_type": "stream",
     "text": [
      "lr: 0.002\n",
      "batch_size: 16\n",
      "num_epochs: 500\n"
     ]
    },
    {
     "name": "stderr",
     "output_type": "stream",
     "text": [
      "[I 2024-02-26 11:20:44,811] Trial 15 finished with value: 0.1782819777727127 and parameters: {'lr': 0.002, 'batch_size': 16, 'num_epochs': 500}. Best is trial 6 with value: 0.16101357340812683.\n"
     ]
    },
    {
     "name": "stdout",
     "output_type": "stream",
     "text": [
      "lr: 0.0001\n",
      "batch_size: 32\n",
      "num_epochs: 200\n"
     ]
    },
    {
     "name": "stderr",
     "output_type": "stream",
     "text": [
      "[I 2024-02-26 11:20:46,603] Trial 16 finished with value: 0.1742606908082962 and parameters: {'lr': 0.0001, 'batch_size': 32, 'num_epochs': 200}. Best is trial 6 with value: 0.16101357340812683.\n"
     ]
    },
    {
     "name": "stdout",
     "output_type": "stream",
     "text": [
      "lr: 0.005\n",
      "batch_size: 16\n",
      "num_epochs: 100\n"
     ]
    },
    {
     "name": "stderr",
     "output_type": "stream",
     "text": [
      "[I 2024-02-26 11:20:48,749] Trial 17 finished with value: 0.18488802015781403 and parameters: {'lr': 0.005, 'batch_size': 16, 'num_epochs': 100}. Best is trial 6 with value: 0.16101357340812683.\n"
     ]
    },
    {
     "name": "stdout",
     "output_type": "stream",
     "text": [
      "lr: 0.005\n",
      "batch_size: 16\n",
      "num_epochs: 500\n"
     ]
    },
    {
     "name": "stderr",
     "output_type": "stream",
     "text": [
      "[I 2024-02-26 11:20:50,124] Trial 18 finished with value: 0.1870318204164505 and parameters: {'lr': 0.005, 'batch_size': 16, 'num_epochs': 500}. Best is trial 6 with value: 0.16101357340812683.\n"
     ]
    },
    {
     "name": "stdout",
     "output_type": "stream",
     "text": [
      "lr: 0.0001\n",
      "batch_size: 32\n",
      "num_epochs: 50\n"
     ]
    },
    {
     "name": "stderr",
     "output_type": "stream",
     "text": [
      "[I 2024-02-26 11:20:50,762] Trial 19 finished with value: 0.19511643052101135 and parameters: {'lr': 0.0001, 'batch_size': 32, 'num_epochs': 50}. Best is trial 6 with value: 0.16101357340812683.\n"
     ]
    },
    {
     "name": "stdout",
     "output_type": "stream",
     "text": [
      "lr: 0.002\n",
      "batch_size: 32\n",
      "num_epochs: 500\n"
     ]
    },
    {
     "name": "stderr",
     "output_type": "stream",
     "text": [
      "[I 2024-02-26 11:20:51,914] Trial 20 finished with value: 0.1716073602437973 and parameters: {'lr': 0.002, 'batch_size': 32, 'num_epochs': 500}. Best is trial 6 with value: 0.16101357340812683.\n"
     ]
    },
    {
     "name": "stdout",
     "output_type": "stream",
     "text": [
      "lr: 0.005\n",
      "batch_size: 32\n",
      "num_epochs: 50\n"
     ]
    },
    {
     "name": "stderr",
     "output_type": "stream",
     "text": [
      "[I 2024-02-26 11:20:53,037] Trial 21 finished with value: 0.16290993988513947 and parameters: {'lr': 0.005, 'batch_size': 32, 'num_epochs': 50}. Best is trial 6 with value: 0.16101357340812683.\n"
     ]
    },
    {
     "name": "stdout",
     "output_type": "stream",
     "text": [
      "lr: 0.005\n",
      "batch_size: 32\n",
      "num_epochs: 50\n"
     ]
    },
    {
     "name": "stderr",
     "output_type": "stream",
     "text": [
      "[I 2024-02-26 11:20:54,196] Trial 22 finished with value: 0.17837096750736237 and parameters: {'lr': 0.005, 'batch_size': 32, 'num_epochs': 50}. Best is trial 6 with value: 0.16101357340812683.\n"
     ]
    },
    {
     "name": "stdout",
     "output_type": "stream",
     "text": [
      "lr: 0.005\n",
      "batch_size: 32\n",
      "num_epochs: 50\n"
     ]
    },
    {
     "name": "stderr",
     "output_type": "stream",
     "text": [
      "[I 2024-02-26 11:20:55,307] Trial 23 finished with value: 0.1636522263288498 and parameters: {'lr': 0.005, 'batch_size': 32, 'num_epochs': 50}. Best is trial 6 with value: 0.16101357340812683.\n"
     ]
    },
    {
     "name": "stdout",
     "output_type": "stream",
     "text": [
      "lr: 0.005\n",
      "batch_size: 32\n",
      "num_epochs: 50\n"
     ]
    },
    {
     "name": "stderr",
     "output_type": "stream",
     "text": [
      "[I 2024-02-26 11:20:56,419] Trial 24 finished with value: 0.19715450704097748 and parameters: {'lr': 0.005, 'batch_size': 32, 'num_epochs': 50}. Best is trial 6 with value: 0.16101357340812683.\n"
     ]
    },
    {
     "name": "stdout",
     "output_type": "stream",
     "text": [
      "lr: 0.001\n",
      "batch_size: 16\n",
      "num_epochs: 50\n"
     ]
    },
    {
     "name": "stderr",
     "output_type": "stream",
     "text": [
      "[I 2024-02-26 11:20:58,942] Trial 25 finished with value: 0.20451900362968445 and parameters: {'lr': 0.001, 'batch_size': 16, 'num_epochs': 50}. Best is trial 6 with value: 0.16101357340812683.\n"
     ]
    },
    {
     "name": "stdout",
     "output_type": "stream",
     "text": [
      "lr: 0.0001\n",
      "batch_size: 32\n",
      "num_epochs: 200\n"
     ]
    },
    {
     "name": "stderr",
     "output_type": "stream",
     "text": [
      "[I 2024-02-26 11:21:00,709] Trial 26 finished with value: 0.1931740790605545 and parameters: {'lr': 0.0001, 'batch_size': 32, 'num_epochs': 200}. Best is trial 6 with value: 0.16101357340812683.\n"
     ]
    },
    {
     "name": "stdout",
     "output_type": "stream",
     "text": [
      "lr: 0.005\n",
      "batch_size: 32\n",
      "num_epochs: 100\n"
     ]
    },
    {
     "name": "stderr",
     "output_type": "stream",
     "text": [
      "[I 2024-02-26 11:21:01,848] Trial 27 finished with value: 0.17241480946540833 and parameters: {'lr': 0.005, 'batch_size': 32, 'num_epochs': 100}. Best is trial 6 with value: 0.16101357340812683.\n"
     ]
    },
    {
     "name": "stdout",
     "output_type": "stream",
     "text": [
      "lr: 0.005\n",
      "batch_size: 16\n",
      "num_epochs: 50\n"
     ]
    },
    {
     "name": "stderr",
     "output_type": "stream",
     "text": [
      "[I 2024-02-26 11:21:03,320] Trial 28 finished with value: 0.21408851444721222 and parameters: {'lr': 0.005, 'batch_size': 16, 'num_epochs': 50}. Best is trial 6 with value: 0.16101357340812683.\n"
     ]
    },
    {
     "name": "stdout",
     "output_type": "stream",
     "text": [
      "lr: 0.0001\n",
      "batch_size: 8\n",
      "num_epochs: 200\n"
     ]
    },
    {
     "name": "stderr",
     "output_type": "stream",
     "text": [
      "[I 2024-02-26 11:21:05,769] Trial 29 finished with value: 0.21404676338036854 and parameters: {'lr': 0.0001, 'batch_size': 8, 'num_epochs': 200}. Best is trial 6 with value: 0.16101357340812683.\n"
     ]
    },
    {
     "name": "stdout",
     "output_type": "stream",
     "text": [
      "Study statistics:\n",
      "Number of finished trials: 30\n",
      "Number of pruned trials: 0\n",
      "Number of complete trials: 30\n",
      "Best trial:\n",
      "Value:  0.16101357340812683\n",
      "Params:\n",
      "lr: 0.0001\n",
      "batch_size: 16\n",
      "num_epochs: 50\n",
      "Model 1 complete.\n",
      "Training Model 2\n",
      "Start preprocessing the sequence done 2d\n",
      "(144,) 144 74\n"
     ]
    },
    {
     "name": "stderr",
     "output_type": "stream",
     "text": [
      "100%|██████████| 144/144 [00:00<00:00, 2286.07it/s]\n"
     ]
    },
    {
     "name": "stdout",
     "output_type": "stream",
     "text": [
      "Preprocessed the sequence\n",
      "Start preprocessing the sequence done 2d\n",
      "(144,) 144 74\n"
     ]
    },
    {
     "name": "stderr",
     "output_type": "stream",
     "text": [
      "100%|██████████| 144/144 [00:00<00:00, 1621.53it/s]\n"
     ]
    },
    {
     "name": "stdout",
     "output_type": "stream",
     "text": [
      "Preprocessed the sequence\n",
      "Start preprocessing the sequence done 2d\n",
      "(15,) 15 74\n"
     ]
    },
    {
     "name": "stderr",
     "output_type": "stream",
     "text": [
      "100%|██████████| 15/15 [00:00<00:00, 2252.50it/s]\n"
     ]
    },
    {
     "name": "stdout",
     "output_type": "stream",
     "text": [
      "Preprocessed the sequence\n",
      "Start preprocessing the sequence done 2d\n",
      "(15,) 15 74\n"
     ]
    },
    {
     "name": "stderr",
     "output_type": "stream",
     "text": [
      "100%|██████████| 15/15 [00:00<00:00, 1608.86it/s]\n"
     ]
    },
    {
     "name": "stdout",
     "output_type": "stream",
     "text": [
      "Preprocessed the sequence\n",
      "Start preprocessing the sequence done 2d\n",
      "(40,) 40 74\n"
     ]
    },
    {
     "name": "stderr",
     "output_type": "stream",
     "text": [
      "100%|██████████| 40/40 [00:00<00:00, 2195.28it/s]\n"
     ]
    },
    {
     "name": "stdout",
     "output_type": "stream",
     "text": [
      "Preprocessed the sequence\n",
      "Start preprocessing the sequence done 2d\n",
      "(40,) 40 74\n"
     ]
    },
    {
     "name": "stderr",
     "output_type": "stream",
     "text": [
      "100%|██████████| 40/40 [00:00<00:00, 1647.47it/s]\n"
     ]
    },
    {
     "name": "stdout",
     "output_type": "stream",
     "text": [
      "Preprocessed the sequence\n",
      "cuda:0\n"
     ]
    },
    {
     "name": "stderr",
     "output_type": "stream",
     "text": [
      "[I 2024-02-26 11:21:06,151] A new study created in memory with name: no-name-5b242ef9-4ac3-4937-b191-51c4a0874810\n"
     ]
    },
    {
     "name": "stdout",
     "output_type": "stream",
     "text": [
      "lr: 0.001\n",
      "batch_size: 8\n",
      "num_epochs: 50\n"
     ]
    },
    {
     "name": "stderr",
     "output_type": "stream",
     "text": [
      "[I 2024-02-26 11:21:11,875] Trial 0 finished with value: 0.13940040866533915 and parameters: {'lr': 0.001, 'batch_size': 8, 'num_epochs': 50}. Best is trial 0 with value: 0.13940040866533915.\n"
     ]
    },
    {
     "name": "stdout",
     "output_type": "stream",
     "text": [
      "lr: 0.001\n",
      "batch_size: 32\n",
      "num_epochs: 100\n"
     ]
    },
    {
     "name": "stderr",
     "output_type": "stream",
     "text": [
      "[I 2024-02-26 11:21:12,917] Trial 1 finished with value: 0.15874174237251282 and parameters: {'lr': 0.001, 'batch_size': 32, 'num_epochs': 100}. Best is trial 0 with value: 0.13940040866533915.\n"
     ]
    },
    {
     "name": "stdout",
     "output_type": "stream",
     "text": [
      "lr: 0.002\n",
      "batch_size: 8\n",
      "num_epochs: 100\n"
     ]
    },
    {
     "name": "stderr",
     "output_type": "stream",
     "text": [
      "[I 2024-02-26 11:21:18,787] Trial 2 finished with value: 0.20570078492164612 and parameters: {'lr': 0.002, 'batch_size': 8, 'num_epochs': 100}. Best is trial 0 with value: 0.13940040866533915.\n"
     ]
    },
    {
     "name": "stdout",
     "output_type": "stream",
     "text": [
      "lr: 0.0001\n",
      "batch_size: 16\n",
      "num_epochs: 500\n"
     ]
    },
    {
     "name": "stderr",
     "output_type": "stream",
     "text": [
      "[I 2024-02-26 11:21:20,874] Trial 3 finished with value: 0.13936717808246613 and parameters: {'lr': 0.0001, 'batch_size': 16, 'num_epochs': 500}. Best is trial 3 with value: 0.13936717808246613.\n"
     ]
    },
    {
     "name": "stdout",
     "output_type": "stream",
     "text": [
      "lr: 0.005\n",
      "batch_size: 32\n",
      "num_epochs: 500\n"
     ]
    },
    {
     "name": "stderr",
     "output_type": "stream",
     "text": [
      "[I 2024-02-26 11:21:22,138] Trial 4 finished with value: 0.16730935871601105 and parameters: {'lr': 0.005, 'batch_size': 32, 'num_epochs': 500}. Best is trial 3 with value: 0.13936717808246613.\n"
     ]
    },
    {
     "name": "stdout",
     "output_type": "stream",
     "text": [
      "lr: 0.01\n",
      "batch_size: 8\n",
      "num_epochs: 200\n"
     ]
    },
    {
     "name": "stderr",
     "output_type": "stream",
     "text": [
      "[I 2024-02-26 11:21:24,888] Trial 5 pruned. \n"
     ]
    },
    {
     "name": "stdout",
     "output_type": "stream",
     "text": [
      "lr: 0.001\n",
      "batch_size: 8\n",
      "num_epochs: 500\n"
     ]
    },
    {
     "name": "stderr",
     "output_type": "stream",
     "text": [
      "[I 2024-02-26 11:21:30,662] Trial 6 finished with value: 0.13539969424406686 and parameters: {'lr': 0.001, 'batch_size': 8, 'num_epochs': 500}. Best is trial 6 with value: 0.13539969424406686.\n"
     ]
    },
    {
     "name": "stdout",
     "output_type": "stream",
     "text": [
      "lr: 0.002\n",
      "batch_size: 8\n",
      "num_epochs: 100\n"
     ]
    },
    {
     "name": "stderr",
     "output_type": "stream",
     "text": [
      "[I 2024-02-26 11:21:36,501] Trial 7 finished with value: 0.1554642915725708 and parameters: {'lr': 0.002, 'batch_size': 8, 'num_epochs': 100}. Best is trial 6 with value: 0.13539969424406686.\n"
     ]
    },
    {
     "name": "stdout",
     "output_type": "stream",
     "text": [
      "lr: 0.001\n",
      "batch_size: 32\n",
      "num_epochs: 200\n"
     ]
    },
    {
     "name": "stderr",
     "output_type": "stream",
     "text": [
      "[I 2024-02-26 11:21:37,099] Trial 8 finished with value: 0.1631571650505066 and parameters: {'lr': 0.001, 'batch_size': 32, 'num_epochs': 200}. Best is trial 6 with value: 0.13539969424406686.\n"
     ]
    },
    {
     "name": "stdout",
     "output_type": "stream",
     "text": [
      "lr: 0.001\n",
      "batch_size: 8\n",
      "num_epochs: 50\n"
     ]
    },
    {
     "name": "stderr",
     "output_type": "stream",
     "text": [
      "[I 2024-02-26 11:21:42,756] Trial 9 finished with value: 0.1838231787085533 and parameters: {'lr': 0.001, 'batch_size': 8, 'num_epochs': 50}. Best is trial 6 with value: 0.13539969424406686.\n"
     ]
    },
    {
     "name": "stdout",
     "output_type": "stream",
     "text": [
      "lr: 0.0001\n",
      "batch_size: 16\n",
      "num_epochs: 500\n"
     ]
    },
    {
     "name": "stderr",
     "output_type": "stream",
     "text": [
      "[I 2024-02-26 11:21:45,528] Trial 10 finished with value: 0.15955394506454468 and parameters: {'lr': 0.0001, 'batch_size': 16, 'num_epochs': 500}. Best is trial 6 with value: 0.13539969424406686.\n"
     ]
    },
    {
     "name": "stdout",
     "output_type": "stream",
     "text": [
      "lr: 0.0001\n",
      "batch_size: 16\n",
      "num_epochs: 500\n"
     ]
    },
    {
     "name": "stderr",
     "output_type": "stream",
     "text": [
      "[I 2024-02-26 11:21:48,547] Trial 11 finished with value: 0.164797842502594 and parameters: {'lr': 0.0001, 'batch_size': 16, 'num_epochs': 500}. Best is trial 6 with value: 0.13539969424406686.\n"
     ]
    },
    {
     "name": "stdout",
     "output_type": "stream",
     "text": [
      "lr: 0.0001\n",
      "batch_size: 16\n",
      "num_epochs: 500\n"
     ]
    },
    {
     "name": "stderr",
     "output_type": "stream",
     "text": [
      "[I 2024-02-26 11:21:51,276] Trial 12 finished with value: 0.1590779423713684 and parameters: {'lr': 0.0001, 'batch_size': 16, 'num_epochs': 500}. Best is trial 6 with value: 0.13539969424406686.\n"
     ]
    },
    {
     "name": "stdout",
     "output_type": "stream",
     "text": [
      "lr: 0.01\n",
      "batch_size: 16\n",
      "num_epochs: 500\n"
     ]
    },
    {
     "name": "stderr",
     "output_type": "stream",
     "text": [
      "[I 2024-02-26 11:21:53,553] Trial 13 finished with value: 0.21344751119613647 and parameters: {'lr': 0.01, 'batch_size': 16, 'num_epochs': 500}. Best is trial 6 with value: 0.13539969424406686.\n"
     ]
    },
    {
     "name": "stdout",
     "output_type": "stream",
     "text": [
      "lr: 0.005\n",
      "batch_size: 16\n",
      "num_epochs: 500\n"
     ]
    },
    {
     "name": "stderr",
     "output_type": "stream",
     "text": [
      "[I 2024-02-26 11:21:56,173] Trial 14 finished with value: 0.10888247191905975 and parameters: {'lr': 0.005, 'batch_size': 16, 'num_epochs': 500}. Best is trial 14 with value: 0.10888247191905975.\n"
     ]
    },
    {
     "name": "stdout",
     "output_type": "stream",
     "text": [
      "lr: 0.005\n",
      "batch_size: 8\n",
      "num_epochs: 500\n"
     ]
    },
    {
     "name": "stderr",
     "output_type": "stream",
     "text": [
      "[I 2024-02-26 11:22:01,090] Trial 15 finished with value: 0.21867230534553528 and parameters: {'lr': 0.005, 'batch_size': 8, 'num_epochs': 500}. Best is trial 14 with value: 0.10888247191905975.\n"
     ]
    },
    {
     "name": "stdout",
     "output_type": "stream",
     "text": [
      "lr: 0.005\n",
      "batch_size: 16\n",
      "num_epochs: 500\n"
     ]
    },
    {
     "name": "stderr",
     "output_type": "stream",
     "text": [
      "[I 2024-02-26 11:22:02,319] Trial 16 finished with value: 0.15168295800685883 and parameters: {'lr': 0.005, 'batch_size': 16, 'num_epochs': 500}. Best is trial 14 with value: 0.10888247191905975.\n"
     ]
    },
    {
     "name": "stdout",
     "output_type": "stream",
     "text": [
      "lr: 0.005\n",
      "batch_size: 8\n",
      "num_epochs: 200\n"
     ]
    },
    {
     "name": "stderr",
     "output_type": "stream",
     "text": [
      "[I 2024-02-26 11:22:08,257] Trial 17 finished with value: 0.14511077205340067 and parameters: {'lr': 0.005, 'batch_size': 8, 'num_epochs': 200}. Best is trial 14 with value: 0.10888247191905975.\n"
     ]
    },
    {
     "name": "stdout",
     "output_type": "stream",
     "text": [
      "lr: 0.001\n",
      "batch_size: 16\n",
      "num_epochs: 50\n"
     ]
    },
    {
     "name": "stderr",
     "output_type": "stream",
     "text": [
      "[I 2024-02-26 11:22:11,196] Trial 18 finished with value: 0.14466823637485504 and parameters: {'lr': 0.001, 'batch_size': 16, 'num_epochs': 50}. Best is trial 14 with value: 0.10888247191905975.\n"
     ]
    },
    {
     "name": "stdout",
     "output_type": "stream",
     "text": [
      "lr: 0.005\n",
      "batch_size: 32\n",
      "num_epochs: 500\n"
     ]
    },
    {
     "name": "stderr",
     "output_type": "stream",
     "text": [
      "[I 2024-02-26 11:22:13,071] Trial 19 finished with value: 0.11488346755504608 and parameters: {'lr': 0.005, 'batch_size': 32, 'num_epochs': 500}. Best is trial 14 with value: 0.10888247191905975.\n"
     ]
    },
    {
     "name": "stdout",
     "output_type": "stream",
     "text": [
      "lr: 0.005\n",
      "batch_size: 32\n",
      "num_epochs: 500\n"
     ]
    },
    {
     "name": "stderr",
     "output_type": "stream",
     "text": [
      "[I 2024-02-26 11:22:14,865] Trial 20 pruned. \n"
     ]
    },
    {
     "name": "stdout",
     "output_type": "stream",
     "text": [
      "lr: 0.005\n",
      "batch_size: 32\n",
      "num_epochs: 500\n"
     ]
    },
    {
     "name": "stderr",
     "output_type": "stream",
     "text": [
      "[I 2024-02-26 11:22:15,496] Trial 21 finished with value: 0.1409999132156372 and parameters: {'lr': 0.005, 'batch_size': 32, 'num_epochs': 500}. Best is trial 14 with value: 0.10888247191905975.\n"
     ]
    },
    {
     "name": "stdout",
     "output_type": "stream",
     "text": [
      "lr: 0.005\n",
      "batch_size: 32\n",
      "num_epochs: 500\n"
     ]
    },
    {
     "name": "stderr",
     "output_type": "stream",
     "text": [
      "[I 2024-02-26 11:22:16,834] Trial 22 finished with value: 0.1153726875782013 and parameters: {'lr': 0.005, 'batch_size': 32, 'num_epochs': 500}. Best is trial 14 with value: 0.10888247191905975.\n"
     ]
    },
    {
     "name": "stdout",
     "output_type": "stream",
     "text": [
      "lr: 0.005\n",
      "batch_size: 32\n",
      "num_epochs: 500\n"
     ]
    },
    {
     "name": "stderr",
     "output_type": "stream",
     "text": [
      "[I 2024-02-26 11:22:18,032] Trial 23 finished with value: 0.10842980444431305 and parameters: {'lr': 0.005, 'batch_size': 32, 'num_epochs': 500}. Best is trial 23 with value: 0.10842980444431305.\n"
     ]
    },
    {
     "name": "stdout",
     "output_type": "stream",
     "text": [
      "lr: 0.005\n",
      "batch_size: 32\n",
      "num_epochs: 500\n"
     ]
    },
    {
     "name": "stderr",
     "output_type": "stream",
     "text": [
      "[I 2024-02-26 11:22:18,659] Trial 24 finished with value: 0.14424817264080048 and parameters: {'lr': 0.005, 'batch_size': 32, 'num_epochs': 500}. Best is trial 23 with value: 0.10842980444431305.\n"
     ]
    },
    {
     "name": "stdout",
     "output_type": "stream",
     "text": [
      "lr: 0.005\n",
      "batch_size: 32\n",
      "num_epochs: 500\n"
     ]
    },
    {
     "name": "stderr",
     "output_type": "stream",
     "text": [
      "[I 2024-02-26 11:22:19,302] Trial 25 finished with value: 0.1344011425971985 and parameters: {'lr': 0.005, 'batch_size': 32, 'num_epochs': 500}. Best is trial 23 with value: 0.10842980444431305.\n"
     ]
    },
    {
     "name": "stdout",
     "output_type": "stream",
     "text": [
      "lr: 0.005\n",
      "batch_size: 32\n",
      "num_epochs: 200\n"
     ]
    },
    {
     "name": "stderr",
     "output_type": "stream",
     "text": [
      "[I 2024-02-26 11:22:19,942] Trial 26 finished with value: 0.12212434411048889 and parameters: {'lr': 0.005, 'batch_size': 32, 'num_epochs': 200}. Best is trial 23 with value: 0.10842980444431305.\n"
     ]
    },
    {
     "name": "stdout",
     "output_type": "stream",
     "text": [
      "lr: 0.005\n",
      "batch_size: 32\n",
      "num_epochs: 50\n"
     ]
    },
    {
     "name": "stderr",
     "output_type": "stream",
     "text": [
      "[I 2024-02-26 11:22:21,279] Trial 27 finished with value: 0.10143156349658966 and parameters: {'lr': 0.005, 'batch_size': 32, 'num_epochs': 50}. Best is trial 27 with value: 0.10143156349658966.\n"
     ]
    },
    {
     "name": "stdout",
     "output_type": "stream",
     "text": [
      "lr: 0.01\n",
      "batch_size: 32\n",
      "num_epochs: 50\n"
     ]
    },
    {
     "name": "stderr",
     "output_type": "stream",
     "text": [
      "[I 2024-02-26 11:22:22,079] Trial 28 finished with value: 0.1861487776041031 and parameters: {'lr': 0.01, 'batch_size': 32, 'num_epochs': 50}. Best is trial 27 with value: 0.10143156349658966.\n"
     ]
    },
    {
     "name": "stdout",
     "output_type": "stream",
     "text": [
      "lr: 0.002\n",
      "batch_size: 16\n",
      "num_epochs: 50\n"
     ]
    },
    {
     "name": "stderr",
     "output_type": "stream",
     "text": [
      "[I 2024-02-26 11:22:25,052] Trial 29 finished with value: 0.15026144683361053 and parameters: {'lr': 0.002, 'batch_size': 16, 'num_epochs': 50}. Best is trial 27 with value: 0.10143156349658966.\n"
     ]
    },
    {
     "name": "stdout",
     "output_type": "stream",
     "text": [
      "Study statistics:\n",
      "Number of finished trials: 30\n",
      "Number of pruned trials: 2\n",
      "Number of complete trials: 28\n",
      "Best trial:\n",
      "Value:  0.10143156349658966\n",
      "Params:\n",
      "lr: 0.005\n",
      "batch_size: 32\n",
      "num_epochs: 50\n",
      "Model 2 complete.\n",
      "Training Model 3\n",
      "Start preprocessing the sequence done 2d\n",
      "(144,) 144 74\n"
     ]
    },
    {
     "name": "stderr",
     "output_type": "stream",
     "text": [
      "100%|██████████| 144/144 [00:00<00:00, 2299.48it/s]\n"
     ]
    },
    {
     "name": "stdout",
     "output_type": "stream",
     "text": [
      "Preprocessed the sequence\n",
      "Start preprocessing the sequence done 2d\n",
      "(144,) 144 74\n"
     ]
    },
    {
     "name": "stderr",
     "output_type": "stream",
     "text": [
      "100%|██████████| 144/144 [00:00<00:00, 1648.48it/s]\n"
     ]
    },
    {
     "name": "stdout",
     "output_type": "stream",
     "text": [
      "Preprocessed the sequence\n",
      "Start preprocessing the sequence done 2d\n",
      "(15,) 15 74\n"
     ]
    },
    {
     "name": "stderr",
     "output_type": "stream",
     "text": [
      "100%|██████████| 15/15 [00:00<00:00, 2281.00it/s]\n"
     ]
    },
    {
     "name": "stdout",
     "output_type": "stream",
     "text": [
      "Preprocessed the sequence\n",
      "Start preprocessing the sequence done 2d\n",
      "(15,) 15 74\n"
     ]
    },
    {
     "name": "stderr",
     "output_type": "stream",
     "text": [
      "100%|██████████| 15/15 [00:00<00:00, 1672.86it/s]\n"
     ]
    },
    {
     "name": "stdout",
     "output_type": "stream",
     "text": [
      "Preprocessed the sequence\n",
      "Start preprocessing the sequence done 2d\n",
      "(40,) 40 74\n"
     ]
    },
    {
     "name": "stderr",
     "output_type": "stream",
     "text": [
      "100%|██████████| 40/40 [00:00<00:00, 2264.50it/s]\n"
     ]
    },
    {
     "name": "stdout",
     "output_type": "stream",
     "text": [
      "Preprocessed the sequence\n",
      "Start preprocessing the sequence done 2d\n",
      "(40,) 40 74\n"
     ]
    },
    {
     "name": "stderr",
     "output_type": "stream",
     "text": [
      "100%|██████████| 40/40 [00:00<00:00, 1685.85it/s]\n"
     ]
    },
    {
     "name": "stdout",
     "output_type": "stream",
     "text": [
      "Preprocessed the sequence\n",
      "cuda:0\n"
     ]
    },
    {
     "name": "stderr",
     "output_type": "stream",
     "text": [
      "[I 2024-02-26 11:22:25,432] A new study created in memory with name: no-name-d8d26d20-5567-4974-8831-4177c46a1f40\n"
     ]
    },
    {
     "name": "stdout",
     "output_type": "stream",
     "text": [
      "lr: 0.0001\n",
      "batch_size: 32\n",
      "num_epochs: 100\n"
     ]
    },
    {
     "name": "stderr",
     "output_type": "stream",
     "text": [
      "[I 2024-02-26 11:22:26,035] Trial 0 finished with value: 6.057900905609131 and parameters: {'lr': 0.0001, 'batch_size': 32, 'num_epochs': 100}. Best is trial 0 with value: 6.057900905609131.\n"
     ]
    },
    {
     "name": "stdout",
     "output_type": "stream",
     "text": [
      "lr: 0.005\n",
      "batch_size: 32\n",
      "num_epochs: 100\n"
     ]
    },
    {
     "name": "stderr",
     "output_type": "stream",
     "text": [
      "[I 2024-02-26 11:22:28,088] Trial 1 finished with value: 0.21159598231315613 and parameters: {'lr': 0.005, 'batch_size': 32, 'num_epochs': 100}. Best is trial 1 with value: 0.21159598231315613.\n"
     ]
    },
    {
     "name": "stdout",
     "output_type": "stream",
     "text": [
      "lr: 0.01\n",
      "batch_size: 32\n",
      "num_epochs: 500\n"
     ]
    },
    {
     "name": "stderr",
     "output_type": "stream",
     "text": [
      "[I 2024-02-26 11:22:29,827] Trial 2 finished with value: 0.18046361207962036 and parameters: {'lr': 0.01, 'batch_size': 32, 'num_epochs': 500}. Best is trial 2 with value: 0.18046361207962036.\n"
     ]
    },
    {
     "name": "stdout",
     "output_type": "stream",
     "text": [
      "lr: 0.0001\n",
      "batch_size: 32\n",
      "num_epochs: 200\n"
     ]
    },
    {
     "name": "stderr",
     "output_type": "stream",
     "text": [
      "[I 2024-02-26 11:22:30,458] Trial 3 finished with value: 0.19080200791358948 and parameters: {'lr': 0.0001, 'batch_size': 32, 'num_epochs': 200}. Best is trial 2 with value: 0.18046361207962036.\n"
     ]
    },
    {
     "name": "stdout",
     "output_type": "stream",
     "text": [
      "lr: 0.0001\n",
      "batch_size: 16\n",
      "num_epochs: 100\n"
     ]
    },
    {
     "name": "stderr",
     "output_type": "stream",
     "text": [
      "[I 2024-02-26 11:22:31,809] Trial 4 finished with value: 0.19756731390953064 and parameters: {'lr': 0.0001, 'batch_size': 16, 'num_epochs': 100}. Best is trial 2 with value: 0.18046361207962036.\n"
     ]
    },
    {
     "name": "stdout",
     "output_type": "stream",
     "text": [
      "lr: 0.001\n",
      "batch_size: 8\n",
      "num_epochs: 200\n"
     ]
    },
    {
     "name": "stderr",
     "output_type": "stream",
     "text": [
      "[I 2024-02-26 11:22:34,475] Trial 5 finished with value: 0.20632033745447795 and parameters: {'lr': 0.001, 'batch_size': 8, 'num_epochs': 200}. Best is trial 2 with value: 0.18046361207962036.\n"
     ]
    },
    {
     "name": "stdout",
     "output_type": "stream",
     "text": [
      "lr: 0.001\n",
      "batch_size: 16\n",
      "num_epochs: 100\n"
     ]
    },
    {
     "name": "stderr",
     "output_type": "stream",
     "text": [
      "[I 2024-02-26 11:22:35,716] Trial 6 finished with value: 0.21652880311012268 and parameters: {'lr': 0.001, 'batch_size': 16, 'num_epochs': 100}. Best is trial 2 with value: 0.18046361207962036.\n"
     ]
    },
    {
     "name": "stdout",
     "output_type": "stream",
     "text": [
      "lr: 0.005\n",
      "batch_size: 16\n",
      "num_epochs: 200\n"
     ]
    },
    {
     "name": "stderr",
     "output_type": "stream",
     "text": [
      "[I 2024-02-26 11:22:39,565] Trial 7 finished with value: 0.1838708072900772 and parameters: {'lr': 0.005, 'batch_size': 16, 'num_epochs': 200}. Best is trial 2 with value: 0.18046361207962036.\n"
     ]
    },
    {
     "name": "stdout",
     "output_type": "stream",
     "text": [
      "lr: 0.002\n",
      "batch_size: 8\n",
      "num_epochs: 500\n"
     ]
    },
    {
     "name": "stderr",
     "output_type": "stream",
     "text": [
      "[I 2024-02-26 11:22:43,398] Trial 8 finished with value: 0.28874967694282533 and parameters: {'lr': 0.002, 'batch_size': 8, 'num_epochs': 500}. Best is trial 2 with value: 0.18046361207962036.\n"
     ]
    },
    {
     "name": "stdout",
     "output_type": "stream",
     "text": [
      "lr: 0.002\n",
      "batch_size: 32\n",
      "num_epochs: 500\n"
     ]
    },
    {
     "name": "stderr",
     "output_type": "stream",
     "text": [
      "[I 2024-02-26 11:22:44,067] Trial 9 finished with value: 0.19972838461399078 and parameters: {'lr': 0.002, 'batch_size': 32, 'num_epochs': 500}. Best is trial 2 with value: 0.18046361207962036.\n"
     ]
    },
    {
     "name": "stdout",
     "output_type": "stream",
     "text": [
      "lr: 0.01\n",
      "batch_size: 32\n",
      "num_epochs: 50\n"
     ]
    },
    {
     "name": "stderr",
     "output_type": "stream",
     "text": [
      "[I 2024-02-26 11:22:45,403] Trial 10 finished with value: 0.404865562915802 and parameters: {'lr': 0.01, 'batch_size': 32, 'num_epochs': 50}. Best is trial 2 with value: 0.18046361207962036.\n"
     ]
    },
    {
     "name": "stdout",
     "output_type": "stream",
     "text": [
      "lr: 0.005\n",
      "batch_size: 16\n",
      "num_epochs: 500\n"
     ]
    },
    {
     "name": "stderr",
     "output_type": "stream",
     "text": [
      "[I 2024-02-26 11:22:46,658] Trial 11 finished with value: 0.1803358793258667 and parameters: {'lr': 0.005, 'batch_size': 16, 'num_epochs': 500}. Best is trial 11 with value: 0.1803358793258667.\n"
     ]
    },
    {
     "name": "stdout",
     "output_type": "stream",
     "text": [
      "lr: 0.01\n",
      "batch_size: 16\n",
      "num_epochs: 500\n"
     ]
    },
    {
     "name": "stderr",
     "output_type": "stream",
     "text": [
      "[I 2024-02-26 11:22:47,967] Trial 12 finished with value: 0.9543822407722473 and parameters: {'lr': 0.01, 'batch_size': 16, 'num_epochs': 500}. Best is trial 11 with value: 0.1803358793258667.\n"
     ]
    },
    {
     "name": "stdout",
     "output_type": "stream",
     "text": [
      "lr: 0.01\n",
      "batch_size: 16\n",
      "num_epochs: 500\n"
     ]
    },
    {
     "name": "stderr",
     "output_type": "stream",
     "text": [
      "[I 2024-02-26 11:22:49,453] Trial 13 finished with value: 0.1503482460975647 and parameters: {'lr': 0.01, 'batch_size': 16, 'num_epochs': 500}. Best is trial 13 with value: 0.1503482460975647.\n"
     ]
    },
    {
     "name": "stdout",
     "output_type": "stream",
     "text": [
      "lr: 0.005\n",
      "batch_size: 16\n",
      "num_epochs: 500\n"
     ]
    },
    {
     "name": "stderr",
     "output_type": "stream",
     "text": [
      "[I 2024-02-26 11:22:50,939] Trial 14 finished with value: 0.202781543135643 and parameters: {'lr': 0.005, 'batch_size': 16, 'num_epochs': 500}. Best is trial 13 with value: 0.1503482460975647.\n"
     ]
    },
    {
     "name": "stdout",
     "output_type": "stream",
     "text": [
      "lr: 0.01\n",
      "batch_size: 16\n",
      "num_epochs: 50\n"
     ]
    },
    {
     "name": "stderr",
     "output_type": "stream",
     "text": [
      "[I 2024-02-26 11:22:53,360] Trial 15 finished with value: 0.190092071890831 and parameters: {'lr': 0.01, 'batch_size': 16, 'num_epochs': 50}. Best is trial 13 with value: 0.1503482460975647.\n"
     ]
    },
    {
     "name": "stdout",
     "output_type": "stream",
     "text": [
      "lr: 0.005\n",
      "batch_size: 16\n",
      "num_epochs: 500\n"
     ]
    },
    {
     "name": "stderr",
     "output_type": "stream",
     "text": [
      "[I 2024-02-26 11:22:54,664] Trial 16 finished with value: 0.18381641805171967 and parameters: {'lr': 0.005, 'batch_size': 16, 'num_epochs': 500}. Best is trial 13 with value: 0.1503482460975647.\n"
     ]
    },
    {
     "name": "stdout",
     "output_type": "stream",
     "text": [
      "lr: 0.01\n",
      "batch_size: 8\n",
      "num_epochs: 500\n"
     ]
    },
    {
     "name": "stderr",
     "output_type": "stream",
     "text": [
      "[I 2024-02-26 11:22:59,140] Trial 17 finished with value: 0.2112882951895396 and parameters: {'lr': 0.01, 'batch_size': 8, 'num_epochs': 500}. Best is trial 13 with value: 0.1503482460975647.\n"
     ]
    },
    {
     "name": "stdout",
     "output_type": "stream",
     "text": [
      "lr: 0.005\n",
      "batch_size: 16\n",
      "num_epochs: 500\n"
     ]
    },
    {
     "name": "stderr",
     "output_type": "stream",
     "text": [
      "[I 2024-02-26 11:23:01,033] Trial 18 finished with value: 0.2183181196451187 and parameters: {'lr': 0.005, 'batch_size': 16, 'num_epochs': 500}. Best is trial 13 with value: 0.1503482460975647.\n"
     ]
    },
    {
     "name": "stdout",
     "output_type": "stream",
     "text": [
      "lr: 0.001\n",
      "batch_size: 16\n",
      "num_epochs: 50\n"
     ]
    },
    {
     "name": "stderr",
     "output_type": "stream",
     "text": [
      "[I 2024-02-26 11:23:03,613] Trial 19 finished with value: 0.19520150125026703 and parameters: {'lr': 0.001, 'batch_size': 16, 'num_epochs': 50}. Best is trial 13 with value: 0.1503482460975647.\n"
     ]
    },
    {
     "name": "stdout",
     "output_type": "stream",
     "text": [
      "lr: 0.002\n",
      "batch_size: 16\n",
      "num_epochs: 500\n"
     ]
    },
    {
     "name": "stderr",
     "output_type": "stream",
     "text": [
      "[I 2024-02-26 11:23:04,877] Trial 20 finished with value: 0.2510673403739929 and parameters: {'lr': 0.002, 'batch_size': 16, 'num_epochs': 500}. Best is trial 13 with value: 0.1503482460975647.\n"
     ]
    },
    {
     "name": "stdout",
     "output_type": "stream",
     "text": [
      "lr: 0.01\n",
      "batch_size: 32\n",
      "num_epochs: 500\n"
     ]
    },
    {
     "name": "stderr",
     "output_type": "stream",
     "text": [
      "[I 2024-02-26 11:23:05,835] Trial 21 finished with value: 0.20287233591079712 and parameters: {'lr': 0.01, 'batch_size': 32, 'num_epochs': 500}. Best is trial 13 with value: 0.1503482460975647.\n"
     ]
    },
    {
     "name": "stdout",
     "output_type": "stream",
     "text": [
      "lr: 0.01\n",
      "batch_size: 32\n",
      "num_epochs: 500\n"
     ]
    },
    {
     "name": "stderr",
     "output_type": "stream",
     "text": [
      "[I 2024-02-26 11:23:06,472] Trial 22 finished with value: 0.21713635325431824 and parameters: {'lr': 0.01, 'batch_size': 32, 'num_epochs': 500}. Best is trial 13 with value: 0.1503482460975647.\n"
     ]
    },
    {
     "name": "stdout",
     "output_type": "stream",
     "text": [
      "lr: 0.01\n",
      "batch_size: 8\n",
      "num_epochs: 500\n"
     ]
    },
    {
     "name": "stderr",
     "output_type": "stream",
     "text": [
      "[I 2024-02-26 11:23:11,900] Trial 23 finished with value: 0.23629860083262125 and parameters: {'lr': 0.01, 'batch_size': 8, 'num_epochs': 500}. Best is trial 13 with value: 0.1503482460975647.\n"
     ]
    },
    {
     "name": "stdout",
     "output_type": "stream",
     "text": [
      "lr: 0.01\n",
      "batch_size: 16\n",
      "num_epochs: 500\n"
     ]
    },
    {
     "name": "stderr",
     "output_type": "stream",
     "text": [
      "[I 2024-02-26 11:23:13,299] Trial 24 finished with value: 0.40155452489852905 and parameters: {'lr': 0.01, 'batch_size': 16, 'num_epochs': 500}. Best is trial 13 with value: 0.1503482460975647.\n"
     ]
    },
    {
     "name": "stdout",
     "output_type": "stream",
     "text": [
      "lr: 0.005\n",
      "batch_size: 32\n",
      "num_epochs: 500\n"
     ]
    },
    {
     "name": "stderr",
     "output_type": "stream",
     "text": [
      "[I 2024-02-26 11:23:14,429] Trial 25 finished with value: 0.19754914939403534 and parameters: {'lr': 0.005, 'batch_size': 32, 'num_epochs': 500}. Best is trial 13 with value: 0.1503482460975647.\n"
     ]
    },
    {
     "name": "stdout",
     "output_type": "stream",
     "text": [
      "lr: 0.01\n",
      "batch_size: 16\n",
      "num_epochs: 500\n"
     ]
    },
    {
     "name": "stderr",
     "output_type": "stream",
     "text": [
      "[I 2024-02-26 11:23:16,326] Trial 26 finished with value: 0.4071688950061798 and parameters: {'lr': 0.01, 'batch_size': 16, 'num_epochs': 500}. Best is trial 13 with value: 0.1503482460975647.\n"
     ]
    },
    {
     "name": "stdout",
     "output_type": "stream",
     "text": [
      "lr: 0.01\n",
      "batch_size: 16\n",
      "num_epochs: 50\n"
     ]
    },
    {
     "name": "stderr",
     "output_type": "stream",
     "text": [
      "[I 2024-02-26 11:23:18,942] Trial 27 finished with value: 0.23173226416110992 and parameters: {'lr': 0.01, 'batch_size': 16, 'num_epochs': 50}. Best is trial 13 with value: 0.1503482460975647.\n"
     ]
    },
    {
     "name": "stdout",
     "output_type": "stream",
     "text": [
      "lr: 0.005\n",
      "batch_size: 32\n",
      "num_epochs: 200\n"
     ]
    },
    {
     "name": "stderr",
     "output_type": "stream",
     "text": [
      "[I 2024-02-26 11:23:19,593] Trial 28 finished with value: 0.2192879170179367 and parameters: {'lr': 0.005, 'batch_size': 32, 'num_epochs': 200}. Best is trial 13 with value: 0.1503482460975647.\n"
     ]
    },
    {
     "name": "stdout",
     "output_type": "stream",
     "text": [
      "lr: 0.0001\n",
      "batch_size: 8\n",
      "num_epochs: 100\n"
     ]
    },
    {
     "name": "stderr",
     "output_type": "stream",
     "text": [
      "[I 2024-02-26 11:23:22,198] Trial 29 finished with value: 0.25465669929981233 and parameters: {'lr': 0.0001, 'batch_size': 8, 'num_epochs': 100}. Best is trial 13 with value: 0.1503482460975647.\n"
     ]
    },
    {
     "name": "stdout",
     "output_type": "stream",
     "text": [
      "Study statistics:\n",
      "Number of finished trials: 30\n",
      "Number of pruned trials: 0\n",
      "Number of complete trials: 30\n",
      "Best trial:\n",
      "Value:  0.1503482460975647\n",
      "Params:\n",
      "lr: 0.01\n",
      "batch_size: 16\n",
      "num_epochs: 500\n",
      "Model 3 complete.\n",
      "Training Model 4\n",
      "Start preprocessing the sequence done 2d\n",
      "(144,) 144 74\n"
     ]
    },
    {
     "name": "stderr",
     "output_type": "stream",
     "text": [
      "100%|██████████| 144/144 [00:00<00:00, 2334.95it/s]\n"
     ]
    },
    {
     "name": "stdout",
     "output_type": "stream",
     "text": [
      "Preprocessed the sequence\n",
      "Start preprocessing the sequence done 2d\n",
      "(144,) 144 74\n"
     ]
    },
    {
     "name": "stderr",
     "output_type": "stream",
     "text": [
      "100%|██████████| 144/144 [00:00<00:00, 1711.28it/s]\n"
     ]
    },
    {
     "name": "stdout",
     "output_type": "stream",
     "text": [
      "Preprocessed the sequence\n",
      "Start preprocessing the sequence done 2d\n",
      "(16,) 16 74\n"
     ]
    },
    {
     "name": "stderr",
     "output_type": "stream",
     "text": [
      "100%|██████████| 16/16 [00:00<00:00, 2271.03it/s]\n"
     ]
    },
    {
     "name": "stdout",
     "output_type": "stream",
     "text": [
      "Preprocessed the sequence\n",
      "Start preprocessing the sequence done 2d\n",
      "(16,) 16 74\n"
     ]
    },
    {
     "name": "stderr",
     "output_type": "stream",
     "text": [
      "100%|██████████| 16/16 [00:00<00:00, 1674.87it/s]\n"
     ]
    },
    {
     "name": "stdout",
     "output_type": "stream",
     "text": [
      "Preprocessed the sequence\n",
      "Start preprocessing the sequence done 2d\n",
      "(39,) 39 74\n"
     ]
    },
    {
     "name": "stderr",
     "output_type": "stream",
     "text": [
      "100%|██████████| 39/39 [00:00<00:00, 2331.76it/s]\n"
     ]
    },
    {
     "name": "stdout",
     "output_type": "stream",
     "text": [
      "Preprocessed the sequence\n",
      "Start preprocessing the sequence done 2d\n",
      "(39,) 39 74\n"
     ]
    },
    {
     "name": "stderr",
     "output_type": "stream",
     "text": [
      "100%|██████████| 39/39 [00:00<00:00, 1661.25it/s]\n"
     ]
    },
    {
     "name": "stdout",
     "output_type": "stream",
     "text": [
      "Preprocessed the sequence\n",
      "cuda:0\n"
     ]
    },
    {
     "name": "stderr",
     "output_type": "stream",
     "text": [
      "[I 2024-02-26 11:23:22,554] A new study created in memory with name: no-name-467e7359-bd91-4f60-80a5-1c8eaa3bc7b3\n"
     ]
    },
    {
     "name": "stdout",
     "output_type": "stream",
     "text": [
      "lr: 0.0001\n",
      "batch_size: 32\n",
      "num_epochs: 50\n"
     ]
    },
    {
     "name": "stderr",
     "output_type": "stream",
     "text": [
      "[I 2024-02-26 11:23:23,150] Trial 0 finished with value: 4.157201766967773 and parameters: {'lr': 0.0001, 'batch_size': 32, 'num_epochs': 50}. Best is trial 0 with value: 4.157201766967773.\n"
     ]
    },
    {
     "name": "stdout",
     "output_type": "stream",
     "text": [
      "lr: 0.0001\n",
      "batch_size: 8\n",
      "num_epochs: 500\n"
     ]
    },
    {
     "name": "stderr",
     "output_type": "stream",
     "text": [
      "[I 2024-02-26 11:23:30,612] Trial 1 finished with value: 1.0839467644691467 and parameters: {'lr': 0.0001, 'batch_size': 8, 'num_epochs': 500}. Best is trial 1 with value: 1.0839467644691467.\n"
     ]
    },
    {
     "name": "stdout",
     "output_type": "stream",
     "text": [
      "lr: 0.01\n",
      "batch_size: 8\n",
      "num_epochs: 50\n"
     ]
    },
    {
     "name": "stderr",
     "output_type": "stream",
     "text": [
      "[I 2024-02-26 11:23:36,305] Trial 2 finished with value: 0.147898830473423 and parameters: {'lr': 0.01, 'batch_size': 8, 'num_epochs': 50}. Best is trial 2 with value: 0.147898830473423.\n"
     ]
    },
    {
     "name": "stdout",
     "output_type": "stream",
     "text": [
      "lr: 0.005\n",
      "batch_size: 8\n",
      "num_epochs: 500\n"
     ]
    },
    {
     "name": "stderr",
     "output_type": "stream",
     "text": [
      "[I 2024-02-26 11:23:41,976] Trial 3 finished with value: 0.13544877618551254 and parameters: {'lr': 0.005, 'batch_size': 8, 'num_epochs': 500}. Best is trial 3 with value: 0.13544877618551254.\n"
     ]
    },
    {
     "name": "stdout",
     "output_type": "stream",
     "text": [
      "lr: 0.0001\n",
      "batch_size: 8\n",
      "num_epochs: 200\n"
     ]
    },
    {
     "name": "stderr",
     "output_type": "stream",
     "text": [
      "[I 2024-02-26 11:23:44,803] Trial 4 finished with value: 0.12236564978957176 and parameters: {'lr': 0.0001, 'batch_size': 8, 'num_epochs': 200}. Best is trial 4 with value: 0.12236564978957176.\n"
     ]
    },
    {
     "name": "stdout",
     "output_type": "stream",
     "text": [
      "lr: 0.0001\n",
      "batch_size: 32\n",
      "num_epochs: 100\n"
     ]
    },
    {
     "name": "stderr",
     "output_type": "stream",
     "text": [
      "[I 2024-02-26 11:23:45,659] Trial 5 finished with value: 0.11651873588562012 and parameters: {'lr': 0.0001, 'batch_size': 32, 'num_epochs': 100}. Best is trial 5 with value: 0.11651873588562012.\n"
     ]
    },
    {
     "name": "stdout",
     "output_type": "stream",
     "text": [
      "lr: 0.0001\n",
      "batch_size: 16\n",
      "num_epochs: 50\n"
     ]
    },
    {
     "name": "stderr",
     "output_type": "stream",
     "text": [
      "[I 2024-02-26 11:23:47,111] Trial 6 finished with value: 0.12376357614994049 and parameters: {'lr': 0.0001, 'batch_size': 16, 'num_epochs': 50}. Best is trial 5 with value: 0.11651873588562012.\n"
     ]
    },
    {
     "name": "stdout",
     "output_type": "stream",
     "text": [
      "lr: 0.001\n",
      "batch_size: 16\n",
      "num_epochs: 50\n"
     ]
    },
    {
     "name": "stderr",
     "output_type": "stream",
     "text": [
      "[I 2024-02-26 11:23:48,387] Trial 7 finished with value: 0.15430903434753418 and parameters: {'lr': 0.001, 'batch_size': 16, 'num_epochs': 50}. Best is trial 5 with value: 0.11651873588562012.\n"
     ]
    },
    {
     "name": "stdout",
     "output_type": "stream",
     "text": [
      "lr: 0.005\n",
      "batch_size: 8\n",
      "num_epochs: 500\n"
     ]
    },
    {
     "name": "stderr",
     "output_type": "stream",
     "text": [
      "[I 2024-02-26 11:23:50,875] Trial 8 finished with value: 0.12146349623799324 and parameters: {'lr': 0.005, 'batch_size': 8, 'num_epochs': 500}. Best is trial 5 with value: 0.11651873588562012.\n"
     ]
    },
    {
     "name": "stdout",
     "output_type": "stream",
     "text": [
      "lr: 0.01\n",
      "batch_size: 32\n",
      "num_epochs: 500\n"
     ]
    },
    {
     "name": "stderr",
     "output_type": "stream",
     "text": [
      "[I 2024-02-26 11:23:51,524] Trial 9 finished with value: 0.2399459034204483 and parameters: {'lr': 0.01, 'batch_size': 32, 'num_epochs': 500}. Best is trial 5 with value: 0.11651873588562012.\n"
     ]
    },
    {
     "name": "stdout",
     "output_type": "stream",
     "text": [
      "lr: 0.002\n",
      "batch_size: 32\n",
      "num_epochs: 100\n"
     ]
    },
    {
     "name": "stderr",
     "output_type": "stream",
     "text": [
      "[I 2024-02-26 11:23:52,344] Trial 10 pruned. \n"
     ]
    },
    {
     "name": "stdout",
     "output_type": "stream",
     "text": [
      "lr: 0.005\n",
      "batch_size: 32\n",
      "num_epochs: 100\n"
     ]
    },
    {
     "name": "stderr",
     "output_type": "stream",
     "text": [
      "[I 2024-02-26 11:23:53,052] Trial 11 pruned. \n"
     ]
    },
    {
     "name": "stdout",
     "output_type": "stream",
     "text": [
      "lr: 0.005\n",
      "batch_size: 8\n",
      "num_epochs: 100\n"
     ]
    },
    {
     "name": "stderr",
     "output_type": "stream",
     "text": [
      "[I 2024-02-26 11:23:56,197] Trial 12 finished with value: 0.13331548124551773 and parameters: {'lr': 0.005, 'batch_size': 8, 'num_epochs': 100}. Best is trial 5 with value: 0.11651873588562012.\n"
     ]
    },
    {
     "name": "stdout",
     "output_type": "stream",
     "text": [
      "lr: 0.002\n",
      "batch_size: 32\n",
      "num_epochs: 200\n"
     ]
    },
    {
     "name": "stderr",
     "output_type": "stream",
     "text": [
      "[I 2024-02-26 11:23:56,821] Trial 13 finished with value: 0.16539838910102844 and parameters: {'lr': 0.002, 'batch_size': 32, 'num_epochs': 200}. Best is trial 5 with value: 0.11651873588562012.\n"
     ]
    },
    {
     "name": "stdout",
     "output_type": "stream",
     "text": [
      "lr: 0.001\n",
      "batch_size: 16\n",
      "num_epochs: 100\n"
     ]
    },
    {
     "name": "stderr",
     "output_type": "stream",
     "text": [
      "[I 2024-02-26 11:23:58,318] Trial 14 pruned. \n"
     ]
    },
    {
     "name": "stdout",
     "output_type": "stream",
     "text": [
      "lr: 0.005\n",
      "batch_size: 8\n",
      "num_epochs: 500\n"
     ]
    },
    {
     "name": "stderr",
     "output_type": "stream",
     "text": [
      "[I 2024-02-26 11:24:02,457] Trial 15 finished with value: 0.2783767059445381 and parameters: {'lr': 0.005, 'batch_size': 8, 'num_epochs': 500}. Best is trial 5 with value: 0.11651873588562012.\n"
     ]
    },
    {
     "name": "stdout",
     "output_type": "stream",
     "text": [
      "lr: 0.005\n",
      "batch_size: 32\n",
      "num_epochs: 100\n"
     ]
    },
    {
     "name": "stderr",
     "output_type": "stream",
     "text": [
      "[I 2024-02-26 11:24:03,196] Trial 16 pruned. \n"
     ]
    },
    {
     "name": "stdout",
     "output_type": "stream",
     "text": [
      "lr: 0.0001\n",
      "batch_size: 8\n",
      "num_epochs: 500\n"
     ]
    },
    {
     "name": "stderr",
     "output_type": "stream",
     "text": [
      "[I 2024-02-26 11:24:06,866] Trial 17 pruned. \n"
     ]
    },
    {
     "name": "stdout",
     "output_type": "stream",
     "text": [
      "lr: 0.01\n",
      "batch_size: 32\n",
      "num_epochs: 200\n"
     ]
    },
    {
     "name": "stderr",
     "output_type": "stream",
     "text": [
      "[I 2024-02-26 11:24:08,414] Trial 18 finished with value: 0.2651669979095459 and parameters: {'lr': 0.01, 'batch_size': 32, 'num_epochs': 200}. Best is trial 5 with value: 0.11651873588562012.\n"
     ]
    },
    {
     "name": "stdout",
     "output_type": "stream",
     "text": [
      "lr: 0.002\n",
      "batch_size: 16\n",
      "num_epochs: 500\n"
     ]
    },
    {
     "name": "stderr",
     "output_type": "stream",
     "text": [
      "[I 2024-02-26 11:24:09,988] Trial 19 finished with value: 0.2249353528022766 and parameters: {'lr': 0.002, 'batch_size': 16, 'num_epochs': 500}. Best is trial 5 with value: 0.11651873588562012.\n"
     ]
    },
    {
     "name": "stdout",
     "output_type": "stream",
     "text": [
      "lr: 0.001\n",
      "batch_size: 32\n",
      "num_epochs: 100\n"
     ]
    },
    {
     "name": "stderr",
     "output_type": "stream",
     "text": [
      "[I 2024-02-26 11:24:11,207] Trial 20 finished with value: 0.22044311463832855 and parameters: {'lr': 0.001, 'batch_size': 32, 'num_epochs': 100}. Best is trial 5 with value: 0.11651873588562012.\n"
     ]
    },
    {
     "name": "stdout",
     "output_type": "stream",
     "text": [
      "lr: 0.0001\n",
      "batch_size: 8\n",
      "num_epochs: 200\n"
     ]
    },
    {
     "name": "stderr",
     "output_type": "stream",
     "text": [
      "[I 2024-02-26 11:24:13,804] Trial 21 finished with value: 0.2493153065443039 and parameters: {'lr': 0.0001, 'batch_size': 8, 'num_epochs': 200}. Best is trial 5 with value: 0.11651873588562012.\n"
     ]
    },
    {
     "name": "stdout",
     "output_type": "stream",
     "text": [
      "lr: 0.0001\n",
      "batch_size: 8\n",
      "num_epochs: 200\n"
     ]
    },
    {
     "name": "stderr",
     "output_type": "stream",
     "text": [
      "[I 2024-02-26 11:24:16,448] Trial 22 finished with value: 0.24720674008131027 and parameters: {'lr': 0.0001, 'batch_size': 8, 'num_epochs': 200}. Best is trial 5 with value: 0.11651873588562012.\n"
     ]
    },
    {
     "name": "stdout",
     "output_type": "stream",
     "text": [
      "lr: 0.0001\n",
      "batch_size: 8\n",
      "num_epochs: 200\n"
     ]
    },
    {
     "name": "stderr",
     "output_type": "stream",
     "text": [
      "[I 2024-02-26 11:24:20,057] Trial 23 finished with value: 0.23172064870595932 and parameters: {'lr': 0.0001, 'batch_size': 8, 'num_epochs': 200}. Best is trial 5 with value: 0.11651873588562012.\n"
     ]
    },
    {
     "name": "stdout",
     "output_type": "stream",
     "text": [
      "lr: 0.0001\n",
      "batch_size: 8\n",
      "num_epochs: 200\n"
     ]
    },
    {
     "name": "stderr",
     "output_type": "stream",
     "text": [
      "[I 2024-02-26 11:24:23,669] Trial 24 finished with value: 0.22720643877983093 and parameters: {'lr': 0.0001, 'batch_size': 8, 'num_epochs': 200}. Best is trial 5 with value: 0.11651873588562012.\n"
     ]
    },
    {
     "name": "stdout",
     "output_type": "stream",
     "text": [
      "lr: 0.005\n",
      "batch_size: 8\n",
      "num_epochs: 200\n"
     ]
    },
    {
     "name": "stderr",
     "output_type": "stream",
     "text": [
      "[I 2024-02-26 11:24:28,335] Trial 25 finished with value: 0.18879633396863937 and parameters: {'lr': 0.005, 'batch_size': 8, 'num_epochs': 200}. Best is trial 5 with value: 0.11651873588562012.\n"
     ]
    },
    {
     "name": "stdout",
     "output_type": "stream",
     "text": [
      "lr: 0.0001\n",
      "batch_size: 8\n",
      "num_epochs: 500\n"
     ]
    },
    {
     "name": "stderr",
     "output_type": "stream",
     "text": [
      "[I 2024-02-26 11:24:32,358] Trial 26 finished with value: 0.143005833029747 and parameters: {'lr': 0.0001, 'batch_size': 8, 'num_epochs': 500}. Best is trial 5 with value: 0.11651873588562012.\n"
     ]
    },
    {
     "name": "stdout",
     "output_type": "stream",
     "text": [
      "lr: 0.0001\n",
      "batch_size: 8\n",
      "num_epochs: 100\n"
     ]
    },
    {
     "name": "stderr",
     "output_type": "stream",
     "text": [
      "[I 2024-02-26 11:24:36,019] Trial 27 finished with value: 0.17577097564935684 and parameters: {'lr': 0.0001, 'batch_size': 8, 'num_epochs': 100}. Best is trial 5 with value: 0.11651873588562012.\n"
     ]
    },
    {
     "name": "stdout",
     "output_type": "stream",
     "text": [
      "lr: 0.005\n",
      "batch_size: 32\n",
      "num_epochs: 100\n"
     ]
    },
    {
     "name": "stderr",
     "output_type": "stream",
     "text": [
      "[I 2024-02-26 11:24:36,621] Trial 28 finished with value: 0.24711370468139648 and parameters: {'lr': 0.005, 'batch_size': 32, 'num_epochs': 100}. Best is trial 5 with value: 0.11651873588562012.\n"
     ]
    },
    {
     "name": "stdout",
     "output_type": "stream",
     "text": [
      "lr: 0.0001\n",
      "batch_size: 16\n",
      "num_epochs: 50\n"
     ]
    },
    {
     "name": "stderr",
     "output_type": "stream",
     "text": [
      "[I 2024-02-26 11:24:37,850] Trial 29 pruned. \n"
     ]
    },
    {
     "name": "stdout",
     "output_type": "stream",
     "text": [
      "Study statistics:\n",
      "Number of finished trials: 30\n",
      "Number of pruned trials: 6\n",
      "Number of complete trials: 24\n",
      "Best trial:\n",
      "Value:  0.11651873588562012\n",
      "Params:\n",
      "lr: 0.0001\n",
      "batch_size: 32\n",
      "num_epochs: 100\n",
      "Model 4 complete.\n"
     ]
    }
   ],
   "source": [
    "# Run Optuna_Trainer\n",
    "\n",
    "n_models = 5\n",
    "\n",
    "for m in range(n_models):\n",
    "    print(f\"Training Model {m}\")\n",
    "    \n",
    "    #Get the necessary information\n",
    "    split = train_test_splits[m]   #There are the same number of splits as there are models\n",
    "    x_train, g_train, y_train, x_validation, g_validation, y_validation, x_test, g_test, y_test = get_wrapper(split, m)\n",
    "    \n",
    "    \n",
    "    # Set random seed\n",
    "    random_seed = m\n",
    "    torch.manual_seed(random_seed)\n",
    "    torch.cuda.manual_seed(random_seed)\n",
    "    torch.cuda.manual_seed_all(random_seed)\n",
    "    np.random.seed(random_seed)\n",
    "    \n",
    "    print(device)\n",
    "\n",
    "    # Load pre-trained model\n",
    "    model = GeneInteractionModel(hidden_size=128, num_layers=1).to(device)  # Model\n",
    "    model.load_state_dict(torch.load('models/ontarget/final/model_{}.pt'.format(m % 5)))  # Loads weights, biases from this pre-trained model\n",
    "\n",
    "    # Create a Trainer instance for each model\n",
    "    trainer = Optuna_Trainer(model, x_train, g_train, y_train, x_validation, g_validation, y_validation)\n",
    "\n",
    "    # Execute hyperparameter study\n",
    "    trainer.exec_study()\n",
    "\n",
    "    print(f\"Model {m} complete.\")"
   ]
  },
  {
   "cell_type": "markdown",
   "id": "5a8fab60-d9d1-4e3a-8801-10f0473362b0",
   "metadata": {},
   "source": [
    "# Fine-tuning with best hyperparameters"
   ]
  },
  {
   "cell_type": "code",
   "execution_count": 142,
   "id": "b260ff6c-e267-4972-85fc-f8d4aeead8d1",
   "metadata": {
    "tags": []
   },
   "outputs": [],
   "source": [
    "class Trainer:\n",
    "    \n",
    "    def __init__(self, model, x_train, g_train, y_train, x_validation, g_validation, y_validation): \n",
    "        self.g_train = g_train\n",
    "        self.x_train = x_train\n",
    "        self.y_train = y_train\n",
    "        self.g_val = g_validation\n",
    "        self.x_val = x_validation\n",
    "        self.y_val = y_validation\n",
    "        self.model = model\n",
    "\n",
    "        self.patience = 20\n",
    "        self.delta = 1e-4\n",
    "        \n",
    "        if m == 0:\n",
    "            self.lr = 0.0001\n",
    "            self.bs = 32\n",
    "            self.ep = 50\n",
    "            \n",
    "        elif m == 1:\n",
    "            self.lr = 0.0001\n",
    "            self.bs = 16\n",
    "            self.ep = 50    \n",
    "            \n",
    "        elif m == 2:\n",
    "            self.lr = 0.005\n",
    "            self.bs = 32\n",
    "            self.ep = 50    \n",
    "            \n",
    "        elif m == 3:\n",
    "            self.lr = 0.01\n",
    "            self.bs = 16\n",
    "            self.ep = 500\n",
    "          \n",
    "        elif m == 4:\n",
    "            self.lr = 0.0001\n",
    "            self.bs = 32\n",
    "            self.ep = 100     \n",
    "            \n",
    "\n",
    "        self.wd = self.lr\n",
    "    \n",
    "        print(m, self.lr, self.bs, self.ep)\n",
    "\n",
    "    def train_model(self):                # Does not take in trial as a parameter because we are no longer testing out different hyperparameters.\n",
    "        \n",
    "        min_loss = None                   # Stores the minimum loss\n",
    "        early_stopping_counter = 0        # Track how many consecutive epochs have occurred without improvement in the validation loss, used to prevent overfitting.\n",
    "        \n",
    "        \n",
    "        train_dataset = GeneFeatureDataset(self.g_train, self.x_train, self.y_train) \n",
    "        train_loader = DataLoader(train_dataset, batch_size=self.bs, shuffle=True, drop_last=True) \n",
    "\n",
    "\n",
    "        val_dataset = GeneFeatureDataset(self.g_val, self.x_val, self.y_val) \n",
    "        val_loader = DataLoader(val_dataset, batch_size=self.bs, shuffle=True)\n",
    "\n",
    "        optimizer = optim.AdamW(self.model.parameters(), lr=self.lr, weight_decay=self.wd) \n",
    "        optimizer.zero_grad()  #Q: Zeroes out gradients?\n",
    "        \n",
    "\n",
    "        criterion = BalancedMSELoss()\n",
    "\n",
    "        print(\"epoch\\ttrain_loss\\tval_loss\")\n",
    "        for epoch in range(self.ep): # self.ep is the number of epochs, so here we are iterating through the epochs\n",
    "            \n",
    "            # Train\n",
    "            self.model.train()  # Sets model in training mode\n",
    "            train_loss = []\n",
    "            train_count = 0\n",
    "    \n",
    "\n",
    "            # Works through each batch of data set up by the train_loader\n",
    "            for i, (g_batch, x_batch, y_batch) in enumerate(train_loader):\n",
    "                g_batch, x_batch, y_batch = g_batch.cuda(), x_batch.cuda(), y_batch.cuda() # If gpu is available, moves tensors to GPU\n",
    "                \n",
    "                g_batch = g_batch.permute((0, 3, 1, 2))\n",
    "                x_batch = x_batch\n",
    "                y_batch = y_batch.reshape(-1, 4)\n",
    "\n",
    "                optimizer.zero_grad()  # Q: Why should I zero the gradient again?\n",
    "\n",
    "                output = self.model(g_batch, x_batch) # Send g and x through the model\n",
    "\n",
    "                total_loss = criterion(output, y_batch) # Calculate the loss between the model output and the measured efficiencies\n",
    "\n",
    "                total_loss.backward()\n",
    "                optimizer.step()  # Applies optimization to update parameters\n",
    "\n",
    "                train_loss.append(x_batch.size(0) * total_loss.detach().cpu().numpy())\n",
    "                train_count += x_batch.size(0)\n",
    "                \n",
    "\n",
    "            train_loss = sum(train_loss) / train_count\n",
    "\n",
    "\n",
    "            # Validation\n",
    "            \n",
    "            self.model.eval()  # Set model in evaluation mode\n",
    "            \n",
    "            val_loss = []\n",
    "            val_count = 0\n",
    "\n",
    "            # Same as with training batches\n",
    "            for i, (g_batch, x_batch, y_batch) in enumerate(val_loader):\n",
    "                g_batch, x_batch, y_batch = g_batch.cuda(), x_batch.cuda(), y_batch.cuda()\n",
    "\n",
    "                g_batch = g_batch.permute((0, 3, 1, 2))\n",
    "                x_batch = x_batch\n",
    "                y_batch = y_batch.reshape(-1, 4)\n",
    "                \n",
    "                output = self.model(g_batch, x_batch)  #Run validation data through model\n",
    "\n",
    "                loss = criterion(output, y_batch)\n",
    "                \n",
    "                val_loss.append(x_batch.size(0) * loss.detach().cpu().numpy())\n",
    "                val_count += x_batch.size(0)\n",
    "\n",
    "            val_loss = sum(val_loss) / val_count\n",
    " \n",
    "\n",
    "\n",
    "\n",
    "            # Summary of training progress\n",
    "            # print(\"{}\\t{:.4f}\\t{:.4f}\".format(epoch, train_loss, val_loss))\n",
    "\n",
    "            \n",
    "\n",
    "            if min_loss is None:\n",
    "                min_loss = val_loss  \n",
    "            elif min_loss - val_loss > self.delta:                    # If the difference between the previous minimum loss and the current validation loss is greater than delta, update values\n",
    "                min_loss = val_loss                                   # Set the new minimum loss to current validation loss\n",
    "                early_stopping_counter = 0                            # Reset to 0, indicating no consecutive epochs with increasing validation loss.\n",
    "            elif min_loss - val_loss < self.delta:                    # No improvement in validation loss\n",
    "                early_stopping_counter += 1                           # Consecutive epoch for which there is no improvement on validation loss\n",
    "                if early_stopping_counter >= self.patience:           # At this point, further training is unlikely to improve/lower validation loss, so break\n",
    "                    break\n",
    "\n",
    "        print(val_loss)\n",
    "        return val_loss  # Returns the minimum validation loss\n"
   ]
  },
  {
   "cell_type": "code",
   "execution_count": 143,
   "id": "0a1a7edd-4b4a-4679-b5aa-cbeb46c1c325",
   "metadata": {
    "tags": []
   },
   "outputs": [
    {
     "name": "stdout",
     "output_type": "stream",
     "text": [
      "Training Model 0\n",
      "cuda:0\n",
      "0 0.0001 32 50\n",
      "epoch\ttrain_loss\tval_loss\n",
      "6.045087814331055\n",
      "Model 0 complete.\n",
      "Training Model 1\n",
      "cuda:0\n",
      "1 0.0001 16 50\n",
      "epoch\ttrain_loss\tval_loss\n",
      "7.048244476318359\n",
      "Model 1 complete.\n",
      "Training Model 2\n",
      "cuda:0\n",
      "2 0.005 32 50\n",
      "epoch\ttrain_loss\tval_loss\n",
      "0.2911105453968048\n",
      "Model 2 complete.\n",
      "Training Model 3\n",
      "cuda:0\n",
      "3 0.01 16 500\n",
      "epoch\ttrain_loss\tval_loss\n",
      "0.7638047933578491\n",
      "Model 3 complete.\n",
      "Training Model 4\n",
      "cuda:0\n",
      "4 0.0001 32 100\n",
      "epoch\ttrain_loss\tval_loss\n",
      "4.157756805419922\n",
      "Model 4 complete.\n"
     ]
    }
   ],
   "source": [
    "# Run Trainer\n",
    "\n",
    "n_models = 5\n",
    "\n",
    "for m in range(n_models):\n",
    "    print(f\"Training Model {m}\")\n",
    "    \n",
    "    x_train, g_train, y_train, x_validation, g_validation, y_validation, x_test, g_test, y_test = get_wrapper(split, m)\n",
    "    \n",
    "    # Set random seed\n",
    "    random_seed = m\n",
    "    torch.manual_seed(random_seed)\n",
    "    torch.cuda.manual_seed(random_seed)\n",
    "    torch.cuda.manual_seed_all(random_seed)\n",
    "    np.random.seed(random_seed)\n",
    "    \n",
    "    print(device)\n",
    "\n",
    "    # Load pre-trained model\n",
    "    model = GeneInteractionModel(hidden_size=128, num_layers=1).to(device)  # Model\n",
    "    model.load_state_dict(torch.load('models/ontarget/final/model_{}.pt'.format(m % 5)))  # Loads weights, biases from this pre-trained model\n",
    "\n",
    "    # Create a Trainer instance for each model\n",
    "    trainer = Trainer(model, x_train, g_train, y_train, x_validation, g_validation, y_validation)\n",
    "\n",
    "    # Execute hyperparameter study\n",
    "    trainer.train_model()\n",
    "    \n",
    "    torch.save(model.state_dict(), f'models/endogenous/model_{m}.pt')   # Model has now been updated after training, so store the model in a new folder\n",
    "\n",
    "    print(f\"Model {m} complete.\")"
   ]
  },
  {
   "cell_type": "markdown",
   "id": "5fb1ebff-e240-49ee-8f98-1fad744ad318",
   "metadata": {},
   "source": [
    "### Now, run test sets through their respective models"
   ]
  },
  {
   "cell_type": "code",
   "execution_count": 207,
   "id": "b491800a-06d8-4bad-a632-6d5125b04b10",
   "metadata": {},
   "outputs": [],
   "source": [
    "def calculate_deepprime_score(df_input, num_model, pe_system='PE2', cell_type='HEK293T'):\n",
    "    \n",
    "\n",
    "    mean = pd.read_csv('../DeepPrime-main/models/DeepPrime/DeepPrime_base/mean.csv', header=None, index_col=0)\n",
    "    std  = pd.read_csv('../DeepPrime-main/models/DeepPrime/DeepPrime_base/std.csv', header=None, index_col=0)\n",
    "\n",
    "    mean = mean.squeeze('columns')\n",
    "    std = std.squeeze('columns')\n",
    "\n",
    "    test_features, test_target = select_cols(test) \n",
    "\n",
    "    g_test = seq_concat(test)\n",
    "    x_test = (test_features - mean) / std\n",
    "\n",
    "    g_test = torch.tensor(g_test, dtype=torch.float32, device=device)\n",
    "    x_test = torch.tensor(x_test.to_numpy(), dtype=torch.float32, device=device)\n",
    "\n",
    "    preds  = []\n",
    "\n",
    "    # Model particular to the test dataset\n",
    "    model = GeneInteractionModel(hidden_size=128, num_layers=1).to(device)\n",
    "    model.load_state_dict(torch.load('models/endogenous/model_{}.pt'.format(0)))\n",
    "\n",
    "    model.eval()\n",
    "    with torch.no_grad():\n",
    "        g, x = g_test, x_test\n",
    "        g = g.permute((0, 3, 1, 2))\n",
    "        pred = model(g, x).detach().cpu().numpy()\n",
    "    preds.append(pred)\n",
    "\n",
    "    # Need this line!!\n",
    "    preds = np.squeeze(np.array(preds))\n",
    "    # preds = np.exp(preds) - 1 # Really am not sure whether I need this line or not, so check with and without, probably\n",
    "    \n",
    "    return preds"
   ]
  },
  {
   "cell_type": "code",
   "execution_count": 208,
   "id": "30f35dbf-2f09-4f0b-91b2-7c80aec36147",
   "metadata": {
    "tags": []
   },
   "outputs": [
    {
     "name": "stdout",
     "output_type": "stream",
     "text": [
      "Start preprocessing the sequence done 2d\n",
      "(40,) 40 74\n"
     ]
    },
    {
     "name": "stderr",
     "output_type": "stream",
     "text": [
      "100%|██████████| 40/40 [00:00<00:00, 1906.42it/s]\n"
     ]
    },
    {
     "name": "stdout",
     "output_type": "stream",
     "text": [
      "Preprocessed the sequence\n",
      "Start preprocessing the sequence done 2d\n",
      "(40,) 40 74\n"
     ]
    },
    {
     "name": "stderr",
     "output_type": "stream",
     "text": [
      "100%|██████████| 40/40 [00:00<00:00, 1259.59it/s]\n"
     ]
    },
    {
     "name": "stdout",
     "output_type": "stream",
     "text": [
      "Preprocessed the sequence\n",
      "Start preprocessing the sequence done 2d\n",
      "(40,) 40 74\n"
     ]
    },
    {
     "name": "stderr",
     "output_type": "stream",
     "text": [
      "100%|██████████| 40/40 [00:00<00:00, 1662.13it/s]\n"
     ]
    },
    {
     "name": "stdout",
     "output_type": "stream",
     "text": [
      "Preprocessed the sequence\n",
      "Start preprocessing the sequence done 2d\n",
      "(40,) 40 74\n"
     ]
    },
    {
     "name": "stderr",
     "output_type": "stream",
     "text": [
      "100%|██████████| 40/40 [00:00<00:00, 1256.64it/s]\n"
     ]
    },
    {
     "name": "stdout",
     "output_type": "stream",
     "text": [
      "Preprocessed the sequence\n",
      "Start preprocessing the sequence done 2d\n",
      "(40,) 40 74\n"
     ]
    },
    {
     "name": "stderr",
     "output_type": "stream",
     "text": [
      "100%|██████████| 40/40 [00:00<00:00, 2196.06it/s]\n"
     ]
    },
    {
     "name": "stdout",
     "output_type": "stream",
     "text": [
      "Preprocessed the sequence\n",
      "Start preprocessing the sequence done 2d\n",
      "(40,) 40 74\n"
     ]
    },
    {
     "name": "stderr",
     "output_type": "stream",
     "text": [
      "100%|██████████| 40/40 [00:00<00:00, 1612.09it/s]\n"
     ]
    },
    {
     "name": "stdout",
     "output_type": "stream",
     "text": [
      "Preprocessed the sequence\n",
      "Start preprocessing the sequence done 2d\n",
      "(40,) 40 74\n"
     ]
    },
    {
     "name": "stderr",
     "output_type": "stream",
     "text": [
      "100%|██████████| 40/40 [00:00<00:00, 2205.44it/s]\n"
     ]
    },
    {
     "name": "stdout",
     "output_type": "stream",
     "text": [
      "Preprocessed the sequence\n",
      "Start preprocessing the sequence done 2d\n",
      "(40,) 40 74\n"
     ]
    },
    {
     "name": "stderr",
     "output_type": "stream",
     "text": [
      "100%|██████████| 40/40 [00:00<00:00, 1621.85it/s]\n"
     ]
    },
    {
     "name": "stdout",
     "output_type": "stream",
     "text": [
      "Preprocessed the sequence\n",
      "Start preprocessing the sequence done 2d\n",
      "(39,) 39 74\n"
     ]
    },
    {
     "name": "stderr",
     "output_type": "stream",
     "text": [
      "100%|██████████| 39/39 [00:00<00:00, 2197.95it/s]\n"
     ]
    },
    {
     "name": "stdout",
     "output_type": "stream",
     "text": [
      "Preprocessed the sequence\n",
      "Start preprocessing the sequence done 2d\n",
      "(39,) 39 74\n"
     ]
    },
    {
     "name": "stderr",
     "output_type": "stream",
     "text": [
      "100%|██████████| 39/39 [00:00<00:00, 1580.91it/s]\n"
     ]
    },
    {
     "name": "stdout",
     "output_type": "stream",
     "text": [
      "Preprocessed the sequence\n"
     ]
    }
   ],
   "source": [
    "all_test_df = []\n",
    "\n",
    "for i in range(len(train_test_splits)):\n",
    "    \n",
    "    test_indices = train_test_splits[i][1] # This extracts out the test indices \n",
    "    \n",
    "    test = finetune_data.loc[test_indices] # Subset entire data just for the test indices used for this particular model\n",
    "    test = test.reset_index(drop=True)\n",
    "    \n",
    "    \n",
    "    test['DeepPrime_score'] = calculate_deepprime_score(test, num_model = i)\n",
    "    \n",
    "    all_test_df.append(test)\n",
    "    test.to_csv('Test_' + str(i) + '.csv')\n",
    "    \n",
    "    "
   ]
  },
  {
   "cell_type": "code",
   "execution_count": 209,
   "id": "29d8e87b-0bd2-414b-bd96-f0036e5c139c",
   "metadata": {
    "tags": []
   },
   "outputs": [
    {
     "data": {
      "text/html": [
       "<div>\n",
       "<style scoped>\n",
       "    .dataframe tbody tr th:only-of-type {\n",
       "        vertical-align: middle;\n",
       "    }\n",
       "\n",
       "    .dataframe tbody tr th {\n",
       "        vertical-align: top;\n",
       "    }\n",
       "\n",
       "    .dataframe thead th {\n",
       "        text-align: right;\n",
       "    }\n",
       "</style>\n",
       "<table border=\"1\" class=\"dataframe\">\n",
       "  <thead>\n",
       "    <tr style=\"text-align: right;\">\n",
       "      <th></th>\n",
       "      <th>gene</th>\n",
       "      <th>ID</th>\n",
       "      <th>WT74_On</th>\n",
       "      <th>Edited74_On</th>\n",
       "      <th>PBSlen</th>\n",
       "      <th>RTlen</th>\n",
       "      <th>RT-PBSlen</th>\n",
       "      <th>Edit_pos</th>\n",
       "      <th>Edit_len</th>\n",
       "      <th>RHA_len</th>\n",
       "      <th>...</th>\n",
       "      <th>nGCcnt2</th>\n",
       "      <th>nGCcnt3</th>\n",
       "      <th>fGCcont1</th>\n",
       "      <th>fGCcont2</th>\n",
       "      <th>fGCcont3</th>\n",
       "      <th>MFE3</th>\n",
       "      <th>MFE4</th>\n",
       "      <th>DeepSpCas9_score</th>\n",
       "      <th>Measured_PE_efficiency</th>\n",
       "      <th>DeepPrime_score</th>\n",
       "    </tr>\n",
       "  </thead>\n",
       "  <tbody>\n",
       "    <tr>\n",
       "      <th>0</th>\n",
       "      <td>RUNX1</td>\n",
       "      <td>EDFIG5C_RUNX1_10NT</td>\n",
       "      <td>GGGTGCATTTTCAGGAGGAAGCGATGGCTTCAGACAGCATATTTGA...</td>\n",
       "      <td>xxxxxxATTTTCAGGAGGAAGCGATTGCTTCAxxxxxxxxxxxxxx...</td>\n",
       "      <td>15</td>\n",
       "      <td>11</td>\n",
       "      <td>26</td>\n",
       "      <td>5</td>\n",
       "      <td>1</td>\n",
       "      <td>6</td>\n",
       "      <td>...</td>\n",
       "      <td>5</td>\n",
       "      <td>11</td>\n",
       "      <td>40.000000</td>\n",
       "      <td>45.454545</td>\n",
       "      <td>42.307692</td>\n",
       "      <td>-5.5</td>\n",
       "      <td>-1.4</td>\n",
       "      <td>57.854034</td>\n",
       "      <td>13.548111</td>\n",
       "      <td>0.236303</td>\n",
       "    </tr>\n",
       "    <tr>\n",
       "      <th>1</th>\n",
       "      <td>RNF2</td>\n",
       "      <td>FIG2A_PE2_RNF2_10</td>\n",
       "      <td>GGCAGTCATCTTAGTCATTACCTGAGGTGTTCGTTGTAACTCATAT...</td>\n",
       "      <td>xxxxxxCATCTTAGTCATTACATGAGGTGTTxxxxxxxxxxxxxxx...</td>\n",
       "      <td>15</td>\n",
       "      <td>10</td>\n",
       "      <td>25</td>\n",
       "      <td>1</td>\n",
       "      <td>1</td>\n",
       "      <td>9</td>\n",
       "      <td>...</td>\n",
       "      <td>4</td>\n",
       "      <td>9</td>\n",
       "      <td>33.333333</td>\n",
       "      <td>40.000000</td>\n",
       "      <td>36.000000</td>\n",
       "      <td>-0.2</td>\n",
       "      <td>0.0</td>\n",
       "      <td>52.229725</td>\n",
       "      <td>6.623650</td>\n",
       "      <td>0.006820</td>\n",
       "    </tr>\n",
       "    <tr>\n",
       "      <th>2</th>\n",
       "      <td>HEK3</td>\n",
       "      <td>EDFIG6D_HEK3_PE2_A8</td>\n",
       "      <td>TTGGGGCCCAGACTGAGCACGTGATGGCAGAGGAAAGGAAGCCCTG...</td>\n",
       "      <td>xxxxxxxxCAGACTGAGCACGCGATGGCAGAxxxxxxxxxxxxxxx...</td>\n",
       "      <td>13</td>\n",
       "      <td>10</td>\n",
       "      <td>23</td>\n",
       "      <td>1</td>\n",
       "      <td>1</td>\n",
       "      <td>9</td>\n",
       "      <td>...</td>\n",
       "      <td>6</td>\n",
       "      <td>14</td>\n",
       "      <td>61.538462</td>\n",
       "      <td>60.000000</td>\n",
       "      <td>60.869565</td>\n",
       "      <td>-0.6</td>\n",
       "      <td>-0.7</td>\n",
       "      <td>63.264858</td>\n",
       "      <td>16.010170</td>\n",
       "      <td>1.503004</td>\n",
       "    </tr>\n",
       "    <tr>\n",
       "      <th>3</th>\n",
       "      <td>EMX1</td>\n",
       "      <td>FIG2B_EMX1_10</td>\n",
       "      <td>GCCTGAGTCCGAGCAGAAGAAGAAGGGCTCCCATCACATCAACCGG...</td>\n",
       "      <td>xxxxxxxxCCGAGCAGAAGAACAAGGGCTCCCATxxxxxxxxxxxx...</td>\n",
       "      <td>13</td>\n",
       "      <td>13</td>\n",
       "      <td>26</td>\n",
       "      <td>1</td>\n",
       "      <td>1</td>\n",
       "      <td>12</td>\n",
       "      <td>...</td>\n",
       "      <td>8</td>\n",
       "      <td>15</td>\n",
       "      <td>53.846154</td>\n",
       "      <td>61.538462</td>\n",
       "      <td>57.692308</td>\n",
       "      <td>-4.4</td>\n",
       "      <td>0.0</td>\n",
       "      <td>69.540627</td>\n",
       "      <td>17.159046</td>\n",
       "      <td>0.189190</td>\n",
       "    </tr>\n",
       "    <tr>\n",
       "      <th>4</th>\n",
       "      <td>DNMT1</td>\n",
       "      <td>EDFIG5B_DNMT1_10NT</td>\n",
       "      <td>TGGGGATTCCTGGTGCCAGAAACAGGGGTGACGGGAGGGCAGAACT...</td>\n",
       "      <td>xxxxxxxxCCTGGTGCCAGAAACAGTGGTGACGGGAGGGCAGxxxx...</td>\n",
       "      <td>13</td>\n",
       "      <td>21</td>\n",
       "      <td>34</td>\n",
       "      <td>5</td>\n",
       "      <td>1</td>\n",
       "      <td>16</td>\n",
       "      <td>...</td>\n",
       "      <td>14</td>\n",
       "      <td>22</td>\n",
       "      <td>61.538462</td>\n",
       "      <td>66.666667</td>\n",
       "      <td>64.705882</td>\n",
       "      <td>-3.5</td>\n",
       "      <td>-1.6</td>\n",
       "      <td>65.144363</td>\n",
       "      <td>4.924110</td>\n",
       "      <td>0.813578</td>\n",
       "    </tr>\n",
       "    <tr>\n",
       "      <th>...</th>\n",
       "      <td>...</td>\n",
       "      <td>...</td>\n",
       "      <td>...</td>\n",
       "      <td>...</td>\n",
       "      <td>...</td>\n",
       "      <td>...</td>\n",
       "      <td>...</td>\n",
       "      <td>...</td>\n",
       "      <td>...</td>\n",
       "      <td>...</td>\n",
       "      <td>...</td>\n",
       "      <td>...</td>\n",
       "      <td>...</td>\n",
       "      <td>...</td>\n",
       "      <td>...</td>\n",
       "      <td>...</td>\n",
       "      <td>...</td>\n",
       "      <td>...</td>\n",
       "      <td>...</td>\n",
       "      <td>...</td>\n",
       "      <td>...</td>\n",
       "    </tr>\n",
       "    <tr>\n",
       "      <th>34</th>\n",
       "      <td>VEGFA</td>\n",
       "      <td>EDFIG5A_VEGFA_10NT</td>\n",
       "      <td>CTTTGATGTCTGCAGGCCAGATGAGGGCTCCAGATGGCACATTGTC...</td>\n",
       "      <td>xxxxxxxxTCTGCAGGCCAGATGAGTGCTCCAGATGGCACATTxxx...</td>\n",
       "      <td>13</td>\n",
       "      <td>22</td>\n",
       "      <td>35</td>\n",
       "      <td>5</td>\n",
       "      <td>1</td>\n",
       "      <td>17</td>\n",
       "      <td>...</td>\n",
       "      <td>11</td>\n",
       "      <td>19</td>\n",
       "      <td>61.538462</td>\n",
       "      <td>50.000000</td>\n",
       "      <td>54.285714</td>\n",
       "      <td>-8.7</td>\n",
       "      <td>-3.3</td>\n",
       "      <td>66.789276</td>\n",
       "      <td>29.943587</td>\n",
       "      <td>0.751485</td>\n",
       "    </tr>\n",
       "    <tr>\n",
       "      <th>35</th>\n",
       "      <td>VEGFA</td>\n",
       "      <td>EDFIG5A_VEGFA_10NT</td>\n",
       "      <td>CTTTGATGTCTGCAGGCCAGATGAGGGCTCCAGATGGCACATTGTC...</td>\n",
       "      <td>xxxxxxxxTCTGCAGGCCAGATGAGTGCTCCAGATGxxxxxxxxxx...</td>\n",
       "      <td>13</td>\n",
       "      <td>15</td>\n",
       "      <td>28</td>\n",
       "      <td>5</td>\n",
       "      <td>1</td>\n",
       "      <td>10</td>\n",
       "      <td>...</td>\n",
       "      <td>8</td>\n",
       "      <td>16</td>\n",
       "      <td>61.538462</td>\n",
       "      <td>53.333333</td>\n",
       "      <td>57.142857</td>\n",
       "      <td>-8.2</td>\n",
       "      <td>-3.3</td>\n",
       "      <td>66.789276</td>\n",
       "      <td>17.794598</td>\n",
       "      <td>0.271042</td>\n",
       "    </tr>\n",
       "    <tr>\n",
       "      <th>36</th>\n",
       "      <td>FANCF</td>\n",
       "      <td>FIG2A_PE2_FANCF_10</td>\n",
       "      <td>TCATGGAATCCCTTCTGCAGCACCTGGATCGCTTTTCCGAGCTTCT...</td>\n",
       "      <td>xxxxxxxATCCCTTCTGCAGCACCTTGATCGCTTTTCCxxxxxxxx...</td>\n",
       "      <td>14</td>\n",
       "      <td>17</td>\n",
       "      <td>31</td>\n",
       "      <td>5</td>\n",
       "      <td>1</td>\n",
       "      <td>12</td>\n",
       "      <td>...</td>\n",
       "      <td>8</td>\n",
       "      <td>16</td>\n",
       "      <td>57.142857</td>\n",
       "      <td>47.058824</td>\n",
       "      <td>51.612903</td>\n",
       "      <td>-2.5</td>\n",
       "      <td>-0.4</td>\n",
       "      <td>60.384285</td>\n",
       "      <td>12.988252</td>\n",
       "      <td>1.613805</td>\n",
       "    </tr>\n",
       "    <tr>\n",
       "      <th>37</th>\n",
       "      <td>HEK3</td>\n",
       "      <td>FIG2A_PE2_HEK3_10</td>\n",
       "      <td>TTGGGGCCCAGACTGAGCACGTGATGGCAGAGGAAAGGAAGCCCTG...</td>\n",
       "      <td>xxxxxxxxCAGACTGAGCACGAGATGGCAGAxxxxxxxxxxxxxxx...</td>\n",
       "      <td>13</td>\n",
       "      <td>10</td>\n",
       "      <td>23</td>\n",
       "      <td>1</td>\n",
       "      <td>1</td>\n",
       "      <td>9</td>\n",
       "      <td>...</td>\n",
       "      <td>5</td>\n",
       "      <td>13</td>\n",
       "      <td>61.538462</td>\n",
       "      <td>50.000000</td>\n",
       "      <td>56.521739</td>\n",
       "      <td>-0.2</td>\n",
       "      <td>-0.7</td>\n",
       "      <td>63.264858</td>\n",
       "      <td>14.645327</td>\n",
       "      <td>1.248609</td>\n",
       "    </tr>\n",
       "    <tr>\n",
       "      <th>38</th>\n",
       "      <td>HEK4</td>\n",
       "      <td>FIG2A_PE2_HEK4_10</td>\n",
       "      <td>CGGTGGCACTGCGGCTGGAGGTGGGGGTTAAAGCGGAGACTCTGGT...</td>\n",
       "      <td>xxxxxxxACTGCGGCTGGAGGTTGGGGTTAAAGCxxxxxxxxxxxx...</td>\n",
       "      <td>14</td>\n",
       "      <td>13</td>\n",
       "      <td>27</td>\n",
       "      <td>2</td>\n",
       "      <td>1</td>\n",
       "      <td>11</td>\n",
       "      <td>...</td>\n",
       "      <td>6</td>\n",
       "      <td>16</td>\n",
       "      <td>71.428571</td>\n",
       "      <td>46.153846</td>\n",
       "      <td>59.259259</td>\n",
       "      <td>0.0</td>\n",
       "      <td>-3.5</td>\n",
       "      <td>54.310997</td>\n",
       "      <td>1.758639</td>\n",
       "      <td>0.163209</td>\n",
       "    </tr>\n",
       "  </tbody>\n",
       "</table>\n",
       "<p>199 rows × 30 columns</p>\n",
       "</div>"
      ],
      "text/plain": [
       "     gene                   ID  \\\n",
       "0   RUNX1   EDFIG5C_RUNX1_10NT   \n",
       "1    RNF2    FIG2A_PE2_RNF2_10   \n",
       "2    HEK3  EDFIG6D_HEK3_PE2_A8   \n",
       "3    EMX1        FIG2B_EMX1_10   \n",
       "4   DNMT1   EDFIG5B_DNMT1_10NT   \n",
       "..    ...                  ...   \n",
       "34  VEGFA   EDFIG5A_VEGFA_10NT   \n",
       "35  VEGFA   EDFIG5A_VEGFA_10NT   \n",
       "36  FANCF   FIG2A_PE2_FANCF_10   \n",
       "37   HEK3    FIG2A_PE2_HEK3_10   \n",
       "38   HEK4    FIG2A_PE2_HEK4_10   \n",
       "\n",
       "                                              WT74_On  \\\n",
       "0   GGGTGCATTTTCAGGAGGAAGCGATGGCTTCAGACAGCATATTTGA...   \n",
       "1   GGCAGTCATCTTAGTCATTACCTGAGGTGTTCGTTGTAACTCATAT...   \n",
       "2   TTGGGGCCCAGACTGAGCACGTGATGGCAGAGGAAAGGAAGCCCTG...   \n",
       "3   GCCTGAGTCCGAGCAGAAGAAGAAGGGCTCCCATCACATCAACCGG...   \n",
       "4   TGGGGATTCCTGGTGCCAGAAACAGGGGTGACGGGAGGGCAGAACT...   \n",
       "..                                                ...   \n",
       "34  CTTTGATGTCTGCAGGCCAGATGAGGGCTCCAGATGGCACATTGTC...   \n",
       "35  CTTTGATGTCTGCAGGCCAGATGAGGGCTCCAGATGGCACATTGTC...   \n",
       "36  TCATGGAATCCCTTCTGCAGCACCTGGATCGCTTTTCCGAGCTTCT...   \n",
       "37  TTGGGGCCCAGACTGAGCACGTGATGGCAGAGGAAAGGAAGCCCTG...   \n",
       "38  CGGTGGCACTGCGGCTGGAGGTGGGGGTTAAAGCGGAGACTCTGGT...   \n",
       "\n",
       "                                          Edited74_On  PBSlen  RTlen  \\\n",
       "0   xxxxxxATTTTCAGGAGGAAGCGATTGCTTCAxxxxxxxxxxxxxx...      15     11   \n",
       "1   xxxxxxCATCTTAGTCATTACATGAGGTGTTxxxxxxxxxxxxxxx...      15     10   \n",
       "2   xxxxxxxxCAGACTGAGCACGCGATGGCAGAxxxxxxxxxxxxxxx...      13     10   \n",
       "3   xxxxxxxxCCGAGCAGAAGAACAAGGGCTCCCATxxxxxxxxxxxx...      13     13   \n",
       "4   xxxxxxxxCCTGGTGCCAGAAACAGTGGTGACGGGAGGGCAGxxxx...      13     21   \n",
       "..                                                ...     ...    ...   \n",
       "34  xxxxxxxxTCTGCAGGCCAGATGAGTGCTCCAGATGGCACATTxxx...      13     22   \n",
       "35  xxxxxxxxTCTGCAGGCCAGATGAGTGCTCCAGATGxxxxxxxxxx...      13     15   \n",
       "36  xxxxxxxATCCCTTCTGCAGCACCTTGATCGCTTTTCCxxxxxxxx...      14     17   \n",
       "37  xxxxxxxxCAGACTGAGCACGAGATGGCAGAxxxxxxxxxxxxxxx...      13     10   \n",
       "38  xxxxxxxACTGCGGCTGGAGGTTGGGGTTAAAGCxxxxxxxxxxxx...      14     13   \n",
       "\n",
       "    RT-PBSlen  Edit_pos  Edit_len  RHA_len  ...  nGCcnt2  nGCcnt3   fGCcont1  \\\n",
       "0          26         5         1        6  ...        5       11  40.000000   \n",
       "1          25         1         1        9  ...        4        9  33.333333   \n",
       "2          23         1         1        9  ...        6       14  61.538462   \n",
       "3          26         1         1       12  ...        8       15  53.846154   \n",
       "4          34         5         1       16  ...       14       22  61.538462   \n",
       "..        ...       ...       ...      ...  ...      ...      ...        ...   \n",
       "34         35         5         1       17  ...       11       19  61.538462   \n",
       "35         28         5         1       10  ...        8       16  61.538462   \n",
       "36         31         5         1       12  ...        8       16  57.142857   \n",
       "37         23         1         1        9  ...        5       13  61.538462   \n",
       "38         27         2         1       11  ...        6       16  71.428571   \n",
       "\n",
       "     fGCcont2   fGCcont3  MFE3  MFE4  DeepSpCas9_score  \\\n",
       "0   45.454545  42.307692  -5.5  -1.4         57.854034   \n",
       "1   40.000000  36.000000  -0.2   0.0         52.229725   \n",
       "2   60.000000  60.869565  -0.6  -0.7         63.264858   \n",
       "3   61.538462  57.692308  -4.4   0.0         69.540627   \n",
       "4   66.666667  64.705882  -3.5  -1.6         65.144363   \n",
       "..        ...        ...   ...   ...               ...   \n",
       "34  50.000000  54.285714  -8.7  -3.3         66.789276   \n",
       "35  53.333333  57.142857  -8.2  -3.3         66.789276   \n",
       "36  47.058824  51.612903  -2.5  -0.4         60.384285   \n",
       "37  50.000000  56.521739  -0.2  -0.7         63.264858   \n",
       "38  46.153846  59.259259   0.0  -3.5         54.310997   \n",
       "\n",
       "    Measured_PE_efficiency  DeepPrime_score  \n",
       "0                13.548111         0.236303  \n",
       "1                 6.623650         0.006820  \n",
       "2                16.010170         1.503004  \n",
       "3                17.159046         0.189190  \n",
       "4                 4.924110         0.813578  \n",
       "..                     ...              ...  \n",
       "34               29.943587         0.751485  \n",
       "35               17.794598         0.271042  \n",
       "36               12.988252         1.613805  \n",
       "37               14.645327         1.248609  \n",
       "38                1.758639         0.163209  \n",
       "\n",
       "[199 rows x 30 columns]"
      ]
     },
     "execution_count": 209,
     "metadata": {},
     "output_type": "execute_result"
    }
   ],
   "source": [
    "# Concatenate all the test data frames\n",
    "\n",
    "concatenated = pd.concat(all_test_df)\n",
    "concatenated"
   ]
  },
  {
   "cell_type": "code",
   "execution_count": 203,
   "id": "62e258c6-2a3b-4ccb-8da5-670e0cbf9786",
   "metadata": {
    "tags": []
   },
   "outputs": [],
   "source": [
    "import matplotlib.pyplot as plt\n",
    "from scipy.stats import pearsonr, spearmanr"
   ]
  },
  {
   "cell_type": "code",
   "execution_count": 210,
   "id": "4eab0d3e-90fa-4727-b013-27b690f5cf9d",
   "metadata": {
    "tags": []
   },
   "outputs": [
    {
     "name": "stdout",
     "output_type": "stream",
     "text": [
      "0.2826689703501266 0.41654338565623017\n"
     ]
    }
   ],
   "source": [
    "x = concatenated['Measured_PE_efficiency']\n",
    "y = concatenated['DeepPrime_score']\n",
    "                           \n",
    "pearson_corr, pearson_p_value = pearsonr(x, y)\n",
    "spearman_corr, spearman_p_value = spearmanr(x, y)\n",
    "                           \n",
    "\n",
    "print(pearson_corr, spearman_corr)"
   ]
  },
  {
   "cell_type": "code",
   "execution_count": 206,
   "id": "c6827784-00d9-4ede-9565-c4aae672be60",
   "metadata": {
    "tags": []
   },
   "outputs": [
    {
     "data": {
      "image/png": "[encoded data removed]",
      "text/plain": [
       "<Figure size 640x480 with 1 Axes>"
      ]
     },
     "metadata": {},
     "output_type": "display_data"
    }
   ],
   "source": [
    "plt.scatter(x, y, s= 0.5, alpha=0.5)\n",
    "\n",
    "# for gene, color in color_mapping.items():\n",
    "#     plt.scatter(x[df_input['Gene'] == gene], y[df_input['Gene'] == gene], \n",
    "#                 s=10, c=color, label=gene)\n",
    "\n",
    "# Add labels and title\n",
    "plt.xlabel('Measured_Editing_Frequency')\n",
    "plt.ylabel('DeepPrime_Predicted_Efficiency')\n",
    "plt.title('ClinVar_Test Data: Endogenous Measured vs. Predicted Efficiencies')\n",
    "# plt.legend(title='Gene', loc = 'lower right')\n",
    "\n",
    "\n",
    "\n",
    "plt.plot(np.unique(x), np.poly1d(np.polyfit(x, y, 1))(np.unique(x)), color='red', label='Regression Line (Pearson)')\n",
    "\n",
    "\n",
    "plt.text(min(x), max(y), f\"r: {pearson_corr:.2f}\", fontsize=10)\n",
    "\n",
    "# Annotate Spearman correlation coefficient\n",
    "plt.text(min(x), max(y)-2, f\"R: {spearman_corr:.2f}\", fontsize=10)\n",
    "\n",
    "plt.text(min(x), max(y)-4, \"n = \"+ str(len(concatenated)), fontsize=10)\n",
    "\n",
    "\n",
    "# Show the plot\n",
    "plt.show()"
   ]
  }
 ],
 "metadata": {
  "kernelspec": {
   "display_name": "DeepPrime",
   "language": "python",
   "name": "genet"
  },
  "language_info": {
   "codemirror_mode": {
    "name": "ipython",
    "version": 3
   },
   "file_extension": ".py",
   "mimetype": "text/x-python",
   "name": "python",
   "nbconvert_exporter": "python",
   "pygments_lexer": "ipython3",
   "version": "3.8.18"
  }
 },
 "nbformat": 4,
 "nbformat_minor": 5
}
